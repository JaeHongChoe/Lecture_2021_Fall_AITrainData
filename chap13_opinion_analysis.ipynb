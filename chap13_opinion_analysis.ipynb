{
  "nbformat": 4,
  "nbformat_minor": 0,
  "metadata": {
    "kernelspec": {
      "display_name": "Python 3",
      "language": "python",
      "name": "python3"
    },
    "language_info": {
      "codemirror_mode": {
        "name": "ipython",
        "version": 3
      },
      "file_extension": ".py",
      "mimetype": "text/x-python",
      "name": "python",
      "nbconvert_exporter": "python",
      "pygments_lexer": "ipython3",
      "version": "3.8.3"
    },
    "colab": {
      "name": "chap13_opinion_analysis.ipynb",
      "provenance": [],
      "collapsed_sections": [
        "d5aTGMArfoRl"
      ]
    }
  },
  "cells": [
    {
      "cell_type": "markdown",
      "metadata": {
        "id": "CFHe-orffoRP"
      },
      "source": [
        "# 텍스트마이닝. 감성분석과 토픽분석"
      ]
    },
    {
      "cell_type": "markdown",
      "metadata": {
        "id": "7zS3bW6MfoRR"
      },
      "source": [
        "### - pandas 버전이 1.1.4 이상인지 확인하고, 아니라면 upgrade 하기. (pyLDA 에러 때문)"
      ]
    },
    {
      "cell_type": "code",
      "metadata": {
        "scrolled": true,
        "id": "kf05-OUKfoRR"
      },
      "source": [
        "import pandas as pd\n",
        "#pd.show_versions()"
      ],
      "execution_count": 1,
      "outputs": []
    },
    {
      "cell_type": "markdown",
      "metadata": {
        "id": "uLBDRBmFfoRT"
      },
      "source": [
        "## pandas 버전이 1.1.4 이상이 아니라면, --upgrade 명령으로 버전을 업그레이드\n"
      ]
    },
    {
      "cell_type": "markdown",
      "metadata": {
        "id": "l6OEUTcLfoRT"
      },
      "source": [
        "### - Anaconda Prompt 를 [관리자권한으로 실행] 한 후에, 명령어 입력:  pip  install  --upgrade  pandas \n",
        "###    -> 업그레이드 설치를 적용하기 위해서, Jupyter Notobook을 종료했다가 다시 실행하기 !!"
      ]
    },
    {
      "cell_type": "code",
      "metadata": {
        "colab": {
          "base_uri": "https://localhost:8080/",
          "height": 36
        },
        "id": "5xzXHvAzfoRT",
        "outputId": "8d7bdd23-c0ce-4d11-be5b-0aa7be81615e"
      },
      "source": [
        "import pandas as pd\n",
        "pd.__version__"
      ],
      "execution_count": 2,
      "outputs": [
        {
          "output_type": "execute_result",
          "data": {
            "application/vnd.google.colaboratory.intrinsic+json": {
              "type": "string"
            },
            "text/plain": [
              "'1.3.4'"
            ]
          },
          "metadata": {},
          "execution_count": 2
        }
      ]
    },
    {
      "cell_type": "code",
      "metadata": {
        "id": "1hJcYPGLih3y"
      },
      "source": [
        "#!pip uninstall numpy\n",
        "#!pip uninstall pandas\n",
        "\n",
        "#!pip install --user numpy\n",
        "#!pip install --user  pandas"
      ],
      "execution_count": null,
      "outputs": []
    },
    {
      "cell_type": "markdown",
      "metadata": {
        "id": "9wZw7Xi3foRU"
      },
      "source": [
        "### 한글 UnicoedEncodingError를 방지하기 위해 기본 인코딩을 \"utf-8\"로 설정"
      ]
    },
    {
      "cell_type": "code",
      "metadata": {
        "id": "2uY5ZQU4foRU"
      },
      "source": [
        "import os\n",
        "os.environ[\"PYTHONIOENCODING\"] = \"utf-8\""
      ],
      "execution_count": 3,
      "outputs": []
    },
    {
      "cell_type": "markdown",
      "metadata": {
        "id": "pqMTtKrafoRU"
      },
      "source": [
        "### 경고메시지 표시 안하게 설정하기"
      ]
    },
    {
      "cell_type": "code",
      "metadata": {
        "id": "PYo_FgVffoRU"
      },
      "source": [
        "import warnings\n",
        "warnings.filterwarnings(action='ignore')"
      ],
      "execution_count": 4,
      "outputs": []
    },
    {
      "cell_type": "markdown",
      "metadata": {
        "id": "lHgP-GQnfoRV"
      },
      "source": [
        "#  감성 분류 모델 구축"
      ]
    },
    {
      "cell_type": "markdown",
      "metadata": {
        "id": "rbTdao6tfoRV"
      },
      "source": [
        "## 1. 데이터 수집"
      ]
    },
    {
      "cell_type": "markdown",
      "metadata": {
        "id": "37FOzpFtfoRV"
      },
      "source": [
        "#### 깃허브에서 데이터 파일 다운로드 : https://github.com/e9t/nsmc "
      ]
    },
    {
      "cell_type": "markdown",
      "metadata": {
        "id": "9lDRruRzfoRV"
      },
      "source": [
        "## 2. 데이터 준비 및 탐색"
      ]
    },
    {
      "cell_type": "markdown",
      "metadata": {
        "id": "Gdq9YtxXfoRV"
      },
      "source": [
        "### 2-1) 훈련용 데이터 준비"
      ]
    },
    {
      "cell_type": "markdown",
      "metadata": {
        "id": "-R63P4XdfoRW"
      },
      "source": [
        "#### (1) 훈련용 데이터 파일 로드"
      ]
    },
    {
      "cell_type": "code",
      "metadata": {
        "colab": {
          "base_uri": "https://localhost:8080/",
          "height": 206
        },
        "id": "p1Q5Z9Q9foRW",
        "outputId": "e67ea132-cb7f-4f93-b834-fc3d2bcbbc41"
      },
      "source": [
        "nsmc_train_df = pd.read_csv('./sample_data/ratings_train.txt', encoding='utf8', sep='\\t', engine='python')\n",
        "nsmc_train_df.head()"
      ],
      "execution_count": 5,
      "outputs": [
        {
          "output_type": "execute_result",
          "data": {
            "text/html": [
              "<div>\n",
              "<style scoped>\n",
              "    .dataframe tbody tr th:only-of-type {\n",
              "        vertical-align: middle;\n",
              "    }\n",
              "\n",
              "    .dataframe tbody tr th {\n",
              "        vertical-align: top;\n",
              "    }\n",
              "\n",
              "    .dataframe thead th {\n",
              "        text-align: right;\n",
              "    }\n",
              "</style>\n",
              "<table border=\"1\" class=\"dataframe\">\n",
              "  <thead>\n",
              "    <tr style=\"text-align: right;\">\n",
              "      <th></th>\n",
              "      <th>id</th>\n",
              "      <th>document</th>\n",
              "      <th>label</th>\n",
              "    </tr>\n",
              "  </thead>\n",
              "  <tbody>\n",
              "    <tr>\n",
              "      <th>0</th>\n",
              "      <td>9976970</td>\n",
              "      <td>아 더빙.. 진짜 짜증나네요 목소리</td>\n",
              "      <td>0</td>\n",
              "    </tr>\n",
              "    <tr>\n",
              "      <th>1</th>\n",
              "      <td>3819312</td>\n",
              "      <td>흠...포스터보고 초딩영화줄....오버연기조차 가볍지 않구나</td>\n",
              "      <td>1</td>\n",
              "    </tr>\n",
              "    <tr>\n",
              "      <th>2</th>\n",
              "      <td>10265843</td>\n",
              "      <td>너무재밓었다그래서보는것을추천한다</td>\n",
              "      <td>0</td>\n",
              "    </tr>\n",
              "    <tr>\n",
              "      <th>3</th>\n",
              "      <td>9045019</td>\n",
              "      <td>교도소 이야기구먼 ..솔직히 재미는 없다..평점 조정</td>\n",
              "      <td>0</td>\n",
              "    </tr>\n",
              "    <tr>\n",
              "      <th>4</th>\n",
              "      <td>6483659</td>\n",
              "      <td>사이몬페그의 익살스런 연기가 돋보였던 영화!스파이더맨에서 늙어보이기만 했던 커스틴 ...</td>\n",
              "      <td>1</td>\n",
              "    </tr>\n",
              "  </tbody>\n",
              "</table>\n",
              "</div>"
            ],
            "text/plain": [
              "         id                                           document  label\n",
              "0   9976970                                아 더빙.. 진짜 짜증나네요 목소리      0\n",
              "1   3819312                  흠...포스터보고 초딩영화줄....오버연기조차 가볍지 않구나      1\n",
              "2  10265843                                  너무재밓었다그래서보는것을추천한다      0\n",
              "3   9045019                      교도소 이야기구먼 ..솔직히 재미는 없다..평점 조정      0\n",
              "4   6483659  사이몬페그의 익살스런 연기가 돋보였던 영화!스파이더맨에서 늙어보이기만 했던 커스틴 ...      1"
            ]
          },
          "metadata": {},
          "execution_count": 5
        }
      ]
    },
    {
      "cell_type": "markdown",
      "metadata": {
        "id": "86sSjcsmfoRX"
      },
      "source": [
        "#### (2) 데이터의 정보 확인"
      ]
    },
    {
      "cell_type": "code",
      "metadata": {
        "scrolled": true,
        "colab": {
          "base_uri": "https://localhost:8080/"
        },
        "id": "mtnxQVQJfoRY",
        "outputId": "8a350709-f416-4fbe-d971-ee20f512be93"
      },
      "source": [
        "nsmc_train_df.info()"
      ],
      "execution_count": 6,
      "outputs": [
        {
          "output_type": "stream",
          "name": "stdout",
          "text": [
            "<class 'pandas.core.frame.DataFrame'>\n",
            "RangeIndex: 150000 entries, 0 to 149999\n",
            "Data columns (total 3 columns):\n",
            " #   Column    Non-Null Count   Dtype \n",
            "---  ------    --------------   ----- \n",
            " 0   id        150000 non-null  int64 \n",
            " 1   document  149995 non-null  object\n",
            " 2   label     150000 non-null  int64 \n",
            "dtypes: int64(2), object(1)\n",
            "memory usage: 3.4+ MB\n"
          ]
        }
      ]
    },
    {
      "cell_type": "markdown",
      "metadata": {
        "id": "R4uADG0RfoRY"
      },
      "source": [
        "#### (3) 'document'칼럼이 Null인 샘플 제거"
      ]
    },
    {
      "cell_type": "code",
      "metadata": {
        "id": "_n6qIozHfoRZ"
      },
      "source": [
        "nsmc_train_df = nsmc_train_df[nsmc_train_df['document'].notnull()]"
      ],
      "execution_count": 7,
      "outputs": []
    },
    {
      "cell_type": "code",
      "metadata": {
        "colab": {
          "base_uri": "https://localhost:8080/"
        },
        "id": "cLK-w_X9foRZ",
        "outputId": "11067b16-aca8-4497-9b7f-db3c41692d87"
      },
      "source": [
        "nsmc_train_df.info()"
      ],
      "execution_count": 8,
      "outputs": [
        {
          "output_type": "stream",
          "name": "stdout",
          "text": [
            "<class 'pandas.core.frame.DataFrame'>\n",
            "Int64Index: 149995 entries, 0 to 149999\n",
            "Data columns (total 3 columns):\n",
            " #   Column    Non-Null Count   Dtype \n",
            "---  ------    --------------   ----- \n",
            " 0   id        149995 non-null  int64 \n",
            " 1   document  149995 non-null  object\n",
            " 2   label     149995 non-null  int64 \n",
            "dtypes: int64(2), object(1)\n",
            "memory usage: 4.6+ MB\n"
          ]
        }
      ]
    },
    {
      "cell_type": "markdown",
      "metadata": {
        "id": "LC3g_PuqfoRa"
      },
      "source": [
        "#### (4) 타겟 컬럼 label 확인 (0: 부정감성,   1: 긍정감성)"
      ]
    },
    {
      "cell_type": "code",
      "metadata": {
        "scrolled": true,
        "colab": {
          "base_uri": "https://localhost:8080/"
        },
        "id": "nrlH3AxDfoRb",
        "outputId": "b106c219-5962-4d89-ff03-c126fb28c7c0"
      },
      "source": [
        "nsmc_train_df['label'].value_counts()"
      ],
      "execution_count": 9,
      "outputs": [
        {
          "output_type": "execute_result",
          "data": {
            "text/plain": [
              "0    75170\n",
              "1    74825\n",
              "Name: label, dtype: int64"
            ]
          },
          "metadata": {},
          "execution_count": 9
        }
      ]
    },
    {
      "cell_type": "markdown",
      "metadata": {
        "id": "1T4Zil8IfoRb"
      },
      "source": [
        "#### (5) 한글 이외의 문자는 공백으로 변환 (정규표현식 이용)"
      ]
    },
    {
      "cell_type": "code",
      "metadata": {
        "id": "tci6iOA6foRb"
      },
      "source": [
        "import re"
      ],
      "execution_count": 10,
      "outputs": []
    },
    {
      "cell_type": "code",
      "metadata": {
        "scrolled": true,
        "colab": {
          "base_uri": "https://localhost:8080/",
          "height": 206
        },
        "id": "vwgwFS0sfoRc",
        "outputId": "28c5886e-9106-429a-d904-96a35422232d"
      },
      "source": [
        "nsmc_train_df['document'] = nsmc_train_df['document'].apply(lambda x : re.sub(r'[^ ㄱ-ㅣ가-힣]+', \" \", x))\n",
        "nsmc_train_df.head()"
      ],
      "execution_count": 11,
      "outputs": [
        {
          "output_type": "execute_result",
          "data": {
            "text/html": [
              "<div>\n",
              "<style scoped>\n",
              "    .dataframe tbody tr th:only-of-type {\n",
              "        vertical-align: middle;\n",
              "    }\n",
              "\n",
              "    .dataframe tbody tr th {\n",
              "        vertical-align: top;\n",
              "    }\n",
              "\n",
              "    .dataframe thead th {\n",
              "        text-align: right;\n",
              "    }\n",
              "</style>\n",
              "<table border=\"1\" class=\"dataframe\">\n",
              "  <thead>\n",
              "    <tr style=\"text-align: right;\">\n",
              "      <th></th>\n",
              "      <th>id</th>\n",
              "      <th>document</th>\n",
              "      <th>label</th>\n",
              "    </tr>\n",
              "  </thead>\n",
              "  <tbody>\n",
              "    <tr>\n",
              "      <th>0</th>\n",
              "      <td>9976970</td>\n",
              "      <td>아 더빙  진짜 짜증나네요 목소리</td>\n",
              "      <td>0</td>\n",
              "    </tr>\n",
              "    <tr>\n",
              "      <th>1</th>\n",
              "      <td>3819312</td>\n",
              "      <td>흠 포스터보고 초딩영화줄 오버연기조차 가볍지 않구나</td>\n",
              "      <td>1</td>\n",
              "    </tr>\n",
              "    <tr>\n",
              "      <th>2</th>\n",
              "      <td>10265843</td>\n",
              "      <td>너무재밓었다그래서보는것을추천한다</td>\n",
              "      <td>0</td>\n",
              "    </tr>\n",
              "    <tr>\n",
              "      <th>3</th>\n",
              "      <td>9045019</td>\n",
              "      <td>교도소 이야기구먼  솔직히 재미는 없다 평점 조정</td>\n",
              "      <td>0</td>\n",
              "    </tr>\n",
              "    <tr>\n",
              "      <th>4</th>\n",
              "      <td>6483659</td>\n",
              "      <td>사이몬페그의 익살스런 연기가 돋보였던 영화 스파이더맨에서 늙어보이기만 했던 커스틴 ...</td>\n",
              "      <td>1</td>\n",
              "    </tr>\n",
              "  </tbody>\n",
              "</table>\n",
              "</div>"
            ],
            "text/plain": [
              "         id                                           document  label\n",
              "0   9976970                                 아 더빙  진짜 짜증나네요 목소리      0\n",
              "1   3819312                       흠 포스터보고 초딩영화줄 오버연기조차 가볍지 않구나      1\n",
              "2  10265843                                  너무재밓었다그래서보는것을추천한다      0\n",
              "3   9045019                        교도소 이야기구먼  솔직히 재미는 없다 평점 조정      0\n",
              "4   6483659  사이몬페그의 익살스런 연기가 돋보였던 영화 스파이더맨에서 늙어보이기만 했던 커스틴 ...      1"
            ]
          },
          "metadata": {},
          "execution_count": 11
        }
      ]
    },
    {
      "cell_type": "markdown",
      "metadata": {
        "id": "1UUfbsyifoRd"
      },
      "source": [
        "### 2-2) 평가용 데이터 준비"
      ]
    },
    {
      "cell_type": "markdown",
      "metadata": {
        "id": "hWYN8hmSfoRd"
      },
      "source": [
        "#### (1) 평가용 데이터 파일 로드"
      ]
    },
    {
      "cell_type": "code",
      "metadata": {
        "colab": {
          "base_uri": "https://localhost:8080/",
          "height": 206
        },
        "id": "gDksrTdIfoRd",
        "outputId": "efdf19e8-8640-411a-9f81-107dba73e1bc"
      },
      "source": [
        "nsmc_test_df = pd.read_csv('./sample_data/ratings_test.txt', encoding='utf8', sep='\\t', engine='python')\n",
        "nsmc_test_df.head()"
      ],
      "execution_count": 12,
      "outputs": [
        {
          "output_type": "execute_result",
          "data": {
            "text/html": [
              "<div>\n",
              "<style scoped>\n",
              "    .dataframe tbody tr th:only-of-type {\n",
              "        vertical-align: middle;\n",
              "    }\n",
              "\n",
              "    .dataframe tbody tr th {\n",
              "        vertical-align: top;\n",
              "    }\n",
              "\n",
              "    .dataframe thead th {\n",
              "        text-align: right;\n",
              "    }\n",
              "</style>\n",
              "<table border=\"1\" class=\"dataframe\">\n",
              "  <thead>\n",
              "    <tr style=\"text-align: right;\">\n",
              "      <th></th>\n",
              "      <th>id</th>\n",
              "      <th>document</th>\n",
              "      <th>label</th>\n",
              "    </tr>\n",
              "  </thead>\n",
              "  <tbody>\n",
              "    <tr>\n",
              "      <th>0</th>\n",
              "      <td>6270596</td>\n",
              "      <td>굳 ㅋ</td>\n",
              "      <td>1</td>\n",
              "    </tr>\n",
              "    <tr>\n",
              "      <th>1</th>\n",
              "      <td>9274899</td>\n",
              "      <td>GDNTOPCLASSINTHECLUB</td>\n",
              "      <td>0</td>\n",
              "    </tr>\n",
              "    <tr>\n",
              "      <th>2</th>\n",
              "      <td>8544678</td>\n",
              "      <td>뭐야 이 평점들은.... 나쁘진 않지만 10점 짜리는 더더욱 아니잖아</td>\n",
              "      <td>0</td>\n",
              "    </tr>\n",
              "    <tr>\n",
              "      <th>3</th>\n",
              "      <td>6825595</td>\n",
              "      <td>지루하지는 않은데 완전 막장임... 돈주고 보기에는....</td>\n",
              "      <td>0</td>\n",
              "    </tr>\n",
              "    <tr>\n",
              "      <th>4</th>\n",
              "      <td>6723715</td>\n",
              "      <td>3D만 아니었어도 별 다섯 개 줬을텐데.. 왜 3D로 나와서 제 심기를 불편하게 하죠??</td>\n",
              "      <td>0</td>\n",
              "    </tr>\n",
              "  </tbody>\n",
              "</table>\n",
              "</div>"
            ],
            "text/plain": [
              "        id                                           document  label\n",
              "0  6270596                                                굳 ㅋ      1\n",
              "1  9274899                               GDNTOPCLASSINTHECLUB      0\n",
              "2  8544678             뭐야 이 평점들은.... 나쁘진 않지만 10점 짜리는 더더욱 아니잖아      0\n",
              "3  6825595                   지루하지는 않은데 완전 막장임... 돈주고 보기에는....      0\n",
              "4  6723715  3D만 아니었어도 별 다섯 개 줬을텐데.. 왜 3D로 나와서 제 심기를 불편하게 하죠??      0"
            ]
          },
          "metadata": {},
          "execution_count": 12
        }
      ]
    },
    {
      "cell_type": "markdown",
      "metadata": {
        "id": "K7kepGDDfoRe"
      },
      "source": [
        "#### (2) 데이터의 정보 확인"
      ]
    },
    {
      "cell_type": "code",
      "metadata": {
        "colab": {
          "base_uri": "https://localhost:8080/"
        },
        "id": "4ML4cBU2foRe",
        "outputId": "fba6125f-5674-4476-99c8-25308f65b323"
      },
      "source": [
        "nsmc_test_df.info()"
      ],
      "execution_count": 13,
      "outputs": [
        {
          "output_type": "stream",
          "name": "stdout",
          "text": [
            "<class 'pandas.core.frame.DataFrame'>\n",
            "RangeIndex: 50000 entries, 0 to 49999\n",
            "Data columns (total 3 columns):\n",
            " #   Column    Non-Null Count  Dtype \n",
            "---  ------    --------------  ----- \n",
            " 0   id        50000 non-null  int64 \n",
            " 1   document  49997 non-null  object\n",
            " 2   label     50000 non-null  int64 \n",
            "dtypes: int64(2), object(1)\n",
            "memory usage: 1.1+ MB\n"
          ]
        }
      ]
    },
    {
      "cell_type": "markdown",
      "metadata": {
        "id": "93AK4Av5foRf"
      },
      "source": [
        "#### (3) 'document'칼럼이 Null인 샘플 제거"
      ]
    },
    {
      "cell_type": "code",
      "metadata": {
        "id": "F1OXntfOfoRf"
      },
      "source": [
        "nsmc_test_df = nsmc_test_df[nsmc_test_df['document'].notnull()]"
      ],
      "execution_count": 14,
      "outputs": []
    },
    {
      "cell_type": "markdown",
      "metadata": {
        "id": "HVn08RL1foRg"
      },
      "source": [
        "#### (4) 타겟 컬럼 label 확인 (0: 부정감성, 1: 긍정감성)"
      ]
    },
    {
      "cell_type": "code",
      "metadata": {
        "colab": {
          "base_uri": "https://localhost:8080/"
        },
        "id": "MaBv2jZKfoRg",
        "outputId": "5a2a08d5-33bf-49e2-fe4b-6d39ef8ee120"
      },
      "source": [
        "print(nsmc_test_df['label'].value_counts())"
      ],
      "execution_count": 15,
      "outputs": [
        {
          "output_type": "stream",
          "name": "stdout",
          "text": [
            "1    25171\n",
            "0    24826\n",
            "Name: label, dtype: int64\n"
          ]
        }
      ]
    },
    {
      "cell_type": "markdown",
      "metadata": {
        "id": "rzxjYdk4foRh"
      },
      "source": [
        "#### (5) 한글 이외의 문자는 공백으로 변환 (정규표현식 이용)"
      ]
    },
    {
      "cell_type": "code",
      "metadata": {
        "id": "39fOajerfoRh"
      },
      "source": [
        "nsmc_test_df['document'] = nsmc_test_df['document'].apply(lambda x : re.sub(r'[^ ㄱ-ㅣ가-힣]+', \"\", x))"
      ],
      "execution_count": 16,
      "outputs": []
    },
    {
      "cell_type": "markdown",
      "metadata": {
        "id": "ahYQj5h8foRi"
      },
      "source": [
        "## 3. 분석 모델 구축"
      ]
    },
    {
      "cell_type": "markdown",
      "metadata": {
        "id": "5zh8vMz7foRi"
      },
      "source": [
        "### 3-1) 피처 벡터화 : TF-IDF"
      ]
    },
    {
      "cell_type": "markdown",
      "metadata": {
        "id": "4zEPxOnVfoRi"
      },
      "source": [
        "#### (1) 형태소를 분석하여 토큰화 : 한글 형태소 엔진으로 Okt 이용"
      ]
    },
    {
      "cell_type": "code",
      "metadata": {
        "collapsed": true,
        "id": "h49OteUAfoRj"
      },
      "source": [
        "#!pip install konlpy"
      ],
      "execution_count": null,
      "outputs": []
    },
    {
      "cell_type": "code",
      "metadata": {
        "id": "KnK5HptHfoRj"
      },
      "source": [
        "from konlpy.tag import Okt\n",
        "\n",
        "okt = Okt()"
      ],
      "execution_count": 17,
      "outputs": []
    },
    {
      "cell_type": "code",
      "metadata": {
        "id": "553QhS2bfoRk"
      },
      "source": [
        "def okt_tokenizer(text):\n",
        "    tokens = okt.morphs(text)\n",
        "    return tokens"
      ],
      "execution_count": 18,
      "outputs": []
    },
    {
      "cell_type": "markdown",
      "metadata": {
        "id": "yP_ClH3tfoRk"
      },
      "source": [
        "#### (2) TF-IDF 기반 피처 벡터 생성 : 실행시간 10분 정도 걸립니다 ☺"
      ]
    },
    {
      "cell_type": "code",
      "metadata": {
        "id": "ba-Gf1n5foRl"
      },
      "source": [
        "from sklearn.feature_extraction.text import TfidfVectorizer\n",
        "\n",
        "tfidf = TfidfVectorizer(tokenizer = okt_tokenizer, ngram_range=(1,2), min_df=3, max_df=0.9)\n",
        "tfidf.fit(nsmc_train_df['document'])\n",
        "nsmc_train_tfidf = tfidf.transform(nsmc_train_df['document'])"
      ],
      "execution_count": 19,
      "outputs": []
    },
    {
      "cell_type": "markdown",
      "metadata": {
        "id": "d5aTGMArfoRl"
      },
      "source": [
        "### 3-2) 감성 분류 모델 구축 : 로지스틱 회귀를 이용한 이진 분류"
      ]
    },
    {
      "cell_type": "markdown",
      "metadata": {
        "id": "Uy__3n87foRl"
      },
      "source": [
        "### - Sentiment Analysis using Logistic Regression"
      ]
    },
    {
      "cell_type": "markdown",
      "metadata": {
        "id": "G6cVLVvvfoRm"
      },
      "source": [
        "#### (1) 로지스틱 회귀 기반 분석모델 생성"
      ]
    },
    {
      "cell_type": "code",
      "metadata": {
        "id": "V-iEw1QXfoRm"
      },
      "source": [
        "from sklearn.linear_model import LogisticRegression\n",
        "\n",
        "SA_lr = LogisticRegression(random_state = 0)"
      ],
      "execution_count": 20,
      "outputs": []
    },
    {
      "cell_type": "code",
      "metadata": {
        "colab": {
          "base_uri": "https://localhost:8080/"
        },
        "id": "VSu_BOSLfoRn",
        "outputId": "fa1a66fe-3187-4761-d78c-0acd5c36a826"
      },
      "source": [
        "SA_lr.fit(nsmc_train_tfidf, nsmc_train_df['label'])"
      ],
      "execution_count": 21,
      "outputs": [
        {
          "output_type": "execute_result",
          "data": {
            "text/plain": [
              "LogisticRegression(random_state=0)"
            ]
          },
          "metadata": {},
          "execution_count": 21
        }
      ]
    },
    {
      "cell_type": "markdown",
      "metadata": {
        "id": "zwe_MqNvfoRn"
      },
      "source": [
        "#### (2) 로지스틱 회귀의  best 하이퍼파라미터 찾기"
      ]
    },
    {
      "cell_type": "code",
      "metadata": {
        "id": "-fBA2wqKfoRn"
      },
      "source": [
        "from sklearn.model_selection import GridSearchCV\n",
        "\n",
        "params = {'C': [1, 3, 3.5, 4, 4.5, 5]}\n",
        "SA_lr_grid_cv = GridSearchCV(SA_lr, param_grid=params, cv=3, scoring='accuracy', verbose=1)"
      ],
      "execution_count": 22,
      "outputs": []
    },
    {
      "cell_type": "markdown",
      "metadata": {
        "id": "wA2ffpQ0foRo"
      },
      "source": [
        "#### (3) 최적 분석 모델 훈련"
      ]
    },
    {
      "cell_type": "code",
      "metadata": {
        "colab": {
          "base_uri": "https://localhost:8080/"
        },
        "id": "sY6LKcMUfoRo",
        "outputId": "0bec38e1-a985-4f15-f3de-fe88fb17f540"
      },
      "source": [
        "SA_lr_grid_cv.fit(nsmc_train_tfidf, nsmc_train_df['label'])"
      ],
      "execution_count": 23,
      "outputs": [
        {
          "output_type": "stream",
          "name": "stdout",
          "text": [
            "Fitting 3 folds for each of 6 candidates, totalling 18 fits\n"
          ]
        },
        {
          "output_type": "execute_result",
          "data": {
            "text/plain": [
              "GridSearchCV(cv=3, estimator=LogisticRegression(random_state=0),\n",
              "             param_grid={'C': [1, 3, 3.5, 4, 4.5, 5]}, scoring='accuracy',\n",
              "             verbose=1)"
            ]
          },
          "metadata": {},
          "execution_count": 23
        }
      ]
    },
    {
      "cell_type": "code",
      "metadata": {
        "colab": {
          "base_uri": "https://localhost:8080/"
        },
        "id": "F-tbMlpqfoRp",
        "outputId": "f5b27d4b-10fe-4ac8-fcc9-a16bdaf25a4f"
      },
      "source": [
        "print(SA_lr_grid_cv.best_params_, round(SA_lr_grid_cv.best_score_, 4))"
      ],
      "execution_count": 24,
      "outputs": [
        {
          "output_type": "stream",
          "name": "stdout",
          "text": [
            "{'C': 3} 0.8553\n"
          ]
        }
      ]
    },
    {
      "cell_type": "code",
      "metadata": {
        "id": "AXHZor_qfoRp"
      },
      "source": [
        "# 최적 파라미터의 best 모델 저장\n",
        "SA_lr_best = SA_lr_grid_cv.best_estimator_"
      ],
      "execution_count": 28,
      "outputs": []
    },
    {
      "cell_type": "markdown",
      "metadata": {
        "id": "lqJfCvWWfoRq"
      },
      "source": [
        "## 4. 분석 모델 평가"
      ]
    },
    {
      "cell_type": "markdown",
      "metadata": {
        "id": "FN6tVcycfoRq"
      },
      "source": [
        "### 4-1) 평가용 데이터를 이용하여 감성 분석 모델 정확도"
      ]
    },
    {
      "cell_type": "code",
      "metadata": {
        "id": "NcNyVwnafoRq"
      },
      "source": [
        "# 평가용 데이터의 피처 벡터화 : 실행시간 6분 정도 걸립니다 ☺\n",
        "nsmc_test_tfidf = tfidf.transform(nsmc_test_df['document'])"
      ],
      "execution_count": 25,
      "outputs": []
    },
    {
      "cell_type": "code",
      "metadata": {
        "id": "rIJrl--PfoRr"
      },
      "source": [
        "test_predict = SA_lr_best.predict(nsmc_test_tfidf)"
      ],
      "execution_count": 29,
      "outputs": []
    },
    {
      "cell_type": "code",
      "metadata": {
        "scrolled": true,
        "colab": {
          "base_uri": "https://localhost:8080/"
        },
        "id": "TOynS6qcfoRr",
        "outputId": "b989d957-aad7-4a67-dd2d-aa69e5e6d083"
      },
      "source": [
        "from sklearn.metrics import accuracy_score\n",
        "\n",
        "print('감성 분석 정확도 : ', round(accuracy_score(nsmc_test_df['label'], test_predict), 3))"
      ],
      "execution_count": 30,
      "outputs": [
        {
          "output_type": "stream",
          "name": "stdout",
          "text": [
            "감성 분석 정확도 :  0.857\n"
          ]
        }
      ]
    },
    {
      "cell_type": "markdown",
      "metadata": {
        "id": "O1wMlLWrfoRs"
      },
      "source": [
        "### 4-2) 새로운 텍스트에 대한 감성 예측"
      ]
    },
    {
      "cell_type": "code",
      "metadata": {
        "colab": {
          "base_uri": "https://localhost:8080/"
        },
        "id": "jBPUwgr_foRs",
        "outputId": "39fcc89a-82a7-4bf2-c0fd-9a88ad8c3a72"
      },
      "source": [
        "st = input('감성 분석할 문장입력 >> ')"
      ],
      "execution_count": 36,
      "outputs": [
        {
          "name": "stdout",
          "output_type": "stream",
          "text": [
            "감성 분석할 문장입력 >> 나는 지금 등교중입니다.\n"
          ]
        }
      ]
    },
    {
      "cell_type": "code",
      "metadata": {
        "colab": {
          "base_uri": "https://localhost:8080/"
        },
        "id": "Moq6FMmFfoRs",
        "outputId": "cbe74426-7c94-4c52-e35e-85100cd0dc81"
      },
      "source": [
        "# 0) 입력 텍스트에 대한 전처리 수행\n",
        "st = re.compile(r'[ㄱ-ㅣ가-힣]+').findall(st)\n",
        "print(st)\n",
        "st = [\" \".join(st)]\n",
        "print(st)"
      ],
      "execution_count": 37,
      "outputs": [
        {
          "output_type": "stream",
          "name": "stdout",
          "text": [
            "['나는', '지금', '등교중입니다']\n",
            "['나는 지금 등교중입니다']\n"
          ]
        }
      ]
    },
    {
      "cell_type": "code",
      "metadata": {
        "id": "wy2FPtWyfoRt"
      },
      "source": [
        "# 1) 입력 텍스트의 피처 벡터화\n",
        "st_tfidf = tfidf.transform(st)\n",
        "\n",
        "# 2) 최적 감성분석 모델에 적용하여 감성 분석 평가\n",
        "st_predict = SA_lr_best.predict(st_tfidf)"
      ],
      "execution_count": 38,
      "outputs": []
    },
    {
      "cell_type": "code",
      "metadata": {
        "colab": {
          "base_uri": "https://localhost:8080/"
        },
        "id": "vOdIrYh8foRt",
        "outputId": "fde868cf-917f-4532-bb24-9291939ee7bd"
      },
      "source": [
        "# 3) 예측 값 출력하기\n",
        "if(st_predict== 0):\n",
        "    print(st , \"->> 부정 감성\")\n",
        "else :\n",
        "    print(st , \"->> 긍정 감성\")"
      ],
      "execution_count": 39,
      "outputs": [
        {
          "output_type": "stream",
          "name": "stdout",
          "text": [
            "['나는 지금 등교중입니다'] ->> 긍정 감성\n"
          ]
        }
      ]
    }
  ]
}