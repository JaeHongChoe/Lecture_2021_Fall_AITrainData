{
  "nbformat": 4,
  "nbformat_minor": 0,
  "metadata": {
    "colab": {
      "name": "chap06_1_Lib_Crawler_hollys.ipynb",
      "provenance": [],
      "collapsed_sections": []
    },
    "kernelspec": {
      "name": "python3",
      "display_name": "Python 3"
    },
    "language_info": {
      "name": "python"
    }
  },
  "cells": [
    {
      "cell_type": "code",
      "metadata": {
        "id": "JVcnjReCoL6m"
      },
      "source": [
        "from bs4 import BeautifulSoup\n",
        "import urllib.request\n",
        "import pandas as pd\n",
        "import datetime\n"
      ],
      "execution_count": null,
      "outputs": []
    },
    {
      "cell_type": "code",
      "metadata": {
        "id": "703iZD1voSgf"
      },
      "source": [
        "#[CODE 1]\n",
        "def hollys_store(result):\n",
        "    for page in range(57,60):\n",
        "        Hollys_url = 'https://www.hollys.co.kr/store/korea/korStore.do?pageNo=%d&sido=&gugun=&store=' %page\n",
        "        print(Hollys_url)\n",
        "        html = urllib.request.urlopen(Hollys_url)\n",
        "        #print('html', html)\n",
        "        soupHollys = BeautifulSoup(html, 'html.parser')\n",
        "        #print('soupHollys', soupHollys)\n",
        "        tag_tbody = soupHollys.find('tbody')\n",
        "        #print('tag_tbody', tag_tbody)\n",
        "        for store in tag_tbody.find_all('tr'):\n",
        "            if len(store) <= 3:\n",
        "                #print(store)\n",
        "                break\n",
        "            store_td = store.find_all('td')\n",
        "            store_name = store_td[1].string\n",
        "            store_sido = store_td[0].string\n",
        "            store_address = store_td[3].string\n",
        "            store_phone = store_td[5].string\n",
        "            result.append([store_name]+[store_sido]+[store_address]\n",
        "                          +[store_phone])\n",
        "    return"
      ],
      "execution_count": null,
      "outputs": []
    },
    {
      "cell_type": "code",
      "metadata": {
        "id": "gCehVVkEoVq9"
      },
      "source": [
        "#[CODE 0]\n",
        "def main():\n",
        "    result = []\n",
        "    print('Hollys store crawling >>>>>>>>>>>>>>>>>>>>>>>>>>')\n",
        "    hollys_store(result)   #[CODE 1] 호출 \n",
        "    hollys_tbl = pd.DataFrame(result, columns=('store', 'sido-gu', 'address','phone'))\n",
        "    #print(result[0])\n",
        "    #print(result[1])\n",
        "    hollys_tbl.to_csv('./sample_data/hollys.csv', encoding='cp949', mode='w', index=True) #encoding? mode?, index? \n",
        "    del result[:]\n",
        " "
      ],
      "execution_count": null,
      "outputs": []
    },
    {
      "cell_type": "code",
      "metadata": {
        "colab": {
          "base_uri": "https://localhost:8080/"
        },
        "id": "JiCZ0Gj1oXqY",
        "outputId": "73d78e05-0cc3-4456-a544-8f39c5845cd4"
      },
      "source": [
        "if __name__ == '__main__':\n",
        "     main()"
      ],
      "execution_count": null,
      "outputs": [
        {
          "output_type": "stream",
          "name": "stdout",
          "text": [
            "Hollys store crawling >>>>>>>>>>>>>>>>>>>>>>>>>>\n",
            "https://www.hollys.co.kr/store/korea/korStore.do?pageNo=57&sido=&gugun=&store=\n",
            "https://www.hollys.co.kr/store/korea/korStore.do?pageNo=58&sido=&gugun=&store=\n",
            "https://www.hollys.co.kr/store/korea/korStore.do?pageNo=59&sido=&gugun=&store=\n",
            "['교통회관점', '서울 송파구', '서울시 송파구 올림픽로 319 교통회관 1층', '02-3431-1120']\n",
            "['마포역점', '서울 마포구', '서울시 마포구 도화동 555 한화오벨리스크B1 137~9', '02-713-8788']\n"
          ]
        }
      ]
    },
    {
      "cell_type": "code",
      "metadata": {
        "id": "IKo-AJEzoakX"
      },
      "source": [
        ""
      ],
      "execution_count": null,
      "outputs": []
    }
  ]
}