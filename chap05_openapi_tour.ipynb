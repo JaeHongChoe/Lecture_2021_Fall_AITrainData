{
  "nbformat": 4,
  "nbformat_minor": 0,
  "metadata": {
    "colab": {
      "name": "chap05_openapi_tour.ipynb",
      "provenance": [],
      "collapsed_sections": []
    },
    "kernelspec": {
      "name": "python3",
      "display_name": "Python 3"
    },
    "language_info": {
      "name": "python"
    }
  },
  "cells": [
    {
      "cell_type": "code",
      "metadata": {
        "id": "vMCeMF1aTHUo"
      },
      "source": [
        "import os\n",
        "import sys\n",
        "import urllib.request\n",
        "import datetime\n",
        "import time\n",
        "import json\n",
        "import pandas as pd\n",
        "\n",
        "ServiceKey=\"P6SW7T8UunDucLnvH3X%2FKJLjYmdlTt7W853R1OSzq2djoN%2BxixR0o7kjUqLT8e6d6U26ZDU6eDXidmb16ixQbw%3D%3D\""
      ],
      "execution_count": 16,
      "outputs": []
    },
    {
      "cell_type": "code",
      "metadata": {
        "id": "ZN-qsRtXTNgX"
      },
      "source": [
        "#[CODE 1]\n",
        "def getRequestUrl(url):    \n",
        "    req = urllib.request.Request(url)    \n",
        "    try: \n",
        "        response = urllib.request.urlopen(req)\n",
        "        if response.getcode() == 200:\n",
        "            print (\"[%s] Url Request Success\" % datetime.datetime.now())\n",
        "            return response.read().decode('utf-8')\n",
        "    except Exception as e:\n",
        "        print(e)\n",
        "        print(\"[%s] Error for URL : %s\" % (datetime.datetime.now(), url))\n",
        "        return None"
      ],
      "execution_count": 17,
      "outputs": []
    },
    {
      "cell_type": "code",
      "metadata": {
        "id": "k7Q-B7nkTPal"
      },
      "source": [
        "#[CODE 2]\n",
        "def getTourismStatsItem(yyyymm, national_code, ed_cd):    \n",
        "    service_url = \"http://openapi.tour.go.kr/openapi/service/EdrcntTourismStatsService/getEdrcntTourismStatsList\"\n",
        "    parameters = \"?_type=json&serviceKey=\" + ServiceKey   #인증키\n",
        "    parameters += \"&YM=\" + yyyymm\n",
        "    parameters += \"&NAT_CD=\" + national_code\n",
        "    parameters += \"&ED_CD=\" + ed_cd\n",
        "    url = service_url + parameters\n",
        "    \n",
        "    retData = getRequestUrl(url)   #[CODE 1]\n",
        "    \n",
        "    if (retData == None):\n",
        "        return None\n",
        "    else:\n",
        "         return json.loads(retData)"
      ],
      "execution_count": 18,
      "outputs": []
    },
    {
      "cell_type": "code",
      "metadata": {
        "id": "aGYp61vrTQk-"
      },
      "source": [
        "#[CODE 3]\n",
        "def getTourismStatsService(nat_cd, ed_cd, nStartYear, nEndYear):\n",
        "    jsonResult = []\n",
        "    result = []\n",
        "    natName=''\n",
        "    dataEND = \"{0}{1:0>2}\".format(str(nEndYear), str(12)) #데이터 끝 초기화\n",
        "    isDataEnd = 0 #데이터 끝 확인용 flag 초기화    \n",
        "    \n",
        "    for year in range(nStartYear, nEndYear+1):        \n",
        "        for month in range(1, 13):\n",
        "            if(isDataEnd == 1): break #데이터 끝 flag 설정되어있으면 작업 중지.\n",
        "            yyyymm = \"{0}{1:0>2}\".format(str(year), str(month))            \n",
        "            jsonData = getTourismStatsItem(yyyymm, nat_cd, ed_cd) #[CODE 2]\n",
        "            \n",
        "            if (jsonData['response']['header']['resultMsg'] == 'OK'):               \n",
        "                # 입력된 범위까지 수집하지 않았지만, 더이상 제공되는 데이터가 없는 마지막 항목인 경우 -------------------\n",
        "                if jsonData['response']['body']['items'] == '': \n",
        "                    isDataEnd = 1 #데이터 끝 flag 설정\n",
        "                    dataEND = \"{0}{1:0>2}\".format(str(year), str(month-1))\n",
        "                    print(\"데이터 없음.... \\n 제공되는 통계 데이터는 %s년 %s월까지입니다.\"                          \n",
        "                          %(str(year), str(month-1)))                    \n",
        "                    break                \n",
        "                #jsonData를 출력하여 확인......................................................\n",
        "                #print (json.dumps(jsonData, indent=4, \n",
        "                #         sort_keys=True, ensure_ascii=False))          \n",
        "                natName = jsonData['response']['body']['items']['item']['natKorNm']\n",
        "                natName = natName.replace(' ', '')\n",
        "                num = jsonData['response']['body']['items']['item']['num']\n",
        "                ed = jsonData['response']['body']['items']['item']['ed']\n",
        "                print('[ %s_%s : %s , %s]' %(natName, yyyymm, num, ed))\n",
        "                print('----------------------------------------------------------------------')                \n",
        "                jsonResult.append({'nat_name': natName, 'nat_cd': nat_cd,\n",
        "                                 'yyyymm': yyyymm, 'visit_cnt': num})\n",
        "                result.append([natName, nat_cd, yyyymm, num])\n",
        "                \n",
        "    return (jsonResult, result, natName, ed, dataEND)"
      ],
      "execution_count": 22,
      "outputs": []
    },
    {
      "cell_type": "code",
      "metadata": {
        "id": "6P23i07VTSSO"
      },
      "source": [
        "#[CODE 0]\n",
        "def main():\n",
        "    jsonResult = []\n",
        "    result = []\n",
        "    natName=''\n",
        "    print(\"<< 국내 입국한 외국인의 통계 데이터를 수집합니다. >>\")\n",
        "    nat_cd = input('국가 코드를 입력하세요(중국: 112 / 일본: 130 / 미국: 275) : ')\n",
        "    nStartYear =int(input('데이터를 몇 년부터 수집할까요? : '))\n",
        "    nEndYear = int(input('데이터를 몇 년까지 수집할까요? : '))\n",
        "    ed_cd = \"E\"     #E : 방한외래관광객, D : 해외 출국\n",
        "    \n",
        "    jsonResult, result, natName, ed, dataEND =getTourismStatsService(nat_cd,\n",
        "                                            ed_cd, nStartYear, nEndYear) #[CODE 3]\n",
        "\n",
        "    if (natName=='') : #URL 요청은 성공하였지만, 데이터 제공이 안된 경우\n",
        "        print('데이터가 전달되지 않았습니다. 공공데이터포털의 서비스 상태를 확인하기 바랍니다.')\n",
        "    else:\n",
        "        #파일저장 1 : json 파일       \n",
        "        with open('./%s_%s_%d_%s.json' % (natName, ed, nStartYear, dataEND), 'w', \n",
        "                    encoding='utf8') as outfile:\n",
        "            jsonFile  = json.dumps(jsonResult, indent=4, sort_keys=True, ensure_ascii=False)\n",
        "            outfile.write(jsonFile)\n",
        "        #파일저장 2 : csv 파일   \n",
        "        columns = [\"입국자국가\", \"국가코드\", \"입국연월\", \"입국자 수\"]\n",
        "        result_df = pd.DataFrame(result, columns = columns)\n",
        "        result_df.to_csv('./%s_%s_%d_%s.csv' % (natName, ed, nStartYear, dataEND),\n",
        "                    index=False, encoding='cp949')"
      ],
      "execution_count": 20,
      "outputs": []
    },
    {
      "cell_type": "code",
      "metadata": {
        "colab": {
          "base_uri": "https://localhost:8080/"
        },
        "id": "J4IyJNSZTTy2",
        "outputId": "55df332e-2406-4819-a31c-d4b4685c7b00"
      },
      "source": [
        "if __name__ == '__main__':\n",
        "    main()"
      ],
      "execution_count": 23,
      "outputs": [
        {
          "output_type": "stream",
          "name": "stdout",
          "text": [
            "<< 국내 입국한 외국인의 통계 데이터를 수집합니다. >>\n",
            "국가 코드를 입력하세요(중국: 112 / 일본: 130 / 미국: 275) : 112\n",
            "데이터를 몇 년부터 수집할까요? : 2010\n",
            "데이터를 몇 년까지 수집할까요? : 2011\n",
            "[2021-11-09 15:30:18.545846] Url Request Success\n",
            "[ 중국_201001 : 91252 , 방한외래관광객]\n",
            "----------------------------------------------------------------------\n",
            "[2021-11-09 15:30:19.180814] Url Request Success\n",
            "[ 중국_201002 : 140571 , 방한외래관광객]\n",
            "----------------------------------------------------------------------\n",
            "[2021-11-09 15:30:19.568273] Url Request Success\n",
            "[ 중국_201003 : 141457 , 방한외래관광객]\n",
            "----------------------------------------------------------------------\n",
            "[2021-11-09 15:30:19.955745] Url Request Success\n",
            "[ 중국_201004 : 147680 , 방한외래관광객]\n",
            "----------------------------------------------------------------------\n",
            "[2021-11-09 15:30:20.343290] Url Request Success\n",
            "[ 중국_201005 : 154066 , 방한외래관광객]\n",
            "----------------------------------------------------------------------\n",
            "[2021-11-09 15:30:20.732345] Url Request Success\n",
            "[ 중국_201006 : 150119 , 방한외래관광객]\n",
            "----------------------------------------------------------------------\n",
            "[2021-11-09 15:30:21.120844] Url Request Success\n",
            "[ 중국_201007 : 195188 , 방한외래관광객]\n",
            "----------------------------------------------------------------------\n",
            "[2021-11-09 15:30:21.510421] Url Request Success\n",
            "[ 중국_201008 : 241987 , 방한외래관광객]\n",
            "----------------------------------------------------------------------\n",
            "[2021-11-09 15:30:21.906696] Url Request Success\n",
            "[ 중국_201009 : 176196 , 방한외래관광객]\n",
            "----------------------------------------------------------------------\n",
            "[2021-11-09 15:30:22.301864] Url Request Success\n",
            "[ 중국_201010 : 181428 , 방한외래관광객]\n",
            "----------------------------------------------------------------------\n",
            "[2021-11-09 15:30:22.693078] Url Request Success\n",
            "[ 중국_201011 : 136152 , 방한외래관광객]\n",
            "----------------------------------------------------------------------\n",
            "[2021-11-09 15:30:23.084984] Url Request Success\n",
            "[ 중국_201012 : 119061 , 방한외래관광객]\n",
            "----------------------------------------------------------------------\n",
            "[2021-11-09 15:30:23.884777] Url Request Success\n",
            "[ 중국_201101 : 113927 , 방한외래관광객]\n",
            "----------------------------------------------------------------------\n",
            "[2021-11-09 15:30:24.282937] Url Request Success\n",
            "[ 중국_201102 : 157019 , 방한외래관광객]\n",
            "----------------------------------------------------------------------\n",
            "[2021-11-09 15:30:24.668051] Url Request Success\n",
            "[ 중국_201103 : 163261 , 방한외래관광객]\n",
            "----------------------------------------------------------------------\n",
            "[2021-11-09 15:30:25.063388] Url Request Success\n",
            "[ 중국_201104 : 153875 , 방한외래관광객]\n",
            "----------------------------------------------------------------------\n",
            "[2021-11-09 15:30:25.453193] Url Request Success\n",
            "[ 중국_201105 : 152347 , 방한외래관광객]\n",
            "----------------------------------------------------------------------\n",
            "[2021-11-09 15:30:25.848067] Url Request Success\n",
            "[ 중국_201106 : 179508 , 방한외래관광객]\n",
            "----------------------------------------------------------------------\n",
            "[2021-11-09 15:30:26.234493] Url Request Success\n",
            "[ 중국_201107 : 244573 , 방한외래관광객]\n",
            "----------------------------------------------------------------------\n",
            "[2021-11-09 15:30:26.622251] Url Request Success\n",
            "[ 중국_201108 : 276299 , 방한외래관광객]\n",
            "----------------------------------------------------------------------\n",
            "[2021-11-09 15:30:27.017924] Url Request Success\n",
            "[ 중국_201109 : 231462 , 방한외래관광객]\n",
            "----------------------------------------------------------------------\n",
            "[2021-11-09 15:30:27.406330] Url Request Success\n",
            "[ 중국_201110 : 214681 , 방한외래관광객]\n",
            "----------------------------------------------------------------------\n",
            "[2021-11-09 15:30:27.793816] Url Request Success\n",
            "[ 중국_201111 : 174164 , 방한외래관광객]\n",
            "----------------------------------------------------------------------\n",
            "[2021-11-09 15:30:28.186761] Url Request Success\n",
            "[ 중국_201112 : 159080 , 방한외래관광객]\n",
            "----------------------------------------------------------------------\n"
          ]
        }
      ]
    },
    {
      "cell_type": "code",
      "metadata": {
        "id": "YRqj1tvMTU1m"
      },
      "source": [
        ""
      ],
      "execution_count": null,
      "outputs": []
    }
  ]
}