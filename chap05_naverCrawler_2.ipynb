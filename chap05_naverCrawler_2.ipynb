{
  "nbformat": 4,
  "nbformat_minor": 0,
  "metadata": {
    "colab": {
      "name": "ch5_naverCrawler_2.ipynb",
      "provenance": [],
      "collapsed_sections": []
    },
    "kernelspec": {
      "name": "python3",
      "display_name": "Python 3"
    },
    "language_info": {
      "name": "python"
    }
  },
  "cells": [
    {
      "cell_type": "code",
      "metadata": {
        "id": "LAL-wct9O-ZZ"
      },
      "source": [
        "import os\n",
        "import sys\n",
        "import urllib.request\n",
        "import datetime\n",
        "import time\n",
        "import json"
      ],
      "execution_count": 1,
      "outputs": []
    },
    {
      "cell_type": "code",
      "metadata": {
        "id": "eDRXdV3xPJNe"
      },
      "source": [
        "client_id = 'wqezF9TbkCfc3NEbeTMa' # 본인 id로 교체\n",
        "client_secret = 'Imeu2YneVw'"
      ],
      "execution_count": 2,
      "outputs": []
    },
    {
      "cell_type": "code",
      "metadata": {
        "id": "B1O2noMGPJod"
      },
      "source": [
        "#[CODE 1]\n",
        "def getRequestUrl(url):    \n",
        "    req = urllib.request.Request(url)\n",
        "    req.add_header(\"X-Naver-Client-Id\", client_id)\n",
        "    req.add_header(\"X-Naver-Client-Secret\", client_secret)\n",
        "    \n",
        "    #print('CODE 1-1')\n",
        "\n",
        "    try: \n",
        "        #print('CODE 1-1-1')\n",
        "        #print(req)\n",
        "        response = urllib.request.urlopen(req)\n",
        "        #print('CODE 1-1-2')\n",
        "        if response.getcode() == 200:\n",
        "            #print('CODE 1-1-3 ')\n",
        "            print (\"[%s] Url Request Success\" % datetime.datetime.now())\n",
        "            #print('CODE 1-1-4 ')\n",
        "            return response.read().decode('utf-8')\n",
        "    except Exception as e:\n",
        "        print(e)\n",
        "        print(\"[%s] Error for URL : %s\" % (datetime.datetime.now(), url))\n",
        "        return None"
      ],
      "execution_count": 3,
      "outputs": []
    },
    {
      "cell_type": "code",
      "metadata": {
        "id": "kp0ymL4kPLrh"
      },
      "source": [
        "#[CODE 2]\n",
        "def getNaverSearch(node, srcText, start, display):    \n",
        "    base = \"https://openapi.naver.com/v1/search\"\n",
        "    node = \"/%s.json\" % node\n",
        "    parameters = \"?query=%s&start=%s&display=%s\" % (urllib.parse.quote(srcText), start, display)\n",
        "\n",
        "    #print(urllib.parse.quote(srcText))\n",
        "    \n",
        "    url = base + node + parameters    \n",
        "    responseDecode = getRequestUrl(url)   #[CODE 1]\n",
        "        \n",
        "\n",
        "    if (responseDecode == None):\n",
        "        return None\n",
        "    else:\n",
        "        return json.loads(responseDecode)"
      ],
      "execution_count": 4,
      "outputs": []
    },
    {
      "cell_type": "code",
      "metadata": {
        "id": "1ezJfLAgPNHq"
      },
      "source": [
        "#[CODE 3] news - https://developers.naver.com/docs/search/news/\n",
        "def getPostData(post, jsonResult, cnt):    \n",
        "    title = post['title']\n",
        "    description = post['description']\n",
        "    org_link = post['originallink']\n",
        "    link = post['link']\n",
        "\n",
        "    pDate = datetime.datetime.strptime(post['pubDate'],  '%a, %d %b %Y %H:%M:%S +0900')\n",
        "    pDate = pDate.strftime('%Y-%m-%d %H:%M:%S')\n",
        "    \n",
        "    jsonResult.append({'cnt':cnt, 'title':title, 'description': description, \n",
        "'org_link':org_link,   'link': link ,   'pDate':pDate})\n",
        "        \n",
        "    return    "
      ],
      "execution_count": null,
      "outputs": []
    },
    {
      "cell_type": "code",
      "metadata": {
        "id": "G_qPFl23j_jS"
      },
      "source": [
        "#[CODE 3] blog - https://developers.naver.com/docs/search/blog/\n",
        "def getPostData(post, jsonResult, cnt):    \n",
        "    title = post['title']\n",
        "    link = post['link']\n",
        "    description = post['description']\n",
        "    bloggername = post['bloggername']\n",
        "    bloggerlink = post['bloggerlink']    \n",
        "\n",
        "    jsonResult.append({'cnt':cnt, 'title':title, 'description': description,\n",
        "                       'link': link, 'bloggername':bloggername, 'bloggerlink':bloggerlink})\n",
        "        \n",
        "    return    "
      ],
      "execution_count": null,
      "outputs": []
    },
    {
      "cell_type": "code",
      "metadata": {
        "id": "8hg_HEm0kUcH"
      },
      "source": [
        "#[CODE 3] book - https://developers.naver.com/docs/search/book/\n",
        "def getPostData(post, jsonResult, cnt):    \n",
        "    title = post['title']\n",
        "    link = post['link']\n",
        "\n",
        "    jsonResult.append({'cnt':cnt, 'title':title, 'link': link})\n",
        "        \n",
        "    return  "
      ],
      "execution_count": null,
      "outputs": []
    },
    {
      "cell_type": "code",
      "metadata": {
        "id": "HqrrZAUWxK4d"
      },
      "source": [
        "#[CODE 3] encyc - https://developers.naver.com/docs/search/encyc/\n",
        "def getPostData(post, jsonResult, cnt):    \n",
        "    title = post['title']\n",
        "    link = post['link']\n",
        "\n",
        "    jsonResult.append({'cnt':cnt, 'title':title, 'link': link})\n",
        "        \n",
        "    return  "
      ],
      "execution_count": null,
      "outputs": []
    },
    {
      "cell_type": "code",
      "metadata": {
        "id": "Nflw8GX7nYn3"
      },
      "source": [
        "#[CODE 3] cafearticle - https://developers.naver.com/docs/search/cafearticle/\n",
        "def getPostData(post, jsonResult, cnt):    \n",
        "    title = post['title']\n",
        "    link = post['link']\n",
        "\n",
        "    jsonResult.append({'cnt':cnt, 'title':title, 'link': link})\n",
        "        \n",
        "    return  "
      ],
      "execution_count": null,
      "outputs": []
    },
    {
      "cell_type": "code",
      "metadata": {
        "id": "xOpuRQTllA2A"
      },
      "source": [
        "#[CODE 3] kin - https://developers.naver.com/docs/search/kin/\n",
        "def getPostData(post, jsonResult, cnt):    \n",
        "    title = post['title']\n",
        "    link = post['link']\n",
        "\n",
        "    jsonResult.append({'cnt':cnt, 'title':title, 'link': link})\n",
        "        \n",
        "    return"
      ],
      "execution_count": null,
      "outputs": []
    },
    {
      "cell_type": "code",
      "metadata": {
        "id": "X00lfoRDrDz-"
      },
      "source": [
        "#[CODE 3] webkr - https://developers.naver.com/docs/search/webkr/\n",
        "def getPostData(post, jsonResult, cnt):    \n",
        "    title = post['title']\n",
        "    link = post['link']\n",
        "\n",
        "    jsonResult.append({'cnt':cnt, 'title':title, 'link': link})\n",
        "        \n",
        "    return    "
      ],
      "execution_count": null,
      "outputs": []
    },
    {
      "cell_type": "code",
      "metadata": {
        "id": "bQLE-bVkrOzd"
      },
      "source": [
        "#[CODE 3] image - https://developers.naver.com/docs/search/image/\n",
        "def getPostData(post, jsonResult, cnt):    \n",
        "    title = post['title']\n",
        "    link = post['link']\n",
        "\n",
        "    jsonResult.append({'cnt':cnt, 'title':title, 'link': link})\n",
        "        \n",
        "    return    "
      ],
      "execution_count": null,
      "outputs": []
    },
    {
      "cell_type": "code",
      "metadata": {
        "id": "DcIV-mWJjKv2"
      },
      "source": [
        "#[CODE 3] shop - https://developers.naver.com/docs/search/shopping/\n",
        "def getPostData(post, jsonResult, cnt):    \n",
        "    title = post['title']\n",
        "    link = post['link']\n",
        "\n",
        "    jsonResult.append({'cnt':cnt, 'title':title, 'link': link})\n",
        "        \n",
        "    return    "
      ],
      "execution_count": null,
      "outputs": []
    },
    {
      "cell_type": "code",
      "metadata": {
        "id": "m6eY5s4bsPCe"
      },
      "source": [
        "#[CODE 3] doc - https://developers.naver.com/docs/search/doc/\n",
        "def getPostData(post, jsonResult, cnt):    \n",
        "    title = post['title']\n",
        "    link = post['link']\n",
        "\n",
        "    jsonResult.append({'cnt':cnt, 'title':title, 'link': link})\n",
        "           \n",
        "    return    "
      ],
      "execution_count": null,
      "outputs": []
    },
    {
      "cell_type": "code",
      "metadata": {
        "id": "nDqQnStHPOox"
      },
      "source": [
        "#[CODE 0]\n",
        "def main():\n",
        "    node = 'encyc'   # 크롤링 할 대상      \n",
        "\n",
        "    srcText = input('검색어를 입력하세요: ')\n",
        "    cnt = 0\n",
        "    jsonResult = []\n",
        "\n",
        "    jsonResponse = getNaverSearch(node, srcText, 1, 2)  #[CODE 2]\n",
        "    total = jsonResponse['total']\n",
        " \n",
        "    while ((jsonResponse != None) and (jsonResponse['display'] != 0)):         \n",
        "        for post in jsonResponse['items']:\n",
        "            cnt += 1\n",
        "            #print(post)\n",
        "            getPostData(post, jsonResult, cnt)  #[CODE 3]       \n",
        "        \n",
        "        start = jsonResponse['start'] + jsonResponse['display']\n",
        "        jsonResponse = getNaverSearch(node, srcText, start, 100)  #[CODE 2]\n",
        "       \n",
        "    print('전체 검색 : %d 건' %total)\n",
        "    \n",
        "    with open('%s_naver_%s.json' % (srcText, node), 'w', encoding='utf8') as outfile:\n",
        "        jsonFile = json.dumps(jsonResult,  indent=4, sort_keys=True,  ensure_ascii=False)\n",
        "                        \n",
        "        outfile.write(jsonFile)\n",
        "        \n",
        "    print(\"가져온 데이터 : %d 건\" %(cnt))\n",
        "    print ('%s_naver_%s.json SAVED' % (srcText, node))"
      ],
      "execution_count": null,
      "outputs": []
    },
    {
      "cell_type": "code",
      "metadata": {
        "colab": {
          "base_uri": "https://localhost:8080/"
        },
        "id": "8879cujgPREx",
        "outputId": "652630e0-caa2-4758-b2d8-179a851c76ed"
      },
      "source": [
        "if __name__ == '__main__':\n",
        "    main()"
      ],
      "execution_count": null,
      "outputs": [
        {
          "output_type": "stream",
          "name": "stdout",
          "text": [
            "검색어를 입력하세요: 인공지능\n",
            "[2021-11-02 17:49:32.855622] Url Request Success\n",
            "[2021-11-02 17:49:33.764241] Url Request Success\n",
            "[2021-11-02 17:49:34.862664] Url Request Success\n",
            "[2021-11-02 17:49:35.971312] Url Request Success\n",
            "[2021-11-02 17:49:37.025647] Url Request Success\n",
            "[2021-11-02 17:49:38.263058] Url Request Success\n",
            "[2021-11-02 17:49:39.355118] Url Request Success\n",
            "[2021-11-02 17:49:40.392111] Url Request Success\n",
            "[2021-11-02 17:49:41.587311] Url Request Success\n",
            "[2021-11-02 17:49:42.607490] Url Request Success\n",
            "[2021-11-02 17:49:43.541358] Url Request Success\n",
            "HTTP Error 400: Bad Request\n",
            "[2021-11-02 17:49:44.275061] Error for URL : https://openapi.naver.com/v1/search/encyc.json?query=%EC%9D%B8%EA%B3%B5%EC%A7%80%EB%8A%A5&start=1003&display=100\n",
            "가져온 데이터 : 1002 건\n",
            "인공지능_naver_encyc.json SAVED\n"
          ]
        }
      ]
    },
    {
      "cell_type": "code",
      "metadata": {
        "id": "B0JW7jhLd6Tr"
      },
      "source": [
        ""
      ],
      "execution_count": null,
      "outputs": []
    }
  ]
}