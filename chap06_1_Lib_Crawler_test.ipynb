{
  "nbformat": 4,
  "nbformat_minor": 5,
  "metadata": {
    "kernelspec": {
      "display_name": "Python 3",
      "language": "python",
      "name": "python3"
    },
    "language_info": {
      "codemirror_mode": {
        "name": "ipython",
        "version": 3
      },
      "file_extension": ".py",
      "mimetype": "text/x-python",
      "name": "python",
      "nbconvert_exporter": "python",
      "pygments_lexer": "ipython3",
      "version": "3.8.8"
    },
    "colab": {
      "name": "Chap6_1_Lib_Crawler_test.ipynb",
      "provenance": [],
      "collapsed_sections": []
    }
  },
  "cells": [
    {
      "cell_type": "code",
      "metadata": {
        "id": "9fa6636b"
      },
      "source": [
        "from bs4 import BeautifulSoup"
      ],
      "id": "9fa6636b",
      "execution_count": 1,
      "outputs": []
    },
    {
      "cell_type": "code",
      "metadata": {
        "id": "58a81428"
      },
      "source": [
        "html = '<h1 id=\"title\">한빛출판네트워크</h1><div class=\"top\"><ul\n",
        "class=\"menu\"><li><a href=http://www.hanbit.co.kr/member/login.html\n",
        "class=\"login\">로그인 </a></li></ul><ul class=\"brand\"><li><a href=\"http://www. \n",
        "hanbit.co.kr/media/>한빛미디어<li><a href=\"http://www.hanbit.co.kr/\n",
        "academy/\">한빛아카데미</a></li></ul></div>'\n"
      ],
      "id": "58a81428",
      "execution_count": 2,
      "outputs": []
    },
    {
      "cell_type": "code",
      "metadata": {
        "id": "652b339f"
      },
      "source": [
        "soup = BeautifulSoup(html, 'html.parser')"
      ],
      "id": "652b339f",
      "execution_count": 3,
      "outputs": []
    },
    {
      "cell_type": "code",
      "metadata": {
        "scrolled": false,
        "colab": {
          "base_uri": "https://localhost:8080/"
        },
        "id": "3b0abdbb",
        "outputId": "ce1a24d4-a720-4013-9e45-8c056b74ed07"
      },
      "source": [
        "print(soup.prettify())"
      ],
      "id": "3b0abdbb",
      "execution_count": 4,
      "outputs": [
        {
          "output_type": "stream",
          "name": "stdout",
          "text": [
            "<h1 id=\"title\">\n",
            " 한빛출판네트워크\n",
            "</h1>\n",
            "<div class=\"top\">\n",
            " <ul class=\"menu\">\n",
            "  <li>\n",
            "   <a class=\"login\" href=\"http://www.hanbit.co.kr/member/login.html\">\n",
            "    로그인\n",
            "   </a>\n",
            "  </li>\n",
            " </ul>\n",
            " <ul class=\"brand\">\n",
            "  <li>\n",
            "   <a href=\"http://www.hanbit.co.kr/media/\">\n",
            "    한빛미디어\n",
            "   </a>\n",
            "  </li>\n",
            "  <li>\n",
            "   <a href=\"http://www.hanbit.co.kr/academy/\">\n",
            "    한빛아카데미\n",
            "   </a>\n",
            "  </li>\n",
            " </ul>\n",
            "</div>\n"
          ]
        }
      ]
    },
    {
      "cell_type": "code",
      "metadata": {
        "colab": {
          "base_uri": "https://localhost:8080/"
        },
        "id": "0cdd3a6a",
        "outputId": "f5a9ab02-a3a4-4122-b985-8df933bb441a"
      },
      "source": [
        "soup.h1"
      ],
      "id": "0cdd3a6a",
      "execution_count": 5,
      "outputs": [
        {
          "output_type": "execute_result",
          "data": {
            "text/plain": [
              "<h1 id=\"title\">한빛출판네트워크</h1>"
            ]
          },
          "metadata": {},
          "execution_count": 5
        }
      ]
    },
    {
      "cell_type": "code",
      "metadata": {
        "colab": {
          "base_uri": "https://localhost:8080/"
        },
        "id": "a4753f41",
        "outputId": "7a1cc65f-816f-4261-b130-c9294c32d04a"
      },
      "source": [
        "tag_h1 = soup.h1\n",
        "tag_h1"
      ],
      "id": "a4753f41",
      "execution_count": 6,
      "outputs": [
        {
          "output_type": "execute_result",
          "data": {
            "text/plain": [
              "<h1 id=\"title\">한빛출판네트워크</h1>"
            ]
          },
          "metadata": {},
          "execution_count": 6
        }
      ]
    },
    {
      "cell_type": "code",
      "metadata": {
        "colab": {
          "base_uri": "https://localhost:8080/"
        },
        "id": "3526fb78",
        "outputId": "68912c5a-636e-4ee2-f65f-d669c04af0c3"
      },
      "source": [
        "tag_div = soup.div\n",
        "tag_div"
      ],
      "id": "3526fb78",
      "execution_count": 7,
      "outputs": [
        {
          "output_type": "execute_result",
          "data": {
            "text/plain": [
              "<div class=\"top\"><ul class=\"menu\"><li><a class=\"login\" href=\"http://www.hanbit.co.kr/member/login.html\">로그인 </a></li></ul><ul class=\"brand\"><li><a href=\"http://www.hanbit.co.kr/media/\">한빛미디어</a></li><li><a href=\"http://www.hanbit.co.kr/academy/\">한빛아카데미</a></li></ul></div>"
            ]
          },
          "metadata": {},
          "execution_count": 7
        }
      ]
    },
    {
      "cell_type": "code",
      "metadata": {
        "colab": {
          "base_uri": "https://localhost:8080/"
        },
        "id": "c512dd8f",
        "outputId": "3d418cfa-79cb-44f4-ddcc-4d1f14c0757f"
      },
      "source": [
        "tag_ul = soup.ul\n",
        "tag_ul"
      ],
      "id": "c512dd8f",
      "execution_count": 8,
      "outputs": [
        {
          "output_type": "execute_result",
          "data": {
            "text/plain": [
              "<ul class=\"menu\"><li><a class=\"login\" href=\"http://www.hanbit.co.kr/member/login.html\">로그인 </a></li></ul>"
            ]
          },
          "metadata": {},
          "execution_count": 8
        }
      ]
    },
    {
      "cell_type": "code",
      "metadata": {
        "colab": {
          "base_uri": "https://localhost:8080/"
        },
        "id": "62affdd3",
        "outputId": "d8da9fdc-2f3c-400a-9099-a06a83859bc4"
      },
      "source": [
        "tag_li = soup.li\n",
        "tag_li"
      ],
      "id": "62affdd3",
      "execution_count": 9,
      "outputs": [
        {
          "output_type": "execute_result",
          "data": {
            "text/plain": [
              "<li><a class=\"login\" href=\"http://www.hanbit.co.kr/member/login.html\">로그인 </a></li>"
            ]
          },
          "metadata": {},
          "execution_count": 9
        }
      ]
    },
    {
      "cell_type": "code",
      "metadata": {
        "colab": {
          "base_uri": "https://localhost:8080/"
        },
        "id": "e8ba3cab",
        "outputId": "d8f1a3b4-534a-43c4-a572-edb86a7d34e6"
      },
      "source": [
        "tag_a = soup.a\n",
        "tag_a"
      ],
      "id": "e8ba3cab",
      "execution_count": 10,
      "outputs": [
        {
          "output_type": "execute_result",
          "data": {
            "text/plain": [
              "<a class=\"login\" href=\"http://www.hanbit.co.kr/member/login.html\">로그인 </a>"
            ]
          },
          "metadata": {},
          "execution_count": 10
        }
      ]
    },
    {
      "cell_type": "code",
      "metadata": {
        "colab": {
          "base_uri": "https://localhost:8080/"
        },
        "id": "7a4dbe3f",
        "outputId": "5716a15a-8d5d-473b-fefe-3c7ef54010fb"
      },
      "source": [
        "tag_ul_all = soup.find_all(\"ul\")\n",
        "tag_ul_all"
      ],
      "id": "7a4dbe3f",
      "execution_count": 11,
      "outputs": [
        {
          "output_type": "execute_result",
          "data": {
            "text/plain": [
              "[<ul class=\"menu\"><li><a class=\"login\" href=\"http://www.hanbit.co.kr/member/login.html\">로그인 </a></li></ul>,\n",
              " <ul class=\"brand\"><li><a href=\"http://www.hanbit.co.kr/media/\">한빛미디어</a></li><li><a href=\"http://www.hanbit.co.kr/academy/\">한빛아카데미</a></li></ul>]"
            ]
          },
          "metadata": {},
          "execution_count": 11
        }
      ]
    },
    {
      "cell_type": "code",
      "metadata": {
        "colab": {
          "base_uri": "https://localhost:8080/"
        },
        "id": "885b49f5",
        "outputId": "62d6277f-931f-4cf2-dcfd-511ce650b3ce"
      },
      "source": [
        "tag_li_all = soup.find_all(\"li\")\n",
        "tag_li_all"
      ],
      "id": "885b49f5",
      "execution_count": 12,
      "outputs": [
        {
          "output_type": "execute_result",
          "data": {
            "text/plain": [
              "[<li><a class=\"login\" href=\"http://www.hanbit.co.kr/member/login.html\">로그인 </a></li>,\n",
              " <li><a href=\"http://www.hanbit.co.kr/media/\">한빛미디어</a></li>,\n",
              " <li><a href=\"http://www.hanbit.co.kr/academy/\">한빛아카데미</a></li>]"
            ]
          },
          "metadata": {},
          "execution_count": 12
        }
      ]
    },
    {
      "cell_type": "code",
      "metadata": {
        "colab": {
          "base_uri": "https://localhost:8080/"
        },
        "id": "7d6d50fd",
        "outputId": "76b36f5e-cb96-44c1-93fb-7e2909904943"
      },
      "source": [
        "tag_a_all = soup.find_all(\"a\")\n",
        "tag_a_all"
      ],
      "id": "7d6d50fd",
      "execution_count": 13,
      "outputs": [
        {
          "output_type": "execute_result",
          "data": {
            "text/plain": [
              "[<a class=\"login\" href=\"http://www.hanbit.co.kr/member/login.html\">로그인 </a>,\n",
              " <a href=\"http://www.hanbit.co.kr/media/\">한빛미디어</a>,\n",
              " <a href=\"http://www.hanbit.co.kr/academy/\">한빛아카데미</a>]"
            ]
          },
          "metadata": {},
          "execution_count": 13
        }
      ]
    },
    {
      "cell_type": "code",
      "metadata": {
        "colab": {
          "base_uri": "https://localhost:8080/"
        },
        "id": "cddf4b22",
        "outputId": "b366f507-32b5-404b-c4cd-33d224e697b2"
      },
      "source": [
        "tag_a.attrs"
      ],
      "id": "cddf4b22",
      "execution_count": 14,
      "outputs": [
        {
          "output_type": "execute_result",
          "data": {
            "text/plain": [
              "{'class': ['login'], 'href': 'http://www.hanbit.co.kr/member/login.html'}"
            ]
          },
          "metadata": {},
          "execution_count": 14
        }
      ]
    },
    {
      "cell_type": "code",
      "metadata": {
        "colab": {
          "base_uri": "https://localhost:8080/",
          "height": 35
        },
        "id": "2ba6631c",
        "outputId": "87421174-fbd2-4eb1-8240-834dc3000f1a"
      },
      "source": [
        "tag_a['href']\n"
      ],
      "id": "2ba6631c",
      "execution_count": 15,
      "outputs": [
        {
          "output_type": "execute_result",
          "data": {
            "application/vnd.google.colaboratory.intrinsic+json": {
              "type": "string"
            },
            "text/plain": [
              "'http://www.hanbit.co.kr/member/login.html'"
            ]
          },
          "metadata": {},
          "execution_count": 15
        }
      ]
    },
    {
      "cell_type": "code",
      "metadata": {
        "colab": {
          "base_uri": "https://localhost:8080/"
        },
        "id": "7b0f87e2",
        "outputId": "12300c10-e9ba-44fe-9e5a-5c276168fc42"
      },
      "source": [
        "tag_a['class']\n"
      ],
      "id": "7b0f87e2",
      "execution_count": 16,
      "outputs": [
        {
          "output_type": "execute_result",
          "data": {
            "text/plain": [
              "['login']"
            ]
          },
          "metadata": {},
          "execution_count": 16
        }
      ]
    },
    {
      "cell_type": "code",
      "metadata": {
        "colab": {
          "base_uri": "https://localhost:8080/"
        },
        "id": "d4ee6f9b",
        "outputId": "58f74ffb-90cb-42ff-f2d5-56745a548203"
      },
      "source": [
        "tag_ul_2 = soup.find('ul', attrs={'class':'brand'})\n",
        "tag_ul_2\n"
      ],
      "id": "d4ee6f9b",
      "execution_count": 17,
      "outputs": [
        {
          "output_type": "execute_result",
          "data": {
            "text/plain": [
              "<ul class=\"brand\"><li><a href=\"http://www.hanbit.co.kr/media/\">한빛미디어</a></li><li><a href=\"http://www.hanbit.co.kr/academy/\">한빛아카데미</a></li></ul>"
            ]
          },
          "metadata": {},
          "execution_count": 17
        }
      ]
    },
    {
      "cell_type": "code",
      "metadata": {
        "colab": {
          "base_uri": "https://localhost:8080/"
        },
        "id": "37ca8261",
        "outputId": "f05ea325-92da-43b7-eabf-a5d1325832e0"
      },
      "source": [
        "title = soup.find(id=\"title\")\n",
        "title"
      ],
      "id": "37ca8261",
      "execution_count": 18,
      "outputs": [
        {
          "output_type": "execute_result",
          "data": {
            "text/plain": [
              "<h1 id=\"title\">한빛출판네트워크</h1>"
            ]
          },
          "metadata": {},
          "execution_count": 18
        }
      ]
    },
    {
      "cell_type": "code",
      "metadata": {
        "colab": {
          "base_uri": "https://localhost:8080/",
          "height": 35
        },
        "id": "f3483404",
        "outputId": "82fcc96e-09ad-4ff3-ce21-c9689d1f098d"
      },
      "source": [
        "title.string"
      ],
      "id": "f3483404",
      "execution_count": 19,
      "outputs": [
        {
          "output_type": "execute_result",
          "data": {
            "application/vnd.google.colaboratory.intrinsic+json": {
              "type": "string"
            },
            "text/plain": [
              "'한빛출판네트워크'"
            ]
          },
          "metadata": {},
          "execution_count": 19
        }
      ]
    },
    {
      "cell_type": "code",
      "metadata": {
        "id": "a62799b0"
      },
      "source": [
        "li_list = soup.select('div>ul.brand>li')"
      ],
      "id": "a62799b0",
      "execution_count": 20,
      "outputs": []
    },
    {
      "cell_type": "code",
      "metadata": {
        "colab": {
          "base_uri": "https://localhost:8080/"
        },
        "id": "15b5f764",
        "outputId": "9159d7fe-9cb4-433b-983e-256305999c1f"
      },
      "source": [
        "li_list"
      ],
      "id": "15b5f764",
      "execution_count": 21,
      "outputs": [
        {
          "output_type": "execute_result",
          "data": {
            "text/plain": [
              "[]"
            ]
          },
          "metadata": {},
          "execution_count": 21
        }
      ]
    },
    {
      "cell_type": "code",
      "metadata": {
        "id": "9e37637d"
      },
      "source": [
        "for li in li_list:\n",
        "    print(li.string)\n",
        "    "
      ],
      "id": "9e37637d",
      "execution_count": 22,
      "outputs": []
    },
    {
      "cell_type": "code",
      "metadata": {
        "id": "cfe70a5d"
      },
      "source": [
        ""
      ],
      "id": "cfe70a5d",
      "execution_count": null,
      "outputs": []
    }
  ]
}