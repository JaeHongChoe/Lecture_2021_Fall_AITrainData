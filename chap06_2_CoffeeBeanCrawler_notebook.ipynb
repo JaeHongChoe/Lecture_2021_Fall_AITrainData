{
 "cells": [
  {
   "cell_type": "code",
   "execution_count": null,
   "metadata": {
    "id": "FsXqgi3jLgT0"
   },
   "outputs": [],
   "source": [
    "#colab\n",
    "\n",
    "# step1\n",
    "!apt-get update\n",
    "!apt install chromium-chromedriver\n",
    "!cp /usr/lib/chromium-browser/chromedriver /usr/bin\n",
    "!pip install selenium\n",
    "\n",
    "# step2\n",
    "from selenium import webdriver\n",
    "options = webdriver.ChromeOptions()\n",
    "options.add_argument('--headless')  #내부 창을 띄울 수 없으므로 설정\n",
    "options.add_argument('--no-sandbox')\n",
    "options.add_argument('--disable-dev-shm-usage')\n",
    "\n",
    "# step3\n",
    "wd = webdriver.Chrome('chromedriver',options=options)\n"
   ]
  },
  {
   "cell_type": "code",
   "execution_count": null,
   "metadata": {
    "id": "g10MkJehMgbU"
   },
   "outputs": [],
   "source": [
    "#colab\n",
    "\n",
    "from bs4 import BeautifulSoup\n",
    "import urllib.request\n",
    "import pandas as pd\n",
    "import datetime\n",
    "#from selenium import webdriver\n",
    "import time"
   ]
  },
  {
   "cell_type": "code",
   "execution_count": null,
   "metadata": {
    "id": "Mqqn5o2eMh8o"
   },
   "outputs": [],
   "source": []
  },
  {
   "cell_type": "code",
   "execution_count": 1,
   "metadata": {
    "id": "7X3irkryJ4jm"
   },
   "outputs": [],
   "source": [
    "#notebook\n",
    "from bs4 import BeautifulSoup\n",
    "import urllib.request\n",
    "import pandas as pd\n",
    "import datetime\n",
    "from selenium import webdriver\n",
    "import time"
   ]
  },
  {
   "cell_type": "code",
   "execution_count": 4,
   "metadata": {
    "id": "wTkL-GbOKI8m"
   },
   "outputs": [],
   "source": []
  },
  {
   "cell_type": "code",
   "execution_count": 57,
   "metadata": {
    "id": "spWD4IrxJ7DU"
   },
   "outputs": [],
   "source": [
    "#[CODE 1]\n",
    "def CoffeeBean_store(result):\n",
    "    CoffeeBean_URL = \"https://www.coffeebeankorea.com/store/store.asp\"\n",
    "    \n",
    "    #notebook\n",
    "    wd = webdriver.Chrome('C:/Users/GW/AI/WebDriver/chromedriver.exe')\n",
    "    \n",
    "    #colab\n",
    "    #wd = webdriver.Chrome('chromedriver',chrome_options=options) \n",
    "    \n",
    "    for i in range(1, 10):  #매장 수 만큼 반복\n",
    "        wd.get(CoffeeBean_URL)\n",
    "        time.sleep(1)  #웹페이지 연결할 동안 1초 대기\n",
    "        #print(i)\n",
    "        try:\n",
    "            wd.execute_script(\"storePop2(%d)\" %i)\n",
    "            time.sleep(1) #스크립트 실행 할 동안 1초 대기\n",
    "            html = wd.page_source\n",
    "            soupCB = BeautifulSoup(html, 'html.parser')\n",
    "            store_name_h2 = soupCB.select(\"div.store_txt > h2\n",
    "            store_name = store_name_h2[0].string\n",
    "            print(store_name)  #매장 이름 출력하기\n",
    "            store_info = soupCB.select(\"div.store_txt > table.store_table > tbody > tr > td\")\n",
    "            store_address_list = list(store_info[2])\n",
    "            store_address = store_address_list[0]\n",
    "            store_phone = store_info[3].string\n",
    "            result.append([store_name]+[store_address]+[store_phone])\n",
    "        except:\n",
    "            print('err')\n",
    "            continue \n",
    "    return"
   ]
  },
  {
   "cell_type": "code",
   "execution_count": 58,
   "metadata": {
    "id": "OJGzAMogJ-O8"
   },
   "outputs": [],
   "source": [
    "#[CODE 0]\n",
    "def main():\n",
    "    result = []\n",
    "    print('CoffeeBean store crawling >>>>>>>>>>>>>>>>>>>>>>>>>>')\n",
    "    CoffeeBean_store(result)  #[CODE 1]\n",
    "    \n",
    "    CB_tbl = pd.DataFrame(result, columns=('store', 'address','phone'))\n",
    "    #colab\n",
    "    #CB_tbl.to_csv('./sample_data/CoffeeBean.csv', encoding='cp949', mode='w', index=True)\n",
    "    #notebook\n",
    "    CB_tbl.to_csv('C:/Users/GW/AI/data/CoffeeBean.csv', encoding='cp949', mode='w', index=True)\n"
   ]
  },
  {
   "cell_type": "code",
   "execution_count": 59,
   "metadata": {
    "colab": {
     "base_uri": "https://localhost:8080/"
    },
    "id": "72vITgGwJ_dU",
    "outputId": "38767124-1d51-455d-e469-be05150f2ee5"
   },
   "outputs": [
    {
     "name": "stdout",
     "output_type": "stream",
     "text": [
      "CoffeeBean store crawling >>>>>>>>>>>>>>>>>>>>>>>>>>\n"
     ]
    },
    {
     "name": "stderr",
     "output_type": "stream",
     "text": [
      "<ipython-input-57-48bf749b9e42>:6: DeprecationWarning: executable_path has been deprecated, please pass in a Service object\n",
      "  wd = webdriver.Chrome('C:/Users/GW/AI/WebDriver/chromedriver.exe')\n"
     ]
    },
    {
     "name": "stdout",
     "output_type": "stream",
     "text": [
      "2\n",
      "process1\n",
      "process2\n",
      "process3\n",
      "process4\n",
      "[]\n",
      "err\n"
     ]
    }
   ],
   "source": [
    "if __name__ == '__main__':\n",
    "     main()\n"
   ]
  },
  {
   "cell_type": "code",
   "execution_count": null,
   "metadata": {
    "id": "53dQtAHtJ_wc"
   },
   "outputs": [],
   "source": []
  }
 ],
 "metadata": {
  "colab": {
   "collapsed_sections": [],
   "name": "chap06_2_CoffeeBeanCrawler.ipynb",
   "provenance": []
  },
  "kernelspec": {
   "display_name": "Python 3",
   "language": "python",
   "name": "python3"
  },
  "language_info": {
   "codemirror_mode": {
    "name": "ipython",
    "version": 3
   },
   "file_extension": ".py",
   "mimetype": "text/x-python",
   "name": "python",
   "nbconvert_exporter": "python",
   "pygments_lexer": "ipython3",
   "version": "3.8.8"
  }
 },
 "nbformat": 4,
 "nbformat_minor": 1
}
