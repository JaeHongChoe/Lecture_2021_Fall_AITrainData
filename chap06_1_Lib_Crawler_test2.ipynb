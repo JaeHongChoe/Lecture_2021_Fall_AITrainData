{
  "nbformat": 4,
  "nbformat_minor": 5,
  "metadata": {
    "kernelspec": {
      "display_name": "Python 3",
      "language": "python",
      "name": "python3"
    },
    "language_info": {
      "codemirror_mode": {
        "name": "ipython",
        "version": 3
      },
      "file_extension": ".py",
      "mimetype": "text/x-python",
      "name": "python",
      "nbconvert_exporter": "python",
      "pygments_lexer": "ipython3",
      "version": "3.8.8"
    },
    "colab": {
      "name": "chap06_1_Lib_Crawler_test2.ipynb",
      "provenance": [],
      "collapsed_sections": []
    }
  },
  "cells": [
    {
      "cell_type": "code",
      "metadata": {
        "id": "9fa6636b"
      },
      "source": [
        "from bs4 import BeautifulSoup"
      ],
      "id": "9fa6636b",
      "execution_count": null,
      "outputs": []
    },
    {
      "cell_type": "code",
      "metadata": {
        "id": "58a81428"
      },
      "source": [
        "html = "
      ],
      "id": "58a81428",
      "execution_count": 45,
      "outputs": []
    },
    {
      "cell_type": "code",
      "metadata": {
        "id": "652b339f"
      },
      "source": [
        "soup = BeautifulSoup(html, 'html.parser')"
      ],
      "id": "652b339f",
      "execution_count": 53,
      "outputs": []
    },
    {
      "cell_type": "code",
      "metadata": {
        "scrolled": false,
        "colab": {
          "base_uri": "https://localhost:8080/"
        },
        "id": "3b0abdbb",
        "outputId": "ae042ded-9a6c-46d7-efda-a753851ce81a"
      },
      "source": [
        "print(soup.prettify())"
      ],
      "id": "3b0abdbb",
      "execution_count": 55,
      "outputs": [
        {
          "output_type": "stream",
          "name": "stdout",
          "text": [
            "<h1 id=\"title\">\n",
            " 한림대학교인공지능융합학부\n",
            "</h1>\n",
            "<div class=\"top\">\n",
            " <ul class=\"menu\">\n",
            "  <li>\n",
            "   <a class=\"introduction\" href=\"https://aix.hallym.ac.kr/aix/intro/intro.do\">\n",
            "    학부소개\n",
            "   </a>\n",
            "  </li>\n",
            " </ul>\n",
            " <ul class=\"aix_curriculum\">\n",
            "  <li>\n",
            "   <a href=\"https://aix.hallym.ac.kr/aix/life/curriculum1.do\">\n",
            "    인공지능융합학부 교육과정\n",
            "   </a>\n",
            "  </li>\n",
            "  <li>\n",
            "   <a href=\"https://aix.hallym.ac.kr/aix/life/curriculum.do\">\n",
            "    인공지능융합학부 교과과정\n",
            "   </a>\n",
            "  </li>\n",
            " </ul>\n",
            "</div>\n"
          ]
        }
      ]
    },
    {
      "cell_type": "code",
      "metadata": {
        "colab": {
          "base_uri": "https://localhost:8080/"
        },
        "id": "0cdd3a6a",
        "outputId": "e4f33272-073b-4f48-e5d7-743fd9e50158"
      },
      "source": [
        "soup.h1"
      ],
      "id": "0cdd3a6a",
      "execution_count": 56,
      "outputs": [
        {
          "output_type": "execute_result",
          "data": {
            "text/plain": [
              "<h1 id=\"title\">한림대학교인공지능융합학부</h1>"
            ]
          },
          "metadata": {},
          "execution_count": 56
        }
      ]
    },
    {
      "cell_type": "code",
      "metadata": {
        "colab": {
          "base_uri": "https://localhost:8080/"
        },
        "id": "a4753f41",
        "outputId": "4b456bfd-c6e9-4599-e061-732a849693d6"
      },
      "source": [
        "tag_h1 = soup.h1\n",
        "tag_h1"
      ],
      "id": "a4753f41",
      "execution_count": 57,
      "outputs": [
        {
          "output_type": "execute_result",
          "data": {
            "text/plain": [
              "<h1 id=\"title\">한림대학교인공지능융합학부</h1>"
            ]
          },
          "metadata": {},
          "execution_count": 57
        }
      ]
    },
    {
      "cell_type": "code",
      "metadata": {
        "colab": {
          "base_uri": "https://localhost:8080/"
        },
        "id": "3526fb78",
        "outputId": "ceed8168-4cdd-43d4-b185-abe7992c67f0"
      },
      "source": [
        "tag_div = soup.div\n",
        "tag_div"
      ],
      "id": "3526fb78",
      "execution_count": 58,
      "outputs": [
        {
          "output_type": "execute_result",
          "data": {
            "text/plain": [
              "<div class=\"top\"><ul class=\"menu\"><li><a class=\"introduction\" href=\"https://aix.hallym.ac.kr/aix/intro/intro.do\"> 학부소개 </a></li></ul><ul class=\"aix_curriculum\"><li><a href=\"https://aix.hallym.ac.kr/aix/life/curriculum1.do\">인공지능융합학부 교육과정</a></li><li><a href=\"https://aix.hallym.ac.kr/aix/life/curriculum.do\">인공지능융합학부 교과과정</a></li></ul></div>"
            ]
          },
          "metadata": {},
          "execution_count": 58
        }
      ]
    },
    {
      "cell_type": "code",
      "metadata": {
        "colab": {
          "base_uri": "https://localhost:8080/"
        },
        "id": "c512dd8f",
        "outputId": "57ac4e15-30ef-496e-bbd7-e27275e95ae9"
      },
      "source": [
        "tag_ul = soup.ul\n",
        "tag_ul"
      ],
      "id": "c512dd8f",
      "execution_count": 59,
      "outputs": [
        {
          "output_type": "execute_result",
          "data": {
            "text/plain": [
              "<ul class=\"menu\"><li><a class=\"introduction\" href=\"https://aix.hallym.ac.kr/aix/intro/intro.do\"> 학부소개 </a></li></ul>"
            ]
          },
          "metadata": {},
          "execution_count": 59
        }
      ]
    },
    {
      "cell_type": "code",
      "metadata": {
        "colab": {
          "base_uri": "https://localhost:8080/"
        },
        "id": "62affdd3",
        "outputId": "43a0f8da-4758-4248-e22c-36b59fc7e36e"
      },
      "source": [
        "tag_li = soup.li\n",
        "tag_li"
      ],
      "id": "62affdd3",
      "execution_count": 60,
      "outputs": [
        {
          "output_type": "execute_result",
          "data": {
            "text/plain": [
              "<li><a class=\"introduction\" href=\"https://aix.hallym.ac.kr/aix/intro/intro.do\"> 학부소개 </a></li>"
            ]
          },
          "metadata": {},
          "execution_count": 60
        }
      ]
    },
    {
      "cell_type": "code",
      "metadata": {
        "colab": {
          "base_uri": "https://localhost:8080/"
        },
        "id": "e8ba3cab",
        "outputId": "c0366378-087d-446f-e20a-92fb79accd95"
      },
      "source": [
        "tag_a = soup.a\n",
        "tag_a"
      ],
      "id": "e8ba3cab",
      "execution_count": 61,
      "outputs": [
        {
          "output_type": "execute_result",
          "data": {
            "text/plain": [
              "<a class=\"introduction\" href=\"https://aix.hallym.ac.kr/aix/intro/intro.do\"> 학부소개 </a>"
            ]
          },
          "metadata": {},
          "execution_count": 61
        }
      ]
    },
    {
      "cell_type": "code",
      "metadata": {
        "colab": {
          "base_uri": "https://localhost:8080/"
        },
        "id": "7a4dbe3f",
        "outputId": "3466d561-55e0-4868-98d0-78c18e729215"
      },
      "source": [
        "tag_ul_all = soup.find_all(\"ul\")\n",
        "tag_ul_all"
      ],
      "id": "7a4dbe3f",
      "execution_count": 62,
      "outputs": [
        {
          "output_type": "execute_result",
          "data": {
            "text/plain": [
              "[<ul class=\"menu\"><li><a class=\"introduction\" href=\"https://aix.hallym.ac.kr/aix/intro/intro.do\"> 학부소개 </a></li></ul>,\n",
              " <ul class=\"aix_curriculum\"><li><a href=\"https://aix.hallym.ac.kr/aix/life/curriculum1.do\">인공지능융합학부 교육과정</a></li><li><a href=\"https://aix.hallym.ac.kr/aix/life/curriculum.do\">인공지능융합학부 교과과정</a></li></ul>]"
            ]
          },
          "metadata": {},
          "execution_count": 62
        }
      ]
    },
    {
      "cell_type": "code",
      "metadata": {
        "colab": {
          "base_uri": "https://localhost:8080/"
        },
        "id": "885b49f5",
        "outputId": "50286ac9-a91a-44e0-8442-b4b6faf4a601"
      },
      "source": [
        "tag_li_all = soup.find_all(\"li\")\n",
        "tag_li_all"
      ],
      "id": "885b49f5",
      "execution_count": 63,
      "outputs": [
        {
          "output_type": "execute_result",
          "data": {
            "text/plain": [
              "[<li><a class=\"introduction\" href=\"https://aix.hallym.ac.kr/aix/intro/intro.do\"> 학부소개 </a></li>,\n",
              " <li><a href=\"https://aix.hallym.ac.kr/aix/life/curriculum1.do\">인공지능융합학부 교육과정</a></li>,\n",
              " <li><a href=\"https://aix.hallym.ac.kr/aix/life/curriculum.do\">인공지능융합학부 교과과정</a></li>]"
            ]
          },
          "metadata": {},
          "execution_count": 63
        }
      ]
    },
    {
      "cell_type": "code",
      "metadata": {
        "colab": {
          "base_uri": "https://localhost:8080/"
        },
        "id": "7d6d50fd",
        "outputId": "500d9001-c6a4-41e9-eaaf-ce52eb29d04a"
      },
      "source": [
        "tag_a_all = soup.find_all(\"a\")\n",
        "tag_a_all"
      ],
      "id": "7d6d50fd",
      "execution_count": 64,
      "outputs": [
        {
          "output_type": "execute_result",
          "data": {
            "text/plain": [
              "[<a class=\"introduction\" href=\"https://aix.hallym.ac.kr/aix/intro/intro.do\"> 학부소개 </a>,\n",
              " <a href=\"https://aix.hallym.ac.kr/aix/life/curriculum1.do\">인공지능융합학부 교육과정</a>,\n",
              " <a href=\"https://aix.hallym.ac.kr/aix/life/curriculum.do\">인공지능융합학부 교과과정</a>]"
            ]
          },
          "metadata": {},
          "execution_count": 64
        }
      ]
    },
    {
      "cell_type": "code",
      "metadata": {
        "colab": {
          "base_uri": "https://localhost:8080/"
        },
        "id": "cddf4b22",
        "outputId": "0c121e22-bac1-402b-ba6d-14b7b651b2d4"
      },
      "source": [
        "tag_a.attrs"
      ],
      "id": "cddf4b22",
      "execution_count": 65,
      "outputs": [
        {
          "output_type": "execute_result",
          "data": {
            "text/plain": [
              "{'class': ['introduction'],\n",
              " 'href': 'https://aix.hallym.ac.kr/aix/intro/intro.do'}"
            ]
          },
          "metadata": {},
          "execution_count": 65
        }
      ]
    },
    {
      "cell_type": "code",
      "metadata": {
        "colab": {
          "base_uri": "https://localhost:8080/",
          "height": 35
        },
        "id": "2ba6631c",
        "outputId": "0c14ec23-097c-4b3c-bd83-e27df93958ed"
      },
      "source": [
        "tag_a['href']\n"
      ],
      "id": "2ba6631c",
      "execution_count": 66,
      "outputs": [
        {
          "output_type": "execute_result",
          "data": {
            "application/vnd.google.colaboratory.intrinsic+json": {
              "type": "string"
            },
            "text/plain": [
              "'https://aix.hallym.ac.kr/aix/intro/intro.do'"
            ]
          },
          "metadata": {},
          "execution_count": 66
        }
      ]
    },
    {
      "cell_type": "code",
      "metadata": {
        "colab": {
          "base_uri": "https://localhost:8080/"
        },
        "id": "7b0f87e2",
        "outputId": "995c14a9-51d5-4659-96d5-ae904e2b4dd5"
      },
      "source": [
        "tag_a['class']\n"
      ],
      "id": "7b0f87e2",
      "execution_count": 67,
      "outputs": [
        {
          "output_type": "execute_result",
          "data": {
            "text/plain": [
              "['introduction']"
            ]
          },
          "metadata": {},
          "execution_count": 67
        }
      ]
    },
    {
      "cell_type": "code",
      "metadata": {
        "id": "d4ee6f9b"
      },
      "source": [
        "tag_ul_2 = soup.find('ul', attrs={'class':'brand'})\n",
        "tag_ul_2\n"
      ],
      "id": "d4ee6f9b",
      "execution_count": 68,
      "outputs": []
    },
    {
      "cell_type": "code",
      "metadata": {
        "colab": {
          "base_uri": "https://localhost:8080/"
        },
        "id": "37ca8261",
        "outputId": "ecb61dc6-0343-4283-c4bf-b2e72fff4566"
      },
      "source": [
        "title = soup.find(id=\"title\")\n",
        "title"
      ],
      "id": "37ca8261",
      "execution_count": 69,
      "outputs": [
        {
          "output_type": "execute_result",
          "data": {
            "text/plain": [
              "<h1 id=\"title\">한림대학교인공지능융합학부</h1>"
            ]
          },
          "metadata": {},
          "execution_count": 69
        }
      ]
    },
    {
      "cell_type": "code",
      "metadata": {
        "colab": {
          "base_uri": "https://localhost:8080/",
          "height": 35
        },
        "id": "f3483404",
        "outputId": "279a188f-230c-48d5-ecbb-9ed3224610f3"
      },
      "source": [
        "title.string"
      ],
      "id": "f3483404",
      "execution_count": 70,
      "outputs": [
        {
          "output_type": "execute_result",
          "data": {
            "application/vnd.google.colaboratory.intrinsic+json": {
              "type": "string"
            },
            "text/plain": [
              "'한림대학교인공지능융합학부'"
            ]
          },
          "metadata": {},
          "execution_count": 70
        }
      ]
    },
    {
      "cell_type": "code",
      "metadata": {
        "id": "a62799b0"
      },
      "source": [
        "li_list = soup.select('div > ul.aix_curriculum > li')"
      ],
      "id": "a62799b0",
      "execution_count": 73,
      "outputs": []
    },
    {
      "cell_type": "code",
      "metadata": {
        "colab": {
          "base_uri": "https://localhost:8080/"
        },
        "id": "15b5f764",
        "outputId": "6908e8ce-eb48-4f51-f02a-e8bc4c95b749"
      },
      "source": [
        "li_list"
      ],
      "id": "15b5f764",
      "execution_count": 74,
      "outputs": [
        {
          "output_type": "execute_result",
          "data": {
            "text/plain": [
              "[<li><a href=\"https://aix.hallym.ac.kr/aix/life/curriculum1.do\">인공지능융합학부 교육과정</a></li>,\n",
              " <li><a href=\"https://aix.hallym.ac.kr/aix/life/curriculum.do\">인공지능융합학부 교과과정</a></li>]"
            ]
          },
          "metadata": {},
          "execution_count": 74
        }
      ]
    },
    {
      "cell_type": "code",
      "metadata": {
        "id": "9e37637d",
        "colab": {
          "base_uri": "https://localhost:8080/"
        },
        "outputId": "ab8751f8-c156-496a-e4dc-9f4ab3170a34"
      },
      "source": [
        "for li in li_list:\n",
        "    print(li.string)\n",
        "    "
      ],
      "id": "9e37637d",
      "execution_count": 75,
      "outputs": [
        {
          "output_type": "stream",
          "name": "stdout",
          "text": [
            "인공지능융합학부 교육과정\n",
            "인공지능융합학부 교과과정\n"
          ]
        }
      ]
    },
    {
      "cell_type": "code",
      "metadata": {
        "id": "cfe70a5d"
      },
      "source": [
        ""
      ],
      "id": "cfe70a5d",
      "execution_count": null,
      "outputs": []
    }
  ]
}