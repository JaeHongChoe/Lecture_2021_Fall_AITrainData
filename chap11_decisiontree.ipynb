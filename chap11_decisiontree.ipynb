{
  "nbformat": 4,
  "nbformat_minor": 0,
  "metadata": {
    "kernelspec": {
      "display_name": "Python 3",
      "language": "python",
      "name": "python3"
    },
    "language_info": {
      "codemirror_mode": {
        "name": "ipython",
        "version": 3
      },
      "file_extension": ".py",
      "mimetype": "text/x-python",
      "name": "python",
      "nbconvert_exporter": "python",
      "pygments_lexer": "ipython3",
      "version": "3.8.3"
    },
    "colab": {
      "name": "chap11_decisiontree.ipynb",
      "provenance": [],
      "collapsed_sections": []
    }
  },
  "cells": [
    {
      "cell_type": "markdown",
      "metadata": {
        "id": "Dw9rY3wCdqmm"
      },
      "source": [
        "# 분류분석. 결정 트리 분석을 이용한 사용자 움직임 분류 프로젝트"
      ]
    },
    {
      "cell_type": "markdown",
      "metadata": {
        "id": "wHT3XjP_dqmp"
      },
      "source": [
        "### 1) 데이터 수집"
      ]
    },
    {
      "cell_type": "markdown",
      "metadata": {
        "id": "41Pne75Ydqmr"
      },
      "source": [
        "#### - https://archive.ics.uci.edu/에 접속하여, ‘human activity recognition’를 검색한다. \n",
        " -‘UCI HAR Dataset’  압축파일을 다운받아서, 압축을 푼다. \n",
        "\n",
        "\n",
        "\n",
        "\n",
        " #Colab\n",
        "\n",
        "다운받은 압축파일을 구글드라이브에 업로드\n",
        "\n"
      ]
    },
    {
      "cell_type": "code",
      "metadata": {
        "colab": {
          "base_uri": "https://localhost:8080/"
        },
        "id": "DEGJqkFbfR_B",
        "outputId": "5b71f6ef-e3ae-4c65-8c9d-97e709ad10e7"
      },
      "source": [
        "#구글드라이브 마운트\n",
        "from google.colab import drive\n",
        "drive.mount('/content/gdrive')"
      ],
      "execution_count": 5,
      "outputs": [
        {
          "output_type": "stream",
          "name": "stdout",
          "text": [
            "Mounted at /content/gdrive\n"
          ]
        }
      ]
    },
    {
      "cell_type": "code",
      "metadata": {
        "id": "EVtNlcIEeLjB"
      },
      "source": [
        "#NOTBOOK\n",
        "# \"Duplicate names are not allowed\" 에러가 발생하지 않도록 pandas 버전을 down grade하여 설치 하기\n",
        "# 방법1) Anaconda Prompt를 관리자 권한으로 실행하여, pip install pandas==0.24.2  \n",
        "# >> [Anaconda Prompt] 메뉴에서 마우스 오른쪽 버튼을 클릭하고 [자세히]-[관리자 권한으로 실행]한 후에 명령어 입력\n",
        "# 방법2) 주피터 노트북을 관리자 권한으로 실행한 후에, !pip install pandas==0.24.2  \n",
        "# >> [Jupyter Notebook] 메뉴에서 마우스 오른쪽 버튼을 클릭하고 [자세히]-[관리자 권한으로 실행] 한 후에 명령어 입력"
      ],
      "execution_count": null,
      "outputs": []
    },
    {
      "cell_type": "code",
      "metadata": {
        "colab": {
          "base_uri": "https://localhost:8080/",
          "height": 474
        },
        "id": "QEEMsGMLdqmt",
        "outputId": "9dda4de0-bce5-460b-f306-b8f41f3ddd14"
      },
      "source": [
        "!pip install pandas==0.24.2  "
      ],
      "execution_count": 2,
      "outputs": [
        {
          "output_type": "stream",
          "name": "stdout",
          "text": [
            "Collecting pandas==0.24.2\n",
            "  Downloading pandas-0.24.2-cp37-cp37m-manylinux1_x86_64.whl (10.1 MB)\n",
            "\u001b[K     |████████████████████████████████| 10.1 MB 3.8 MB/s \n",
            "\u001b[?25hRequirement already satisfied: numpy>=1.12.0 in /usr/local/lib/python3.7/dist-packages (from pandas==0.24.2) (1.19.5)\n",
            "Requirement already satisfied: pytz>=2011k in /usr/local/lib/python3.7/dist-packages (from pandas==0.24.2) (2018.9)\n",
            "Requirement already satisfied: python-dateutil>=2.5.0 in /usr/local/lib/python3.7/dist-packages (from pandas==0.24.2) (2.8.2)\n",
            "Requirement already satisfied: six>=1.5 in /usr/local/lib/python3.7/dist-packages (from python-dateutil>=2.5.0->pandas==0.24.2) (1.15.0)\n",
            "Installing collected packages: pandas\n",
            "  Attempting uninstall: pandas\n",
            "    Found existing installation: pandas 1.1.5\n",
            "    Uninstalling pandas-1.1.5:\n",
            "      Successfully uninstalled pandas-1.1.5\n",
            "\u001b[31mERROR: pip's dependency resolver does not currently take into account all the packages that are installed. This behaviour is the source of the following dependency conflicts.\n",
            "xarray 0.18.2 requires pandas>=1.0, but you have pandas 0.24.2 which is incompatible.\n",
            "plotnine 0.6.0 requires pandas>=0.25.0, but you have pandas 0.24.2 which is incompatible.\n",
            "mizani 0.6.0 requires pandas>=0.25.0, but you have pandas 0.24.2 which is incompatible.\n",
            "google-colab 1.0.0 requires pandas~=1.1.0; python_version >= \"3.0\", but you have pandas 0.24.2 which is incompatible.\n",
            "fbprophet 0.7.1 requires pandas>=1.0.4, but you have pandas 0.24.2 which is incompatible.\u001b[0m\n",
            "Successfully installed pandas-0.24.2\n"
          ]
        },
        {
          "output_type": "display_data",
          "data": {
            "application/vnd.colab-display-data+json": {
              "pip_warning": {
                "packages": [
                  "pandas"
                ]
              }
            }
          },
          "metadata": {}
        }
      ]
    },
    {
      "cell_type": "markdown",
      "metadata": {
        "id": "mdvxuZVadqmw"
      },
      "source": [
        "### 2) 데이터 준비 및 탐색"
      ]
    },
    {
      "cell_type": "code",
      "metadata": {
        "colab": {
          "base_uri": "https://localhost:8080/",
          "height": 35
        },
        "id": "fA9uj4Oqdqmx",
        "outputId": "90605d03-049f-4ab7-8c58-dcbab4d8e4cc"
      },
      "source": [
        "import numpy as np\n",
        "import pandas as pd\n",
        "\n",
        "pd.__version__ "
      ],
      "execution_count": 1,
      "outputs": [
        {
          "output_type": "execute_result",
          "data": {
            "application/vnd.google.colaboratory.intrinsic+json": {
              "type": "string"
            },
            "text/plain": [
              "'0.24.2'"
            ]
          },
          "metadata": {},
          "execution_count": 1
        }
      ]
    },
    {
      "cell_type": "code",
      "metadata": {
        "id": "cNU2QV22dqmz"
      },
      "source": [
        "# 피처 이름 파일 읽어오기 \n",
        "feature_name_df = pd.read_csv('/content/gdrive/MyDrive/Lecture_2021_Fall_AITrainData/UCI_HAR_Dataset/UCI_HAR_Dataset/features.txt', sep='\\s+',  header=None, names=['index', 'feature_name'], engine='python')"
      ],
      "execution_count": 2,
      "outputs": []
    },
    {
      "cell_type": "code",
      "metadata": {
        "scrolled": true,
        "colab": {
          "base_uri": "https://localhost:8080/",
          "height": 206
        },
        "id": "gmRSSH_fdqm0",
        "outputId": "84c70f70-f896-43c5-829f-be80f996eb01"
      },
      "source": [
        "feature_name_df.head()"
      ],
      "execution_count": 3,
      "outputs": [
        {
          "output_type": "execute_result",
          "data": {
            "text/html": [
              "<div>\n",
              "<style scoped>\n",
              "    .dataframe tbody tr th:only-of-type {\n",
              "        vertical-align: middle;\n",
              "    }\n",
              "\n",
              "    .dataframe tbody tr th {\n",
              "        vertical-align: top;\n",
              "    }\n",
              "\n",
              "    .dataframe thead th {\n",
              "        text-align: right;\n",
              "    }\n",
              "</style>\n",
              "<table border=\"1\" class=\"dataframe\">\n",
              "  <thead>\n",
              "    <tr style=\"text-align: right;\">\n",
              "      <th></th>\n",
              "      <th>index</th>\n",
              "      <th>feature_name</th>\n",
              "    </tr>\n",
              "  </thead>\n",
              "  <tbody>\n",
              "    <tr>\n",
              "      <th>0</th>\n",
              "      <td>1</td>\n",
              "      <td>tBodyAcc-mean()-X</td>\n",
              "    </tr>\n",
              "    <tr>\n",
              "      <th>1</th>\n",
              "      <td>2</td>\n",
              "      <td>tBodyAcc-mean()-Y</td>\n",
              "    </tr>\n",
              "    <tr>\n",
              "      <th>2</th>\n",
              "      <td>3</td>\n",
              "      <td>tBodyAcc-mean()-Z</td>\n",
              "    </tr>\n",
              "    <tr>\n",
              "      <th>3</th>\n",
              "      <td>4</td>\n",
              "      <td>tBodyAcc-std()-X</td>\n",
              "    </tr>\n",
              "    <tr>\n",
              "      <th>4</th>\n",
              "      <td>5</td>\n",
              "      <td>tBodyAcc-std()-Y</td>\n",
              "    </tr>\n",
              "  </tbody>\n",
              "</table>\n",
              "</div>"
            ],
            "text/plain": [
              "   index       feature_name\n",
              "0      1  tBodyAcc-mean()-X\n",
              "1      2  tBodyAcc-mean()-Y\n",
              "2      3  tBodyAcc-mean()-Z\n",
              "3      4   tBodyAcc-std()-X\n",
              "4      5   tBodyAcc-std()-Y"
            ]
          },
          "metadata": {},
          "execution_count": 3
        }
      ]
    },
    {
      "cell_type": "code",
      "metadata": {
        "colab": {
          "base_uri": "https://localhost:8080/"
        },
        "id": "-uLddOjsdqm2",
        "outputId": "da852d81-34ce-4c88-e2c0-183ee894a7e1"
      },
      "source": [
        "feature_name_df.shape"
      ],
      "execution_count": 4,
      "outputs": [
        {
          "output_type": "execute_result",
          "data": {
            "text/plain": [
              "(561, 2)"
            ]
          },
          "metadata": {},
          "execution_count": 4
        }
      ]
    },
    {
      "cell_type": "code",
      "metadata": {
        "id": "eyHgULjrdqm2"
      },
      "source": [
        "# index 제거하고, feature_name만 리스트로 저장\n",
        "feature_name = feature_name_df.iloc[:, 1].values.tolist()"
      ],
      "execution_count": 5,
      "outputs": []
    },
    {
      "cell_type": "code",
      "metadata": {
        "colab": {
          "base_uri": "https://localhost:8080/"
        },
        "id": "DdLDm2yAdqm3",
        "outputId": "53141279-516b-4ae8-b186-91d9c0a329d7"
      },
      "source": [
        "feature_name[:5]"
      ],
      "execution_count": 6,
      "outputs": [
        {
          "output_type": "execute_result",
          "data": {
            "text/plain": [
              "['tBodyAcc-mean()-X',\n",
              " 'tBodyAcc-mean()-Y',\n",
              " 'tBodyAcc-mean()-Z',\n",
              " 'tBodyAcc-std()-X',\n",
              " 'tBodyAcc-std()-Y']"
            ]
          },
          "metadata": {},
          "execution_count": 6
        }
      ]
    },
    {
      "cell_type": "code",
      "metadata": {
        "colab": {
          "base_uri": "https://localhost:8080/"
        },
        "id": "CeO0T5Ardqm3",
        "outputId": "78c779a2-785d-4a32-fa82-cb885f385243"
      },
      "source": [
        "X_train = pd.read_csv('/content/gdrive/MyDrive/Lecture_2021_Fall_AITrainData/UCI_HAR_Dataset/UCI_HAR_Dataset/train/X_train.txt', sep='\\s+', names=feature_name, engine='python')\n",
        "X_test = pd.read_csv('/content/gdrive/MyDrive/Lecture_2021_Fall_AITrainData/UCI_HAR_Dataset/UCI_HAR_Dataset/test/X_test.txt', sep='\\s+', names=feature_name, engine='python')\n",
        "\n",
        "Y_train = pd.read_csv('/content/gdrive/MyDrive/Lecture_2021_Fall_AITrainData/UCI_HAR_Dataset/UCI_HAR_Dataset/train/y_train.txt', sep='\\s+', header=None, names=['action'], engine='python')\n",
        "Y_test = pd.read_csv('/content/gdrive/MyDrive/Lecture_2021_Fall_AITrainData/UCI_HAR_Dataset/UCI_HAR_Dataset/test/y_test.txt', sep='\\s+', header=None, names=['action'], engine='python')"
      ],
      "execution_count": 7,
      "outputs": [
        {
          "output_type": "stream",
          "name": "stderr",
          "text": [
            "/usr/local/lib/python3.7/dist-packages/pandas/io/parsers.py:702: UserWarning: Duplicate names specified. This will raise an error in the future.\n",
            "  return _read(filepath_or_buffer, kwds)\n"
          ]
        }
      ]
    },
    {
      "cell_type": "code",
      "metadata": {
        "colab": {
          "base_uri": "https://localhost:8080/"
        },
        "id": "igE03Hsudqm4",
        "outputId": "49b000d4-c9ce-46fc-db2c-c3d1e75de3e0"
      },
      "source": [
        "X_train.shape, Y_train.shape, X_test.shape, Y_test.shape"
      ],
      "execution_count": 8,
      "outputs": [
        {
          "output_type": "execute_result",
          "data": {
            "text/plain": [
              "((7352, 561), (7352, 1), (2947, 561), (2947, 1))"
            ]
          },
          "metadata": {},
          "execution_count": 8
        }
      ]
    },
    {
      "cell_type": "code",
      "metadata": {
        "colab": {
          "base_uri": "https://localhost:8080/"
        },
        "id": "eDtnkc4xdqm4",
        "outputId": "ebf29de8-36b3-4996-f117-f595f6cc8de3"
      },
      "source": [
        "X_train.info()"
      ],
      "execution_count": 9,
      "outputs": [
        {
          "output_type": "stream",
          "name": "stdout",
          "text": [
            "<class 'pandas.core.frame.DataFrame'>\n",
            "RangeIndex: 7352 entries, 0 to 7351\n",
            "Columns: 561 entries, tBodyAcc-mean()-X to angle(Z,gravityMean)\n",
            "dtypes: float64(561)\n",
            "memory usage: 31.5 MB\n"
          ]
        }
      ]
    },
    {
      "cell_type": "code",
      "metadata": {
        "colab": {
          "base_uri": "https://localhost:8080/",
          "height": 290
        },
        "id": "C7yTDWcydqm4",
        "outputId": "7e494640-0caa-427d-e1a0-e5ed795c8296"
      },
      "source": [
        "X_train.head()"
      ],
      "execution_count": 10,
      "outputs": [
        {
          "output_type": "execute_result",
          "data": {
            "text/html": [
              "<div>\n",
              "<style scoped>\n",
              "    .dataframe tbody tr th:only-of-type {\n",
              "        vertical-align: middle;\n",
              "    }\n",
              "\n",
              "    .dataframe tbody tr th {\n",
              "        vertical-align: top;\n",
              "    }\n",
              "\n",
              "    .dataframe thead th {\n",
              "        text-align: right;\n",
              "    }\n",
              "</style>\n",
              "<table border=\"1\" class=\"dataframe\">\n",
              "  <thead>\n",
              "    <tr style=\"text-align: right;\">\n",
              "      <th></th>\n",
              "      <th>tBodyAcc-mean()-X</th>\n",
              "      <th>tBodyAcc-mean()-Y</th>\n",
              "      <th>tBodyAcc-mean()-Z</th>\n",
              "      <th>tBodyAcc-std()-X</th>\n",
              "      <th>tBodyAcc-std()-Y</th>\n",
              "      <th>tBodyAcc-std()-Z</th>\n",
              "      <th>tBodyAcc-mad()-X</th>\n",
              "      <th>tBodyAcc-mad()-Y</th>\n",
              "      <th>tBodyAcc-mad()-Z</th>\n",
              "      <th>tBodyAcc-max()-X</th>\n",
              "      <th>tBodyAcc-max()-Y</th>\n",
              "      <th>tBodyAcc-max()-Z</th>\n",
              "      <th>tBodyAcc-min()-X</th>\n",
              "      <th>tBodyAcc-min()-Y</th>\n",
              "      <th>tBodyAcc-min()-Z</th>\n",
              "      <th>tBodyAcc-sma()</th>\n",
              "      <th>tBodyAcc-energy()-X</th>\n",
              "      <th>tBodyAcc-energy()-Y</th>\n",
              "      <th>tBodyAcc-energy()-Z</th>\n",
              "      <th>tBodyAcc-iqr()-X</th>\n",
              "      <th>tBodyAcc-iqr()-Y</th>\n",
              "      <th>tBodyAcc-iqr()-Z</th>\n",
              "      <th>tBodyAcc-entropy()-X</th>\n",
              "      <th>tBodyAcc-entropy()-Y</th>\n",
              "      <th>tBodyAcc-entropy()-Z</th>\n",
              "      <th>tBodyAcc-arCoeff()-X,1</th>\n",
              "      <th>tBodyAcc-arCoeff()-X,2</th>\n",
              "      <th>tBodyAcc-arCoeff()-X,3</th>\n",
              "      <th>tBodyAcc-arCoeff()-X,4</th>\n",
              "      <th>tBodyAcc-arCoeff()-Y,1</th>\n",
              "      <th>tBodyAcc-arCoeff()-Y,2</th>\n",
              "      <th>tBodyAcc-arCoeff()-Y,3</th>\n",
              "      <th>tBodyAcc-arCoeff()-Y,4</th>\n",
              "      <th>tBodyAcc-arCoeff()-Z,1</th>\n",
              "      <th>tBodyAcc-arCoeff()-Z,2</th>\n",
              "      <th>tBodyAcc-arCoeff()-Z,3</th>\n",
              "      <th>tBodyAcc-arCoeff()-Z,4</th>\n",
              "      <th>tBodyAcc-correlation()-X,Y</th>\n",
              "      <th>tBodyAcc-correlation()-X,Z</th>\n",
              "      <th>tBodyAcc-correlation()-Y,Z</th>\n",
              "      <th>...</th>\n",
              "      <th>fBodyBodyAccJerkMag-energy()</th>\n",
              "      <th>fBodyBodyAccJerkMag-iqr()</th>\n",
              "      <th>fBodyBodyAccJerkMag-entropy()</th>\n",
              "      <th>fBodyBodyAccJerkMag-maxInds</th>\n",
              "      <th>fBodyBodyAccJerkMag-meanFreq()</th>\n",
              "      <th>fBodyBodyAccJerkMag-skewness()</th>\n",
              "      <th>fBodyBodyAccJerkMag-kurtosis()</th>\n",
              "      <th>fBodyBodyGyroMag-mean()</th>\n",
              "      <th>fBodyBodyGyroMag-std()</th>\n",
              "      <th>fBodyBodyGyroMag-mad()</th>\n",
              "      <th>fBodyBodyGyroMag-max()</th>\n",
              "      <th>fBodyBodyGyroMag-min()</th>\n",
              "      <th>fBodyBodyGyroMag-sma()</th>\n",
              "      <th>fBodyBodyGyroMag-energy()</th>\n",
              "      <th>fBodyBodyGyroMag-iqr()</th>\n",
              "      <th>fBodyBodyGyroMag-entropy()</th>\n",
              "      <th>fBodyBodyGyroMag-maxInds</th>\n",
              "      <th>fBodyBodyGyroMag-meanFreq()</th>\n",
              "      <th>fBodyBodyGyroMag-skewness()</th>\n",
              "      <th>fBodyBodyGyroMag-kurtosis()</th>\n",
              "      <th>fBodyBodyGyroJerkMag-mean()</th>\n",
              "      <th>fBodyBodyGyroJerkMag-std()</th>\n",
              "      <th>fBodyBodyGyroJerkMag-mad()</th>\n",
              "      <th>fBodyBodyGyroJerkMag-max()</th>\n",
              "      <th>fBodyBodyGyroJerkMag-min()</th>\n",
              "      <th>fBodyBodyGyroJerkMag-sma()</th>\n",
              "      <th>fBodyBodyGyroJerkMag-energy()</th>\n",
              "      <th>fBodyBodyGyroJerkMag-iqr()</th>\n",
              "      <th>fBodyBodyGyroJerkMag-entropy()</th>\n",
              "      <th>fBodyBodyGyroJerkMag-maxInds</th>\n",
              "      <th>fBodyBodyGyroJerkMag-meanFreq()</th>\n",
              "      <th>fBodyBodyGyroJerkMag-skewness()</th>\n",
              "      <th>fBodyBodyGyroJerkMag-kurtosis()</th>\n",
              "      <th>angle(tBodyAccMean,gravity)</th>\n",
              "      <th>angle(tBodyAccJerkMean),gravityMean)</th>\n",
              "      <th>angle(tBodyGyroMean,gravityMean)</th>\n",
              "      <th>angle(tBodyGyroJerkMean,gravityMean)</th>\n",
              "      <th>angle(X,gravityMean)</th>\n",
              "      <th>angle(Y,gravityMean)</th>\n",
              "      <th>angle(Z,gravityMean)</th>\n",
              "    </tr>\n",
              "  </thead>\n",
              "  <tbody>\n",
              "    <tr>\n",
              "      <th>0</th>\n",
              "      <td>0.288585</td>\n",
              "      <td>-0.020294</td>\n",
              "      <td>-0.132905</td>\n",
              "      <td>-0.995279</td>\n",
              "      <td>-0.983111</td>\n",
              "      <td>-0.913526</td>\n",
              "      <td>-0.995112</td>\n",
              "      <td>-0.983185</td>\n",
              "      <td>-0.923527</td>\n",
              "      <td>-0.934724</td>\n",
              "      <td>-0.567378</td>\n",
              "      <td>-0.744413</td>\n",
              "      <td>0.852947</td>\n",
              "      <td>0.685845</td>\n",
              "      <td>0.814263</td>\n",
              "      <td>-0.965523</td>\n",
              "      <td>-0.999945</td>\n",
              "      <td>-0.999863</td>\n",
              "      <td>-0.994612</td>\n",
              "      <td>-0.994231</td>\n",
              "      <td>-0.987614</td>\n",
              "      <td>-0.943220</td>\n",
              "      <td>-0.407747</td>\n",
              "      <td>-0.679338</td>\n",
              "      <td>-0.602122</td>\n",
              "      <td>0.929294</td>\n",
              "      <td>-0.853011</td>\n",
              "      <td>0.359910</td>\n",
              "      <td>-0.058526</td>\n",
              "      <td>0.256892</td>\n",
              "      <td>-0.224848</td>\n",
              "      <td>0.264106</td>\n",
              "      <td>-0.095246</td>\n",
              "      <td>0.278851</td>\n",
              "      <td>-0.465085</td>\n",
              "      <td>0.491936</td>\n",
              "      <td>-0.190884</td>\n",
              "      <td>0.376314</td>\n",
              "      <td>0.435129</td>\n",
              "      <td>0.660790</td>\n",
              "      <td>...</td>\n",
              "      <td>-0.999918</td>\n",
              "      <td>-0.991364</td>\n",
              "      <td>-1.0</td>\n",
              "      <td>-0.936508</td>\n",
              "      <td>0.346989</td>\n",
              "      <td>-0.516080</td>\n",
              "      <td>-0.802760</td>\n",
              "      <td>-0.980135</td>\n",
              "      <td>-0.961309</td>\n",
              "      <td>-0.973653</td>\n",
              "      <td>-0.952264</td>\n",
              "      <td>-0.989498</td>\n",
              "      <td>-0.980135</td>\n",
              "      <td>-0.999240</td>\n",
              "      <td>-0.992656</td>\n",
              "      <td>-0.701291</td>\n",
              "      <td>-1.000000</td>\n",
              "      <td>-0.128989</td>\n",
              "      <td>0.586156</td>\n",
              "      <td>0.374605</td>\n",
              "      <td>-0.991990</td>\n",
              "      <td>-0.990697</td>\n",
              "      <td>-0.989941</td>\n",
              "      <td>-0.992448</td>\n",
              "      <td>-0.991048</td>\n",
              "      <td>-0.991990</td>\n",
              "      <td>-0.999937</td>\n",
              "      <td>-0.990458</td>\n",
              "      <td>-0.871306</td>\n",
              "      <td>-1.000000</td>\n",
              "      <td>-0.074323</td>\n",
              "      <td>-0.298676</td>\n",
              "      <td>-0.710304</td>\n",
              "      <td>-0.112754</td>\n",
              "      <td>0.030400</td>\n",
              "      <td>-0.464761</td>\n",
              "      <td>-0.018446</td>\n",
              "      <td>-0.841247</td>\n",
              "      <td>0.179941</td>\n",
              "      <td>-0.058627</td>\n",
              "    </tr>\n",
              "    <tr>\n",
              "      <th>1</th>\n",
              "      <td>0.278419</td>\n",
              "      <td>-0.016411</td>\n",
              "      <td>-0.123520</td>\n",
              "      <td>-0.998245</td>\n",
              "      <td>-0.975300</td>\n",
              "      <td>-0.960322</td>\n",
              "      <td>-0.998807</td>\n",
              "      <td>-0.974914</td>\n",
              "      <td>-0.957686</td>\n",
              "      <td>-0.943068</td>\n",
              "      <td>-0.557851</td>\n",
              "      <td>-0.818409</td>\n",
              "      <td>0.849308</td>\n",
              "      <td>0.685845</td>\n",
              "      <td>0.822637</td>\n",
              "      <td>-0.981930</td>\n",
              "      <td>-0.999991</td>\n",
              "      <td>-0.999788</td>\n",
              "      <td>-0.998405</td>\n",
              "      <td>-0.999150</td>\n",
              "      <td>-0.977866</td>\n",
              "      <td>-0.948225</td>\n",
              "      <td>-0.714892</td>\n",
              "      <td>-0.500930</td>\n",
              "      <td>-0.570979</td>\n",
              "      <td>0.611627</td>\n",
              "      <td>-0.329549</td>\n",
              "      <td>0.284213</td>\n",
              "      <td>0.284595</td>\n",
              "      <td>0.115705</td>\n",
              "      <td>-0.090963</td>\n",
              "      <td>0.294310</td>\n",
              "      <td>-0.281211</td>\n",
              "      <td>0.085988</td>\n",
              "      <td>-0.022153</td>\n",
              "      <td>-0.016657</td>\n",
              "      <td>-0.220643</td>\n",
              "      <td>-0.013429</td>\n",
              "      <td>-0.072692</td>\n",
              "      <td>0.579382</td>\n",
              "      <td>...</td>\n",
              "      <td>-0.999867</td>\n",
              "      <td>-0.991134</td>\n",
              "      <td>-1.0</td>\n",
              "      <td>-0.841270</td>\n",
              "      <td>0.532061</td>\n",
              "      <td>-0.624871</td>\n",
              "      <td>-0.900160</td>\n",
              "      <td>-0.988296</td>\n",
              "      <td>-0.983322</td>\n",
              "      <td>-0.982659</td>\n",
              "      <td>-0.986321</td>\n",
              "      <td>-0.991829</td>\n",
              "      <td>-0.988296</td>\n",
              "      <td>-0.999811</td>\n",
              "      <td>-0.993979</td>\n",
              "      <td>-0.720683</td>\n",
              "      <td>-0.948718</td>\n",
              "      <td>-0.271958</td>\n",
              "      <td>-0.336310</td>\n",
              "      <td>-0.720015</td>\n",
              "      <td>-0.995854</td>\n",
              "      <td>-0.996399</td>\n",
              "      <td>-0.995442</td>\n",
              "      <td>-0.996866</td>\n",
              "      <td>-0.994440</td>\n",
              "      <td>-0.995854</td>\n",
              "      <td>-0.999981</td>\n",
              "      <td>-0.994544</td>\n",
              "      <td>-1.000000</td>\n",
              "      <td>-1.000000</td>\n",
              "      <td>0.158075</td>\n",
              "      <td>-0.595051</td>\n",
              "      <td>-0.861499</td>\n",
              "      <td>0.053477</td>\n",
              "      <td>-0.007435</td>\n",
              "      <td>-0.732626</td>\n",
              "      <td>0.703511</td>\n",
              "      <td>-0.844788</td>\n",
              "      <td>0.180289</td>\n",
              "      <td>-0.054317</td>\n",
              "    </tr>\n",
              "    <tr>\n",
              "      <th>2</th>\n",
              "      <td>0.279653</td>\n",
              "      <td>-0.019467</td>\n",
              "      <td>-0.113462</td>\n",
              "      <td>-0.995380</td>\n",
              "      <td>-0.967187</td>\n",
              "      <td>-0.978944</td>\n",
              "      <td>-0.996520</td>\n",
              "      <td>-0.963668</td>\n",
              "      <td>-0.977469</td>\n",
              "      <td>-0.938692</td>\n",
              "      <td>-0.557851</td>\n",
              "      <td>-0.818409</td>\n",
              "      <td>0.843609</td>\n",
              "      <td>0.682401</td>\n",
              "      <td>0.839344</td>\n",
              "      <td>-0.983478</td>\n",
              "      <td>-0.999969</td>\n",
              "      <td>-0.999660</td>\n",
              "      <td>-0.999470</td>\n",
              "      <td>-0.997130</td>\n",
              "      <td>-0.964810</td>\n",
              "      <td>-0.974675</td>\n",
              "      <td>-0.592235</td>\n",
              "      <td>-0.485821</td>\n",
              "      <td>-0.570979</td>\n",
              "      <td>0.273025</td>\n",
              "      <td>-0.086309</td>\n",
              "      <td>0.337202</td>\n",
              "      <td>-0.164739</td>\n",
              "      <td>0.017150</td>\n",
              "      <td>-0.074507</td>\n",
              "      <td>0.342256</td>\n",
              "      <td>-0.332564</td>\n",
              "      <td>0.239281</td>\n",
              "      <td>-0.136204</td>\n",
              "      <td>0.173863</td>\n",
              "      <td>-0.299493</td>\n",
              "      <td>-0.124698</td>\n",
              "      <td>-0.181105</td>\n",
              "      <td>0.608900</td>\n",
              "      <td>...</td>\n",
              "      <td>-0.999845</td>\n",
              "      <td>-0.986658</td>\n",
              "      <td>-1.0</td>\n",
              "      <td>-0.904762</td>\n",
              "      <td>0.660795</td>\n",
              "      <td>-0.724697</td>\n",
              "      <td>-0.928539</td>\n",
              "      <td>-0.989255</td>\n",
              "      <td>-0.986028</td>\n",
              "      <td>-0.984274</td>\n",
              "      <td>-0.990979</td>\n",
              "      <td>-0.995703</td>\n",
              "      <td>-0.989255</td>\n",
              "      <td>-0.999854</td>\n",
              "      <td>-0.993238</td>\n",
              "      <td>-0.736521</td>\n",
              "      <td>-0.794872</td>\n",
              "      <td>-0.212728</td>\n",
              "      <td>-0.535352</td>\n",
              "      <td>-0.871914</td>\n",
              "      <td>-0.995031</td>\n",
              "      <td>-0.995127</td>\n",
              "      <td>-0.994640</td>\n",
              "      <td>-0.996060</td>\n",
              "      <td>-0.995866</td>\n",
              "      <td>-0.995031</td>\n",
              "      <td>-0.999973</td>\n",
              "      <td>-0.993755</td>\n",
              "      <td>-1.000000</td>\n",
              "      <td>-0.555556</td>\n",
              "      <td>0.414503</td>\n",
              "      <td>-0.390748</td>\n",
              "      <td>-0.760104</td>\n",
              "      <td>-0.118559</td>\n",
              "      <td>0.177899</td>\n",
              "      <td>0.100699</td>\n",
              "      <td>0.808529</td>\n",
              "      <td>-0.848933</td>\n",
              "      <td>0.180637</td>\n",
              "      <td>-0.049118</td>\n",
              "    </tr>\n",
              "    <tr>\n",
              "      <th>3</th>\n",
              "      <td>0.279174</td>\n",
              "      <td>-0.026201</td>\n",
              "      <td>-0.123283</td>\n",
              "      <td>-0.996091</td>\n",
              "      <td>-0.983403</td>\n",
              "      <td>-0.990675</td>\n",
              "      <td>-0.997099</td>\n",
              "      <td>-0.982750</td>\n",
              "      <td>-0.989302</td>\n",
              "      <td>-0.938692</td>\n",
              "      <td>-0.576159</td>\n",
              "      <td>-0.829711</td>\n",
              "      <td>0.843609</td>\n",
              "      <td>0.682401</td>\n",
              "      <td>0.837869</td>\n",
              "      <td>-0.986093</td>\n",
              "      <td>-0.999976</td>\n",
              "      <td>-0.999736</td>\n",
              "      <td>-0.999504</td>\n",
              "      <td>-0.997180</td>\n",
              "      <td>-0.983799</td>\n",
              "      <td>-0.986007</td>\n",
              "      <td>-0.627446</td>\n",
              "      <td>-0.850930</td>\n",
              "      <td>-0.911872</td>\n",
              "      <td>0.061436</td>\n",
              "      <td>0.074840</td>\n",
              "      <td>0.198204</td>\n",
              "      <td>-0.264307</td>\n",
              "      <td>0.072545</td>\n",
              "      <td>-0.155320</td>\n",
              "      <td>0.323154</td>\n",
              "      <td>-0.170813</td>\n",
              "      <td>0.294938</td>\n",
              "      <td>-0.306081</td>\n",
              "      <td>0.482148</td>\n",
              "      <td>-0.470129</td>\n",
              "      <td>-0.305693</td>\n",
              "      <td>-0.362654</td>\n",
              "      <td>0.507459</td>\n",
              "      <td>...</td>\n",
              "      <td>-0.999895</td>\n",
              "      <td>-0.988055</td>\n",
              "      <td>-1.0</td>\n",
              "      <td>1.000000</td>\n",
              "      <td>0.678921</td>\n",
              "      <td>-0.701131</td>\n",
              "      <td>-0.909639</td>\n",
              "      <td>-0.989413</td>\n",
              "      <td>-0.987836</td>\n",
              "      <td>-0.986850</td>\n",
              "      <td>-0.986749</td>\n",
              "      <td>-0.996199</td>\n",
              "      <td>-0.989413</td>\n",
              "      <td>-0.999876</td>\n",
              "      <td>-0.989136</td>\n",
              "      <td>-0.720891</td>\n",
              "      <td>-1.000000</td>\n",
              "      <td>-0.035684</td>\n",
              "      <td>-0.230091</td>\n",
              "      <td>-0.511217</td>\n",
              "      <td>-0.995221</td>\n",
              "      <td>-0.995237</td>\n",
              "      <td>-0.995722</td>\n",
              "      <td>-0.995273</td>\n",
              "      <td>-0.995732</td>\n",
              "      <td>-0.995221</td>\n",
              "      <td>-0.999974</td>\n",
              "      <td>-0.995226</td>\n",
              "      <td>-0.955696</td>\n",
              "      <td>-0.936508</td>\n",
              "      <td>0.404573</td>\n",
              "      <td>-0.117290</td>\n",
              "      <td>-0.482845</td>\n",
              "      <td>-0.036788</td>\n",
              "      <td>-0.012892</td>\n",
              "      <td>0.640011</td>\n",
              "      <td>-0.485366</td>\n",
              "      <td>-0.848649</td>\n",
              "      <td>0.181935</td>\n",
              "      <td>-0.047663</td>\n",
              "    </tr>\n",
              "    <tr>\n",
              "      <th>4</th>\n",
              "      <td>0.276629</td>\n",
              "      <td>-0.016570</td>\n",
              "      <td>-0.115362</td>\n",
              "      <td>-0.998139</td>\n",
              "      <td>-0.980817</td>\n",
              "      <td>-0.990482</td>\n",
              "      <td>-0.998321</td>\n",
              "      <td>-0.979672</td>\n",
              "      <td>-0.990441</td>\n",
              "      <td>-0.942469</td>\n",
              "      <td>-0.569174</td>\n",
              "      <td>-0.824705</td>\n",
              "      <td>0.849095</td>\n",
              "      <td>0.683250</td>\n",
              "      <td>0.837869</td>\n",
              "      <td>-0.992653</td>\n",
              "      <td>-0.999991</td>\n",
              "      <td>-0.999856</td>\n",
              "      <td>-0.999757</td>\n",
              "      <td>-0.998004</td>\n",
              "      <td>-0.981232</td>\n",
              "      <td>-0.991325</td>\n",
              "      <td>-0.786553</td>\n",
              "      <td>-0.559477</td>\n",
              "      <td>-0.761434</td>\n",
              "      <td>0.313276</td>\n",
              "      <td>-0.131208</td>\n",
              "      <td>0.191161</td>\n",
              "      <td>0.086904</td>\n",
              "      <td>0.257615</td>\n",
              "      <td>-0.272505</td>\n",
              "      <td>0.434728</td>\n",
              "      <td>-0.315375</td>\n",
              "      <td>0.439744</td>\n",
              "      <td>-0.269069</td>\n",
              "      <td>0.179414</td>\n",
              "      <td>-0.088952</td>\n",
              "      <td>-0.155804</td>\n",
              "      <td>-0.189763</td>\n",
              "      <td>0.599213</td>\n",
              "      <td>...</td>\n",
              "      <td>-0.999941</td>\n",
              "      <td>-0.994169</td>\n",
              "      <td>-1.0</td>\n",
              "      <td>-1.000000</td>\n",
              "      <td>0.559058</td>\n",
              "      <td>-0.528901</td>\n",
              "      <td>-0.858933</td>\n",
              "      <td>-0.991433</td>\n",
              "      <td>-0.989059</td>\n",
              "      <td>-0.987744</td>\n",
              "      <td>-0.991462</td>\n",
              "      <td>-0.998353</td>\n",
              "      <td>-0.991433</td>\n",
              "      <td>-0.999902</td>\n",
              "      <td>-0.989321</td>\n",
              "      <td>-0.763372</td>\n",
              "      <td>-0.897436</td>\n",
              "      <td>-0.273582</td>\n",
              "      <td>-0.510282</td>\n",
              "      <td>-0.830702</td>\n",
              "      <td>-0.995093</td>\n",
              "      <td>-0.995465</td>\n",
              "      <td>-0.995279</td>\n",
              "      <td>-0.995609</td>\n",
              "      <td>-0.997418</td>\n",
              "      <td>-0.995093</td>\n",
              "      <td>-0.999974</td>\n",
              "      <td>-0.995487</td>\n",
              "      <td>-1.000000</td>\n",
              "      <td>-0.936508</td>\n",
              "      <td>0.087753</td>\n",
              "      <td>-0.351471</td>\n",
              "      <td>-0.699205</td>\n",
              "      <td>0.123320</td>\n",
              "      <td>0.122542</td>\n",
              "      <td>0.693578</td>\n",
              "      <td>-0.615971</td>\n",
              "      <td>-0.847865</td>\n",
              "      <td>0.185151</td>\n",
              "      <td>-0.043892</td>\n",
              "    </tr>\n",
              "  </tbody>\n",
              "</table>\n",
              "<p>5 rows × 561 columns</p>\n",
              "</div>"
            ],
            "text/plain": [
              "   tBodyAcc-mean()-X  ...  angle(Z,gravityMean)\n",
              "0           0.288585  ...             -0.058627\n",
              "1           0.278419  ...             -0.054317\n",
              "2           0.279653  ...             -0.049118\n",
              "3           0.279174  ...             -0.047663\n",
              "4           0.276629  ...             -0.043892\n",
              "\n",
              "[5 rows x 561 columns]"
            ]
          },
          "metadata": {},
          "execution_count": 10
        }
      ]
    },
    {
      "cell_type": "code",
      "metadata": {
        "scrolled": true,
        "colab": {
          "base_uri": "https://localhost:8080/"
        },
        "id": "tASIs4_Sdqm5",
        "outputId": "c7f40533-4650-4bdc-d9ed-b9e14bca6586"
      },
      "source": [
        "print(Y_train['action'].value_counts())"
      ],
      "execution_count": 11,
      "outputs": [
        {
          "output_type": "stream",
          "name": "stdout",
          "text": [
            "6    1407\n",
            "5    1374\n",
            "4    1286\n",
            "1    1226\n",
            "2    1073\n",
            "3     986\n",
            "Name: action, dtype: int64\n"
          ]
        }
      ]
    },
    {
      "cell_type": "code",
      "metadata": {
        "id": "xnbN1MQMdqm5"
      },
      "source": [
        "label_name_df = pd.read_csv('/content/gdrive/MyDrive/Lecture_2021_Fall_AITrainData/UCI_HAR_Dataset/UCI_HAR_Dataset/activity_labels.txt', sep='\\s+',  header=None, names=['index', 'label'], engine='python')"
      ],
      "execution_count": 12,
      "outputs": []
    },
    {
      "cell_type": "code",
      "metadata": {
        "id": "-nVsvBWldqm6"
      },
      "source": [
        "# index 제거하고, feature_name만 리스트로 저장\n",
        "label_name = label_name_df.iloc[:, 1].values.tolist()"
      ],
      "execution_count": null,
      "outputs": []
    },
    {
      "cell_type": "code",
      "metadata": {
        "colab": {
          "base_uri": "https://localhost:8080/"
        },
        "id": "KhSUlSdklYej",
        "outputId": "c746c12b-5818-4e1e-bdb5-a92a7debbd60"
      },
      "source": [
        "label_name"
      ],
      "execution_count": 14,
      "outputs": [
        {
          "output_type": "execute_result",
          "data": {
            "text/plain": [
              "['WALKING',\n",
              " 'WALKING_UPSTAIRS',\n",
              " 'WALKING_DOWNSTAIRS',\n",
              " 'SITTING',\n",
              " 'STANDING',\n",
              " 'LAYING']"
            ]
          },
          "metadata": {},
          "execution_count": 14
        }
      ]
    },
    {
      "cell_type": "markdown",
      "metadata": {
        "id": "E-cOLBOedqm6"
      },
      "source": [
        "### 3) 모델 구축 : 결정트리모델"
      ]
    },
    {
      "cell_type": "code",
      "metadata": {
        "id": "2e5e9jmRdqm6"
      },
      "source": [
        "from sklearn.tree import DecisionTreeClassifier"
      ],
      "execution_count": 15,
      "outputs": []
    },
    {
      "cell_type": "code",
      "metadata": {
        "id": "L0-yol-Bdqm7"
      },
      "source": [
        "# 결정 트리 분류 분석 : 1) 모델 생성\n",
        "dt_HAR = DecisionTreeClassifier(random_state=156)"
      ],
      "execution_count": 16,
      "outputs": []
    },
    {
      "cell_type": "code",
      "metadata": {
        "colab": {
          "base_uri": "https://localhost:8080/"
        },
        "id": "D5KlyO1wdqm7",
        "outputId": "b05e96d4-65c3-44cc-f297-adb6bd56b555"
      },
      "source": [
        "# 결정 트리 분류 분석 : 2) 모델 훈련\n",
        "dt_HAR.fit(X_train, Y_train)"
      ],
      "execution_count": 17,
      "outputs": [
        {
          "output_type": "execute_result",
          "data": {
            "text/plain": [
              "DecisionTreeClassifier(random_state=156)"
            ]
          },
          "metadata": {},
          "execution_count": 17
        }
      ]
    },
    {
      "cell_type": "code",
      "metadata": {
        "id": "brboyVOidqm7"
      },
      "source": [
        "# 결정 트리 분류 분석 : 3) 평가 데이터에 대한 예측 수행 -> 예측 결과 Y_predict 구하기\n",
        "Y_predict = dt_HAR.predict(X_test)"
      ],
      "execution_count": 18,
      "outputs": []
    },
    {
      "cell_type": "markdown",
      "metadata": {
        "id": "qkC8zTp_dqm8"
      },
      "source": [
        "### 4) 결과 분석"
      ]
    },
    {
      "cell_type": "code",
      "metadata": {
        "id": "U6VTLClVdqm8"
      },
      "source": [
        "from sklearn.metrics import accuracy_score"
      ],
      "execution_count": 19,
      "outputs": []
    },
    {
      "cell_type": "code",
      "metadata": {
        "colab": {
          "base_uri": "https://localhost:8080/"
        },
        "id": "BfcvEviZdqm8",
        "outputId": "99a5eaf3-37cc-4bc7-d9ee-68eedfb45628"
      },
      "source": [
        "accuracy = accuracy_score(Y_test, Y_predict)\n",
        "print('결정 트리 예측 정확도 : {0:.4f}'.format(accuracy))"
      ],
      "execution_count": 20,
      "outputs": [
        {
          "output_type": "stream",
          "name": "stdout",
          "text": [
            "결정 트리 예측 정확도 : 0.8548\n"
          ]
        }
      ]
    },
    {
      "cell_type": "markdown",
      "metadata": {
        "id": "bBucgUFOdqm8"
      },
      "source": [
        "#### ** 성능 개선을 위해 최적 파라미터 값 찾기"
      ]
    },
    {
      "cell_type": "code",
      "metadata": {
        "colab": {
          "base_uri": "https://localhost:8080/"
        },
        "id": "iNoFs1ipdqm8",
        "outputId": "2a7e593f-72e1-4d45-8caf-558aaba31c24"
      },
      "source": [
        "print('결정 트리의 현재 하이퍼 파라미터 : \\n', dt_HAR.get_params())"
      ],
      "execution_count": 21,
      "outputs": [
        {
          "output_type": "stream",
          "name": "stdout",
          "text": [
            "결정 트리의 현재 하이퍼 파라미터 : \n",
            " {'ccp_alpha': 0.0, 'class_weight': None, 'criterion': 'gini', 'max_depth': None, 'max_features': None, 'max_leaf_nodes': None, 'min_impurity_decrease': 0.0, 'min_samples_leaf': 1, 'min_samples_split': 2, 'min_weight_fraction_leaf': 0.0, 'random_state': 156, 'splitter': 'best'}\n"
          ]
        }
      ]
    },
    {
      "cell_type": "code",
      "metadata": {
        "id": "1dXND9GFdqm9"
      },
      "source": [
        "from sklearn.model_selection import GridSearchCV"
      ],
      "execution_count": 22,
      "outputs": []
    },
    {
      "cell_type": "markdown",
      "metadata": {
        "id": "U8-rKy7odqm9"
      },
      "source": [
        "#### 최적 파라미터 찾기 - 1"
      ]
    },
    {
      "cell_type": "code",
      "metadata": {
        "colab": {
          "base_uri": "https://localhost:8080/"
        },
        "id": "j3PV99ODdqm9",
        "outputId": "55b54116-cf29-4abb-f475-8e613c987de5"
      },
      "source": [
        "params = {\n",
        "    'max_depth' : [ 6, 8, 10, 12, 16, 20, 24]\n",
        "}\n",
        "\n",
        "grid_cv = GridSearchCV(dt_HAR, param_grid=params, scoring='accuracy', \n",
        "                       cv=5, return_train_score=True)\n",
        "grid_cv.fit(X_train , Y_train)"
      ],
      "execution_count": 23,
      "outputs": [
        {
          "output_type": "execute_result",
          "data": {
            "text/plain": [
              "GridSearchCV(cv=5, estimator=DecisionTreeClassifier(random_state=156),\n",
              "             param_grid={'max_depth': [6, 8, 10, 12, 16, 20, 24]},\n",
              "             return_train_score=True, scoring='accuracy')"
            ]
          },
          "metadata": {},
          "execution_count": 23
        }
      ]
    },
    {
      "cell_type": "code",
      "metadata": {
        "colab": {
          "base_uri": "https://localhost:8080/",
          "height": 269
        },
        "id": "ECTOK3O8dqm9",
        "outputId": "fd248a8f-3f3a-4726-b1b0-724a9d5eca53"
      },
      "source": [
        "cv_results_df = pd.DataFrame(grid_cv.cv_results_)\n",
        "cv_results_df[['param_max_depth', 'mean_test_score', 'mean_train_score']]"
      ],
      "execution_count": 24,
      "outputs": [
        {
          "output_type": "execute_result",
          "data": {
            "text/html": [
              "<div>\n",
              "<style scoped>\n",
              "    .dataframe tbody tr th:only-of-type {\n",
              "        vertical-align: middle;\n",
              "    }\n",
              "\n",
              "    .dataframe tbody tr th {\n",
              "        vertical-align: top;\n",
              "    }\n",
              "\n",
              "    .dataframe thead th {\n",
              "        text-align: right;\n",
              "    }\n",
              "</style>\n",
              "<table border=\"1\" class=\"dataframe\">\n",
              "  <thead>\n",
              "    <tr style=\"text-align: right;\">\n",
              "      <th></th>\n",
              "      <th>param_max_depth</th>\n",
              "      <th>mean_test_score</th>\n",
              "      <th>mean_train_score</th>\n",
              "    </tr>\n",
              "  </thead>\n",
              "  <tbody>\n",
              "    <tr>\n",
              "      <th>0</th>\n",
              "      <td>6</td>\n",
              "      <td>0.850791</td>\n",
              "      <td>0.944879</td>\n",
              "    </tr>\n",
              "    <tr>\n",
              "      <th>1</th>\n",
              "      <td>8</td>\n",
              "      <td>0.851069</td>\n",
              "      <td>0.982692</td>\n",
              "    </tr>\n",
              "    <tr>\n",
              "      <th>2</th>\n",
              "      <td>10</td>\n",
              "      <td>0.851209</td>\n",
              "      <td>0.993403</td>\n",
              "    </tr>\n",
              "    <tr>\n",
              "      <th>3</th>\n",
              "      <td>12</td>\n",
              "      <td>0.844135</td>\n",
              "      <td>0.997212</td>\n",
              "    </tr>\n",
              "    <tr>\n",
              "      <th>4</th>\n",
              "      <td>16</td>\n",
              "      <td>0.851344</td>\n",
              "      <td>0.999660</td>\n",
              "    </tr>\n",
              "    <tr>\n",
              "      <th>5</th>\n",
              "      <td>20</td>\n",
              "      <td>0.850800</td>\n",
              "      <td>0.999966</td>\n",
              "    </tr>\n",
              "    <tr>\n",
              "      <th>6</th>\n",
              "      <td>24</td>\n",
              "      <td>0.849440</td>\n",
              "      <td>1.000000</td>\n",
              "    </tr>\n",
              "  </tbody>\n",
              "</table>\n",
              "</div>"
            ],
            "text/plain": [
              "  param_max_depth  mean_test_score  mean_train_score\n",
              "0               6         0.850791          0.944879\n",
              "1               8         0.851069          0.982692\n",
              "2              10         0.851209          0.993403\n",
              "3              12         0.844135          0.997212\n",
              "4              16         0.851344          0.999660\n",
              "5              20         0.850800          0.999966\n",
              "6              24         0.849440          1.000000"
            ]
          },
          "metadata": {},
          "execution_count": 24
        }
      ]
    },
    {
      "cell_type": "code",
      "metadata": {
        "colab": {
          "base_uri": "https://localhost:8080/"
        },
        "id": "VKwZnBTzdqm9",
        "outputId": "5bd2af0d-bcaa-4bbe-95bb-cf2de343e980"
      },
      "source": [
        "print('최고 평균 정확도 : {0:.4f}, 최적 하이퍼 파라미터 :{1}'.format(grid_cv.best_score_ , grid_cv.best_params_))"
      ],
      "execution_count": 25,
      "outputs": [
        {
          "output_type": "stream",
          "name": "stdout",
          "text": [
            "최고 평균 정확도 : 0.8513, 최적 하이퍼 파라미터 :{'max_depth': 16}\n"
          ]
        }
      ]
    },
    {
      "cell_type": "markdown",
      "metadata": {
        "id": "93QxJjTidqm-"
      },
      "source": [
        "#### 최적 파라미터 찾기 - 2"
      ]
    },
    {
      "cell_type": "code",
      "metadata": {
        "colab": {
          "base_uri": "https://localhost:8080/"
        },
        "id": "BdW5UGImdqm-",
        "outputId": "5ddb94ff-a92a-4a70-82c9-694115d84727"
      },
      "source": [
        "params = {\n",
        "    'max_depth' : [ 8, 16, 20 ],\n",
        "    'min_samples_split' : [ 8, 16, 24 ]\n",
        "}\n",
        "\n",
        "grid_cv = GridSearchCV(dt_HAR, param_grid=params, scoring='accuracy', \n",
        "                       cv=5, return_train_score=True)\n",
        "grid_cv.fit(X_train , Y_train)"
      ],
      "execution_count": 26,
      "outputs": [
        {
          "output_type": "execute_result",
          "data": {
            "text/plain": [
              "GridSearchCV(cv=5, estimator=DecisionTreeClassifier(random_state=156),\n",
              "             param_grid={'max_depth': [8, 16, 20],\n",
              "                         'min_samples_split': [8, 16, 24]},\n",
              "             return_train_score=True, scoring='accuracy')"
            ]
          },
          "metadata": {},
          "execution_count": 26
        }
      ]
    },
    {
      "cell_type": "code",
      "metadata": {
        "colab": {
          "base_uri": "https://localhost:8080/",
          "height": 331
        },
        "id": "b_ocBplwdqm-",
        "outputId": "17d06337-878f-425e-8c43-b8e283021783"
      },
      "source": [
        "cv_results_df = pd.DataFrame(grid_cv.cv_results_)\n",
        "cv_results_df[['param_max_depth','param_min_samples_split', 'mean_test_score', 'mean_train_score']]"
      ],
      "execution_count": 27,
      "outputs": [
        {
          "output_type": "execute_result",
          "data": {
            "text/html": [
              "<div>\n",
              "<style scoped>\n",
              "    .dataframe tbody tr th:only-of-type {\n",
              "        vertical-align: middle;\n",
              "    }\n",
              "\n",
              "    .dataframe tbody tr th {\n",
              "        vertical-align: top;\n",
              "    }\n",
              "\n",
              "    .dataframe thead th {\n",
              "        text-align: right;\n",
              "    }\n",
              "</style>\n",
              "<table border=\"1\" class=\"dataframe\">\n",
              "  <thead>\n",
              "    <tr style=\"text-align: right;\">\n",
              "      <th></th>\n",
              "      <th>param_max_depth</th>\n",
              "      <th>param_min_samples_split</th>\n",
              "      <th>mean_test_score</th>\n",
              "      <th>mean_train_score</th>\n",
              "    </tr>\n",
              "  </thead>\n",
              "  <tbody>\n",
              "    <tr>\n",
              "      <th>0</th>\n",
              "      <td>8</td>\n",
              "      <td>8</td>\n",
              "      <td>0.852023</td>\n",
              "      <td>0.981468</td>\n",
              "    </tr>\n",
              "    <tr>\n",
              "      <th>1</th>\n",
              "      <td>8</td>\n",
              "      <td>16</td>\n",
              "      <td>0.854879</td>\n",
              "      <td>0.979836</td>\n",
              "    </tr>\n",
              "    <tr>\n",
              "      <th>2</th>\n",
              "      <td>8</td>\n",
              "      <td>24</td>\n",
              "      <td>0.851342</td>\n",
              "      <td>0.978237</td>\n",
              "    </tr>\n",
              "    <tr>\n",
              "      <th>3</th>\n",
              "      <td>16</td>\n",
              "      <td>8</td>\n",
              "      <td>0.844136</td>\n",
              "      <td>0.994457</td>\n",
              "    </tr>\n",
              "    <tr>\n",
              "      <th>4</th>\n",
              "      <td>16</td>\n",
              "      <td>16</td>\n",
              "      <td>0.847127</td>\n",
              "      <td>0.990479</td>\n",
              "    </tr>\n",
              "    <tr>\n",
              "      <th>5</th>\n",
              "      <td>16</td>\n",
              "      <td>24</td>\n",
              "      <td>0.849439</td>\n",
              "      <td>0.986772</td>\n",
              "    </tr>\n",
              "    <tr>\n",
              "      <th>6</th>\n",
              "      <td>20</td>\n",
              "      <td>8</td>\n",
              "      <td>0.846040</td>\n",
              "      <td>0.994491</td>\n",
              "    </tr>\n",
              "    <tr>\n",
              "      <th>7</th>\n",
              "      <td>20</td>\n",
              "      <td>16</td>\n",
              "      <td>0.848624</td>\n",
              "      <td>0.990479</td>\n",
              "    </tr>\n",
              "    <tr>\n",
              "      <th>8</th>\n",
              "      <td>20</td>\n",
              "      <td>24</td>\n",
              "      <td>0.849167</td>\n",
              "      <td>0.986772</td>\n",
              "    </tr>\n",
              "  </tbody>\n",
              "</table>\n",
              "</div>"
            ],
            "text/plain": [
              "  param_max_depth param_min_samples_split  mean_test_score  mean_train_score\n",
              "0               8                       8         0.852023          0.981468\n",
              "1               8                      16         0.854879          0.979836\n",
              "2               8                      24         0.851342          0.978237\n",
              "3              16                       8         0.844136          0.994457\n",
              "4              16                      16         0.847127          0.990479\n",
              "5              16                      24         0.849439          0.986772\n",
              "6              20                       8         0.846040          0.994491\n",
              "7              20                      16         0.848624          0.990479\n",
              "8              20                      24         0.849167          0.986772"
            ]
          },
          "metadata": {},
          "execution_count": 27
        }
      ]
    },
    {
      "cell_type": "code",
      "metadata": {
        "colab": {
          "base_uri": "https://localhost:8080/"
        },
        "id": "mli-1xErdqm-",
        "outputId": "8c943279-5e5c-4303-dc87-ec815e26c55d"
      },
      "source": [
        "print('최고 평균 정확도 : {0:.4f}, 최적 하이퍼 파라미터 :{1}'.format(grid_cv.best_score_ , grid_cv.best_params_))"
      ],
      "execution_count": 28,
      "outputs": [
        {
          "output_type": "stream",
          "name": "stdout",
          "text": [
            "최고 평균 정확도 : 0.8549, 최적 하이퍼 파라미터 :{'max_depth': 8, 'min_samples_split': 16}\n"
          ]
        }
      ]
    },
    {
      "cell_type": "code",
      "metadata": {
        "colab": {
          "base_uri": "https://localhost:8080/"
        },
        "id": "l7BaZL2Ydqm_",
        "outputId": "596255d8-f482-49ba-cdec-2fecf22f2431"
      },
      "source": [
        "best_dt_HAR = grid_cv.best_estimator_\n",
        "best_Y_predict = best_dt_HAR.predict(X_test)\n",
        "best_accuracy = accuracy_score(Y_test, best_Y_predict)\n",
        "\n",
        "print('best 결정 트리 예측 정확도 : {0:.4f}'.format(best_accuracy))"
      ],
      "execution_count": 29,
      "outputs": [
        {
          "output_type": "stream",
          "name": "stdout",
          "text": [
            "best 결정 트리 예측 정확도 : 0.8717\n"
          ]
        }
      ]
    },
    {
      "cell_type": "markdown",
      "metadata": {
        "id": "zseXmJm7dqm_"
      },
      "source": [
        "#### **  중요 피처 확인하기"
      ]
    },
    {
      "cell_type": "code",
      "metadata": {
        "id": "BCyz6V9Zdqm_"
      },
      "source": [
        "import seaborn as sns\n",
        "import matplotlib.pyplot as plt"
      ],
      "execution_count": 30,
      "outputs": []
    },
    {
      "cell_type": "code",
      "metadata": {
        "id": "TiYz4KjIdqm_"
      },
      "source": [
        "feature_importance_values = best_dt_HAR.feature_importances_\n",
        "feature_importance_values_s = pd.Series(feature_importance_values, index=X_train.columns)"
      ],
      "execution_count": 31,
      "outputs": []
    },
    {
      "cell_type": "code",
      "metadata": {
        "id": "xdtoGFODdqm_"
      },
      "source": [
        "feature_top10 = feature_importance_values_s.sort_values(ascending=False)[:10]"
      ],
      "execution_count": 32,
      "outputs": []
    },
    {
      "cell_type": "code",
      "metadata": {
        "colab": {
          "base_uri": "https://localhost:8080/",
          "height": 336
        },
        "id": "W-UcFqksdqnA",
        "outputId": "67dcd753-0e64-4856-9b15-378884e9cd5f"
      },
      "source": [
        "plt.figure(figsize = (10, 5))\n",
        "plt.title('Feature Top 10')\n",
        "sns.barplot(x=feature_top10, y=feature_top10.index)\n",
        "plt.show()"
      ],
      "execution_count": 33,
      "outputs": [
        {
          "output_type": "display_data",
          "data": {
            "image/png": "[encoded data removed]",
            "text/plain": [
              "<Figure size 720x360 with 1 Axes>"
            ]
          },
          "metadata": {
            "needs_background": "light"
          }
        }
      ]
    },
    {
      "cell_type": "markdown",
      "metadata": {
        "id": "XA9_T-uYdqnA"
      },
      "source": [
        "## 5) Graphviz를 사용한 결정트리 시각화"
      ]
    },
    {
      "cell_type": "markdown",
      "metadata": {
        "id": "8VOJC2TDdqnA"
      },
      "source": [
        "### (1) https://www2.graphviz.org/Packages/stable/windows/10/cmake/Release/x64/에서 \"graphviz-install-2.44.1-win64.exe\"를 다운로드 받아서 설치\n",
        "### (2) 설치한 경로를 시스템 변수 path에 직접 추가하기\n",
        "#### Program Files 폴더에 있는 graphviz 폴더 잘라내기 \n",
        "#### ->  잘라낸 graphviz 폴더를 C:\\Users\\anaconda3\\Lib\\site-packages에 붙여넣기\n",
        "#### ->  [제어판]-[시스템]-[고급 시스템 설정]-[환경변수]-[시스템변수]에서 Path를 선택하고 [편집]에서 C:\\Users\\anaconda3\\Lib\\site-packages\\graphviz 추가하기"
      ]
    },
    {
      "cell_type": "markdown",
      "metadata": {
        "id": "U0gm6x-DdqnA"
      },
      "source": [
        "### (3) 파이썬 래퍼 모듈 graphviz를 pip 명령으로 Anaconda에 설치"
      ]
    },
    {
      "cell_type": "code",
      "metadata": {
        "colab": {
          "base_uri": "https://localhost:8080/"
        },
        "id": "hX6xox2AdqnA",
        "outputId": "5df96749-22a6-4dfc-91a3-a450a242075b"
      },
      "source": [
        "!pip install graphviz"
      ],
      "execution_count": 34,
      "outputs": [
        {
          "output_type": "stream",
          "name": "stdout",
          "text": [
            "Requirement already satisfied: graphviz in /usr/local/lib/python3.7/dist-packages (0.10.1)\n"
          ]
        }
      ]
    },
    {
      "cell_type": "code",
      "metadata": {
        "id": "AOoH_Q99dqnA"
      },
      "source": [
        "from sklearn.tree import export_graphviz\n",
        "\n",
        "# export_graphviz()의 호출 결과로 out_file로 지정된 tree.dot 파일을 생성. \n",
        "export_graphviz(best_dt_HAR, out_file=\"tree.dot\", class_names=label_name , feature_names = feature_name, impurity=True, filled=True)"
      ],
      "execution_count": 35,
      "outputs": []
    },
    {
      "cell_type": "code",
      "metadata": {
        "colab": {
          "base_uri": "https://localhost:8080/",
          "height": 1000
        },
        "id": "rv0WsW0adqnB",
        "outputId": "f8360ee4-8d8a-4ed2-93b9-171087b7a076"
      },
      "source": [
        "import graphviz\n",
        "\n",
        "# 위에서 생성된 tree.dot 파일을 Graphviz 읽어서 Jupyter Notebook상에서 시각화 \n",
        "with open(\"tree.dot\") as f:\n",
        "    dot_graph = f.read()\n",
        "    \n",
        "graphviz.Source(dot_graph)"
      ],
      "execution_count": 36,
      "outputs": [
        {
          "output_type": "execute_result",
          "data": {
            "text/plain": [
              "<graphviz.files.Source at 0x7fe36a46b6d0>"
            ],
            "image/svg+xml": "<?xml version=\"1.0\" encoding=\"UTF-8\" standalone=\"no\"?>\n<!DOCTYPE svg PUBLIC \"-//W3C//DTD SVG 1.1//EN\"\n \"http://www.w3.org/Graphics/SVG/1.1/DTD/svg11.dtd\">\n<!-- Generated by graphviz version 2.40.1 (20161225.0304)\n -->\n<!-- Title: Tree Pages: 1 -->\n<svg width=\"9368pt\" height=\"1028pt\"\n viewBox=\"0.00 0.00 9368.00 1028.00\" xmlns=\"http://www.w3.org/2000/svg\" xmlns:xlink=\"http://www.w3.org/1999/xlink\">\n<g id=\"graph0\" class=\"graph\" transform=\"scale(1 1) rotate(0) translate(4 1024)\">\n<title>Tree</title>\n<polygon fill=\"#ffffff\" stroke=\"transparent\" points=\"-4,4 -4,-1024 9364,-1024 9364,4 -4,4\"/>\n<!-- 0 -->\n<g id=\"node1\" class=\"node\">\n<title>0</title>\n<polygon fill=\"#fffefe\" stroke=\"#000000\" points=\"5062,-1020 4760,-1020 4760,-937 5062,-937 5062,-1020\"/>\n<text text-anchor=\"middle\" x=\"4911\" y=\"-1004.8\" font-family=\"Helvetica,sans-Serif\" font-size=\"14.00\" fill=\"#000000\">tGravityAcc&#45;min()&#45;X &lt;= 0.096</text>\n<text text-anchor=\"middle\" x=\"4911\" y=\"-989.8\" font-family=\"Helvetica,sans-Serif\" font-size=\"14.00\" fill=\"#000000\">gini = 0.831</text>\n<text text-anchor=\"middle\" x=\"4911\" y=\"-974.8\" font-family=\"Helvetica,sans-Serif\" font-size=\"14.00\" fill=\"#000000\">samples = 7352</text>\n<text text-anchor=\"middle\" x=\"4911\" y=\"-959.8\" font-family=\"Helvetica,sans-Serif\" font-size=\"14.00\" fill=\"#000000\">value = [1226, 1073, 986, 1286, 1374, 1407]</text>\n<text text-anchor=\"middle\" x=\"4911\" y=\"-944.8\" font-family=\"Helvetica,sans-Serif\" font-size=\"14.00\" fill=\"#000000\">class = LAYING</text>\n</g>\n<!-- 1 -->\n<g id=\"node2\" class=\"node\">\n<title>1</title>\n<polygon fill=\"#e5399d\" stroke=\"#000000\" points=\"4872.5,-893.5 4685.5,-893.5 4685.5,-825.5 4872.5,-825.5 4872.5,-893.5\"/>\n<text text-anchor=\"middle\" x=\"4779\" y=\"-878.3\" font-family=\"Helvetica,sans-Serif\" font-size=\"14.00\" fill=\"#000000\">gini = 0.0</text>\n<text text-anchor=\"middle\" x=\"4779\" y=\"-863.3\" font-family=\"Helvetica,sans-Serif\" font-size=\"14.00\" fill=\"#000000\">samples = 1407</text>\n<text text-anchor=\"middle\" x=\"4779\" y=\"-848.3\" font-family=\"Helvetica,sans-Serif\" font-size=\"14.00\" fill=\"#000000\">value = [0, 0, 0, 0, 0, 1407]</text>\n<text text-anchor=\"middle\" x=\"4779\" y=\"-833.3\" font-family=\"Helvetica,sans-Serif\" font-size=\"14.00\" fill=\"#000000\">class = LAYING</text>\n</g>\n<!-- 0&#45;&gt;1 -->\n<g id=\"edge1\" class=\"edge\">\n<title>0&#45;&gt;1</title>\n<path fill=\"none\" stroke=\"#000000\" d=\"M4864.8328,-936.8796C4851.7817,-925.1138 4837.5899,-912.3197 4824.5739,-900.5855\"/>\n<polygon fill=\"#000000\" stroke=\"#000000\" points=\"4826.8346,-897.9113 4817.0636,-893.8149 4822.1474,-903.1104 4826.8346,-897.9113\"/>\n<text text-anchor=\"middle\" x=\"4818.3567\" y=\"-915.0815\" font-family=\"Helvetica,sans-Serif\" font-size=\"14.00\" fill=\"#000000\">True</text>\n</g>\n<!-- 2 -->\n<g id=\"node3\" class=\"node\">\n<title>2</title>\n<polygon fill=\"#fdfbff\" stroke=\"#000000\" points=\"5195.5,-901 4890.5,-901 4890.5,-818 5195.5,-818 5195.5,-901\"/>\n<text text-anchor=\"middle\" x=\"5043\" y=\"-885.8\" font-family=\"Helvetica,sans-Serif\" font-size=\"14.00\" fill=\"#000000\">fBodyAccJerk&#45;bandsEnergy()&#45;1,16 &lt;= &#45;0.974</text>\n<text text-anchor=\"middle\" x=\"5043\" y=\"-870.8\" font-family=\"Helvetica,sans-Serif\" font-size=\"14.00\" fill=\"#000000\">gini = 0.797</text>\n<text text-anchor=\"middle\" x=\"5043\" y=\"-855.8\" font-family=\"Helvetica,sans-Serif\" font-size=\"14.00\" fill=\"#000000\">samples = 5945</text>\n<text text-anchor=\"middle\" x=\"5043\" y=\"-840.8\" font-family=\"Helvetica,sans-Serif\" font-size=\"14.00\" fill=\"#000000\">value = [1226, 1073, 986, 1286, 1374, 0]</text>\n<text text-anchor=\"middle\" x=\"5043\" y=\"-825.8\" font-family=\"Helvetica,sans-Serif\" font-size=\"14.00\" fill=\"#000000\">class = STANDING</text>\n</g>\n<!-- 0&#45;&gt;2 -->\n<g id=\"edge2\" class=\"edge\">\n<title>0&#45;&gt;2</title>\n<path fill=\"none\" stroke=\"#000000\" d=\"M4957.1672,-936.8796C4967.4571,-927.6031 4978.456,-917.6874 4989.0287,-908.1559\"/>\n<polygon fill=\"#000000\" stroke=\"#000000\" points=\"4991.5519,-910.5935 4996.6358,-901.2981 4986.8648,-905.3944 4991.5519,-910.5935\"/>\n<text text-anchor=\"middle\" x=\"4995.3427\" y=\"-922.5646\" font-family=\"Helvetica,sans-Serif\" font-size=\"14.00\" fill=\"#000000\">False</text>\n</g>\n<!-- 3 -->\n<g id=\"node4\" class=\"node\">\n<title>3</title>\n<polygon fill=\"#f7f2fd\" stroke=\"#000000\" points=\"3408,-782 3196,-782 3196,-699 3408,-699 3408,-782\"/>\n<text text-anchor=\"middle\" x=\"3302\" y=\"-766.8\" font-family=\"Helvetica,sans-Serif\" font-size=\"14.00\" fill=\"#000000\">angle(Y,gravityMean) &lt;= 0.14</text>\n<text text-anchor=\"middle\" x=\"3302\" y=\"-751.8\" font-family=\"Helvetica,sans-Serif\" font-size=\"14.00\" fill=\"#000000\">gini = 0.499</text>\n<text text-anchor=\"middle\" x=\"3302\" y=\"-736.8\" font-family=\"Helvetica,sans-Serif\" font-size=\"14.00\" fill=\"#000000\">samples = 2660</text>\n<text text-anchor=\"middle\" x=\"3302\" y=\"-721.8\" font-family=\"Helvetica,sans-Serif\" font-size=\"14.00\" fill=\"#000000\">value = [0, 0, 0, 1286, 1374, 0]</text>\n<text text-anchor=\"middle\" x=\"3302\" y=\"-706.8\" font-family=\"Helvetica,sans-Serif\" font-size=\"14.00\" fill=\"#000000\">class = STANDING</text>\n</g>\n<!-- 2&#45;&gt;3 -->\n<g id=\"edge3\" class=\"edge\">\n<title>2&#45;&gt;3</title>\n<path fill=\"none\" stroke=\"#000000\" d=\"M4890.1115,-819.4598C4887.0539,-818.9431 4884.0143,-818.4553 4881,-818 4598.8565,-775.3838 3733.3596,-750.868 3418.2706,-743.1637\"/>\n<polygon fill=\"#000000\" stroke=\"#000000\" points=\"3418.2845,-739.6631 3408.2023,-742.9187 3418.1141,-746.661 3418.2845,-739.6631\"/>\n</g>\n<!-- 62 -->\n<g id=\"node63\" class=\"node\">\n<title>62</title>\n<polygon fill=\"#fdf6f1\" stroke=\"#000000\" points=\"6206.5,-782 5975.5,-782 5975.5,-699 6206.5,-699 6206.5,-782\"/>\n<text text-anchor=\"middle\" x=\"6091\" y=\"-766.8\" font-family=\"Helvetica,sans-Serif\" font-size=\"14.00\" fill=\"#000000\">fBodyAccMag&#45;energy() &lt;= &#45;0.525</text>\n<text text-anchor=\"middle\" x=\"6091\" y=\"-751.8\" font-family=\"Helvetica,sans-Serif\" font-size=\"14.00\" fill=\"#000000\">gini = 0.664</text>\n<text text-anchor=\"middle\" x=\"6091\" y=\"-736.8\" font-family=\"Helvetica,sans-Serif\" font-size=\"14.00\" fill=\"#000000\">samples = 3285</text>\n<text text-anchor=\"middle\" x=\"6091\" y=\"-721.8\" font-family=\"Helvetica,sans-Serif\" font-size=\"14.00\" fill=\"#000000\">value = [1226, 1073, 986, 0, 0, 0]</text>\n<text text-anchor=\"middle\" x=\"6091\" y=\"-706.8\" font-family=\"Helvetica,sans-Serif\" font-size=\"14.00\" fill=\"#000000\">class = WALKING</text>\n</g>\n<!-- 2&#45;&gt;62 -->\n<g id=\"edge62\" class=\"edge\">\n<title>2&#45;&gt;62</title>\n<path fill=\"none\" stroke=\"#000000\" d=\"M5195.6685,-842.1646C5403.635,-818.55 5772.1241,-776.7082 5965.1286,-754.7927\"/>\n<polygon fill=\"#000000\" stroke=\"#000000\" points=\"5965.7769,-758.2416 5975.3182,-753.6356 5964.9871,-751.2863 5965.7769,-758.2416\"/>\n</g>\n<!-- 4 -->\n<g id=\"node5\" class=\"node\">\n<title>4</title>\n<polygon fill=\"#58ace9\" stroke=\"#000000\" points=\"1732,-663 1520,-663 1520,-580 1732,-580 1732,-663\"/>\n<text text-anchor=\"middle\" x=\"1626\" y=\"-647.8\" font-family=\"Helvetica,sans-Serif\" font-size=\"14.00\" fill=\"#000000\">tGravityAcc&#45;energy()&#45;Y &lt;= &#45;1.0</text>\n<text text-anchor=\"middle\" x=\"1626\" y=\"-632.8\" font-family=\"Helvetica,sans-Serif\" font-size=\"14.00\" fill=\"#000000\">gini = 0.234</text>\n<text text-anchor=\"middle\" x=\"1626\" y=\"-617.8\" font-family=\"Helvetica,sans-Serif\" font-size=\"14.00\" fill=\"#000000\">samples = 1357</text>\n<text text-anchor=\"middle\" x=\"1626\" y=\"-602.8\" font-family=\"Helvetica,sans-Serif\" font-size=\"14.00\" fill=\"#000000\">value = [0, 0, 0, 1173, 184, 0]</text>\n<text text-anchor=\"middle\" x=\"1626\" y=\"-587.8\" font-family=\"Helvetica,sans-Serif\" font-size=\"14.00\" fill=\"#000000\">class = SITTING</text>\n</g>\n<!-- 3&#45;&gt;4 -->\n<g id=\"edge4\" class=\"edge\">\n<title>3&#45;&gt;4</title>\n<path fill=\"none\" stroke=\"#000000\" d=\"M3195.8872,-732.9657C2897.5962,-711.7864 2053.2116,-651.833 1742.565,-629.7764\"/>\n<polygon fill=\"#000000\" stroke=\"#000000\" points=\"1742.4109,-626.2567 1732.1881,-629.0396 1741.9151,-633.2392 1742.4109,-626.2567\"/>\n</g>\n<!-- 39 -->\n<g id=\"node40\" class=\"node\">\n<title>39</title>\n<polygon fill=\"#8d4ce7\" stroke=\"#000000\" points=\"3403.5,-663 3200.5,-663 3200.5,-580 3403.5,-580 3403.5,-663\"/>\n<text text-anchor=\"middle\" x=\"3302\" y=\"-647.8\" font-family=\"Helvetica,sans-Serif\" font-size=\"14.00\" fill=\"#000000\">tBodyGyro&#45;min()&#45;X &lt;= 0.845</text>\n<text text-anchor=\"middle\" x=\"3302\" y=\"-632.8\" font-family=\"Helvetica,sans-Serif\" font-size=\"14.00\" fill=\"#000000\">gini = 0.158</text>\n<text text-anchor=\"middle\" x=\"3302\" y=\"-617.8\" font-family=\"Helvetica,sans-Serif\" font-size=\"14.00\" fill=\"#000000\">samples = 1303</text>\n<text text-anchor=\"middle\" x=\"3302\" y=\"-602.8\" font-family=\"Helvetica,sans-Serif\" font-size=\"14.00\" fill=\"#000000\">value = [0, 0, 0, 113, 1190, 0]</text>\n<text text-anchor=\"middle\" x=\"3302\" y=\"-587.8\" font-family=\"Helvetica,sans-Serif\" font-size=\"14.00\" fill=\"#000000\">class = STANDING</text>\n</g>\n<!-- 3&#45;&gt;39 -->\n<g id=\"edge39\" class=\"edge\">\n<title>3&#45;&gt;39</title>\n<path fill=\"none\" stroke=\"#000000\" d=\"M3302,-698.8796C3302,-690.6838 3302,-681.9891 3302,-673.5013\"/>\n<polygon fill=\"#000000\" stroke=\"#000000\" points=\"3305.5001,-673.298 3302,-663.2981 3298.5001,-673.2981 3305.5001,-673.298\"/>\n</g>\n<!-- 5 -->\n<g id=\"node6\" class=\"node\">\n<title>5</title>\n<polygon fill=\"#c4a2f3\" stroke=\"#000000\" points=\"862.5,-544 643.5,-544 643.5,-461 862.5,-461 862.5,-544\"/>\n<text text-anchor=\"middle\" x=\"753\" y=\"-528.8\" font-family=\"Helvetica,sans-Serif\" font-size=\"14.00\" fill=\"#000000\">angle(Z,gravityMean) &lt;= &#45;0.022</text>\n<text text-anchor=\"middle\" x=\"753\" y=\"-513.8\" font-family=\"Helvetica,sans-Serif\" font-size=\"14.00\" fill=\"#000000\">gini = 0.453</text>\n<text text-anchor=\"middle\" x=\"753\" y=\"-498.8\" font-family=\"Helvetica,sans-Serif\" font-size=\"14.00\" fill=\"#000000\">samples = 95</text>\n<text text-anchor=\"middle\" x=\"753\" y=\"-483.8\" font-family=\"Helvetica,sans-Serif\" font-size=\"14.00\" fill=\"#000000\">value = [0, 0, 0, 33, 62, 0]</text>\n<text text-anchor=\"middle\" x=\"753\" y=\"-468.8\" font-family=\"Helvetica,sans-Serif\" font-size=\"14.00\" fill=\"#000000\">class = STANDING</text>\n</g>\n<!-- 4&#45;&gt;5 -->\n<g id=\"edge5\" class=\"edge\">\n<title>4&#45;&gt;5</title>\n<path fill=\"none\" stroke=\"#000000\" d=\"M1519.8258,-607.0272C1356.3159,-584.7389 1043.8812,-542.1505 872.6109,-518.8043\"/>\n<polygon fill=\"#000000\" stroke=\"#000000\" points=\"872.9271,-515.3152 862.5459,-517.4324 871.9816,-522.251 872.9271,-515.3152\"/>\n</g>\n<!-- 14 -->\n<g id=\"node15\" class=\"node\">\n<title>14</title>\n<polygon fill=\"#4ea7e8\" stroke=\"#000000\" points=\"1729,-544 1523,-544 1523,-461 1729,-461 1729,-544\"/>\n<text text-anchor=\"middle\" x=\"1626\" y=\"-528.8\" font-family=\"Helvetica,sans-Serif\" font-size=\"14.00\" fill=\"#000000\">tBodyGyro&#45;max()&#45;X &lt;= &#45;0.869</text>\n<text text-anchor=\"middle\" x=\"1626\" y=\"-513.8\" font-family=\"Helvetica,sans-Serif\" font-size=\"14.00\" fill=\"#000000\">gini = 0.175</text>\n<text text-anchor=\"middle\" x=\"1626\" y=\"-498.8\" font-family=\"Helvetica,sans-Serif\" font-size=\"14.00\" fill=\"#000000\">samples = 1262</text>\n<text text-anchor=\"middle\" x=\"1626\" y=\"-483.8\" font-family=\"Helvetica,sans-Serif\" font-size=\"14.00\" fill=\"#000000\">value = [0, 0, 0, 1140, 122, 0]</text>\n<text text-anchor=\"middle\" x=\"1626\" y=\"-468.8\" font-family=\"Helvetica,sans-Serif\" font-size=\"14.00\" fill=\"#000000\">class = SITTING</text>\n</g>\n<!-- 4&#45;&gt;14 -->\n<g id=\"edge14\" class=\"edge\">\n<title>4&#45;&gt;14</title>\n<path fill=\"none\" stroke=\"#000000\" d=\"M1626,-579.8796C1626,-571.6838 1626,-562.9891 1626,-554.5013\"/>\n<polygon fill=\"#000000\" stroke=\"#000000\" points=\"1629.5001,-554.298 1626,-544.2981 1622.5001,-554.2981 1629.5001,-554.298\"/>\n</g>\n<!-- 6 -->\n<g id=\"node7\" class=\"node\">\n<title>6</title>\n<polygon fill=\"#afd7f4\" stroke=\"#000000\" points=\"552,-425 318,-425 318,-342 552,-342 552,-425\"/>\n<text text-anchor=\"middle\" x=\"435\" y=\"-409.8\" font-family=\"Helvetica,sans-Serif\" font-size=\"14.00\" fill=\"#000000\">tBodyGyroJerk&#45;max()&#45;X &lt;= &#45;0.983</text>\n<text text-anchor=\"middle\" x=\"435\" y=\"-394.8\" font-family=\"Helvetica,sans-Serif\" font-size=\"14.00\" fill=\"#000000\">gini = 0.468</text>\n<text text-anchor=\"middle\" x=\"435\" y=\"-379.8\" font-family=\"Helvetica,sans-Serif\" font-size=\"14.00\" fill=\"#000000\">samples = 51</text>\n<text text-anchor=\"middle\" x=\"435\" y=\"-364.8\" font-family=\"Helvetica,sans-Serif\" font-size=\"14.00\" fill=\"#000000\">value = [0, 0, 0, 32, 19, 0]</text>\n<text text-anchor=\"middle\" x=\"435\" y=\"-349.8\" font-family=\"Helvetica,sans-Serif\" font-size=\"14.00\" fill=\"#000000\">class = SITTING</text>\n</g>\n<!-- 5&#45;&gt;6 -->\n<g id=\"edge6\" class=\"edge\">\n<title>5&#45;&gt;6</title>\n<path fill=\"none\" stroke=\"#000000\" d=\"M643.1172,-461.3803C614.8911,-450.8178 584.3751,-439.3982 555.6373,-428.6441\"/>\n<polygon fill=\"#000000\" stroke=\"#000000\" points=\"556.5579,-425.2516 545.9655,-425.0248 554.1045,-431.8077 556.5579,-425.2516\"/>\n</g>\n<!-- 11 -->\n<g id=\"node12\" class=\"node\">\n<title>11</title>\n<polygon fill=\"#843ee6\" stroke=\"#000000\" points=\"885.5,-425 620.5,-425 620.5,-342 885.5,-342 885.5,-425\"/>\n<text text-anchor=\"middle\" x=\"753\" y=\"-409.8\" font-family=\"Helvetica,sans-Serif\" font-size=\"14.00\" fill=\"#000000\">tBodyGyroJerk&#45;arCoeff()&#45;Z,4 &lt;= &#45;0.249</text>\n<text text-anchor=\"middle\" x=\"753\" y=\"-394.8\" font-family=\"Helvetica,sans-Serif\" font-size=\"14.00\" fill=\"#000000\">gini = 0.044</text>\n<text text-anchor=\"middle\" x=\"753\" y=\"-379.8\" font-family=\"Helvetica,sans-Serif\" font-size=\"14.00\" fill=\"#000000\">samples = 44</text>\n<text text-anchor=\"middle\" x=\"753\" y=\"-364.8\" font-family=\"Helvetica,sans-Serif\" font-size=\"14.00\" fill=\"#000000\">value = [0, 0, 0, 1, 43, 0]</text>\n<text text-anchor=\"middle\" x=\"753\" y=\"-349.8\" font-family=\"Helvetica,sans-Serif\" font-size=\"14.00\" fill=\"#000000\">class = STANDING</text>\n</g>\n<!-- 5&#45;&gt;11 -->\n<g id=\"edge11\" class=\"edge\">\n<title>5&#45;&gt;11</title>\n<path fill=\"none\" stroke=\"#000000\" d=\"M753,-460.8796C753,-452.6838 753,-443.9891 753,-435.5013\"/>\n<polygon fill=\"#000000\" stroke=\"#000000\" points=\"756.5001,-435.298 753,-425.2981 749.5001,-435.2981 756.5001,-435.298\"/>\n</g>\n<!-- 7 -->\n<g id=\"node8\" class=\"node\">\n<title>7</title>\n<polygon fill=\"#45a3e7\" stroke=\"#000000\" points=\"332,-306 78,-306 78,-223 332,-223 332,-306\"/>\n<text text-anchor=\"middle\" x=\"205\" y=\"-290.8\" font-family=\"Helvetica,sans-Serif\" font-size=\"14.00\" fill=\"#000000\">tBodyAccJerk&#45;arCoeff()&#45;X,3 &lt;= 0.411</text>\n<text text-anchor=\"middle\" x=\"205\" y=\"-275.8\" font-family=\"Helvetica,sans-Serif\" font-size=\"14.00\" fill=\"#000000\">gini = 0.111</text>\n<text text-anchor=\"middle\" x=\"205\" y=\"-260.8\" font-family=\"Helvetica,sans-Serif\" font-size=\"14.00\" fill=\"#000000\">samples = 34</text>\n<text text-anchor=\"middle\" x=\"205\" y=\"-245.8\" font-family=\"Helvetica,sans-Serif\" font-size=\"14.00\" fill=\"#000000\">value = [0, 0, 0, 32, 2, 0]</text>\n<text text-anchor=\"middle\" x=\"205\" y=\"-230.8\" font-family=\"Helvetica,sans-Serif\" font-size=\"14.00\" fill=\"#000000\">class = SITTING</text>\n</g>\n<!-- 6&#45;&gt;7 -->\n<g id=\"edge7\" class=\"edge\">\n<title>6&#45;&gt;7</title>\n<path fill=\"none\" stroke=\"#000000\" d=\"M354.5572,-341.8796C335.1229,-331.8244 314.237,-321.0183 294.4189,-310.7645\"/>\n<polygon fill=\"#000000\" stroke=\"#000000\" points=\"295.8874,-307.5837 285.3974,-306.0969 292.6707,-313.8008 295.8874,-307.5837\"/>\n</g>\n<!-- 10 -->\n<g id=\"node11\" class=\"node\">\n<title>10</title>\n<polygon fill=\"#8139e5\" stroke=\"#000000\" points=\"520,-298.5 350,-298.5 350,-230.5 520,-230.5 520,-298.5\"/>\n<text text-anchor=\"middle\" x=\"435\" y=\"-283.3\" font-family=\"Helvetica,sans-Serif\" font-size=\"14.00\" fill=\"#000000\">gini = 0.0</text>\n<text text-anchor=\"middle\" x=\"435\" y=\"-268.3\" font-family=\"Helvetica,sans-Serif\" font-size=\"14.00\" fill=\"#000000\">samples = 17</text>\n<text text-anchor=\"middle\" x=\"435\" y=\"-253.3\" font-family=\"Helvetica,sans-Serif\" font-size=\"14.00\" fill=\"#000000\">value = [0, 0, 0, 0, 17, 0]</text>\n<text text-anchor=\"middle\" x=\"435\" y=\"-238.3\" font-family=\"Helvetica,sans-Serif\" font-size=\"14.00\" fill=\"#000000\">class = STANDING</text>\n</g>\n<!-- 6&#45;&gt;10 -->\n<g id=\"edge10\" class=\"edge\">\n<title>6&#45;&gt;10</title>\n<path fill=\"none\" stroke=\"#000000\" d=\"M435,-341.8796C435,-331.2134 435,-319.7021 435,-308.9015\"/>\n<polygon fill=\"#000000\" stroke=\"#000000\" points=\"438.5001,-308.8149 435,-298.8149 431.5001,-308.815 438.5001,-308.8149\"/>\n</g>\n<!-- 8 -->\n<g id=\"node9\" class=\"node\">\n<title>8</title>\n<polygon fill=\"#399de5\" stroke=\"#000000\" points=\"170,-179.5 0,-179.5 0,-111.5 170,-111.5 170,-179.5\"/>\n<text text-anchor=\"middle\" x=\"85\" y=\"-164.3\" font-family=\"Helvetica,sans-Serif\" font-size=\"14.00\" fill=\"#000000\">gini = 0.0</text>\n<text text-anchor=\"middle\" x=\"85\" y=\"-149.3\" font-family=\"Helvetica,sans-Serif\" font-size=\"14.00\" fill=\"#000000\">samples = 32</text>\n<text text-anchor=\"middle\" x=\"85\" y=\"-134.3\" font-family=\"Helvetica,sans-Serif\" font-size=\"14.00\" fill=\"#000000\">value = [0, 0, 0, 32, 0, 0]</text>\n<text text-anchor=\"middle\" x=\"85\" y=\"-119.3\" font-family=\"Helvetica,sans-Serif\" font-size=\"14.00\" fill=\"#000000\">class = SITTING</text>\n</g>\n<!-- 7&#45;&gt;8 -->\n<g id=\"edge8\" class=\"edge\">\n<title>7&#45;&gt;8</title>\n<path fill=\"none\" stroke=\"#000000\" d=\"M163.0298,-222.8796C151.276,-211.2237 138.5046,-198.5587 126.7628,-186.9148\"/>\n<polygon fill=\"#000000\" stroke=\"#000000\" points=\"129.1684,-184.3712 119.6033,-179.8149 124.2394,-189.3416 129.1684,-184.3712\"/>\n</g>\n<!-- 9 -->\n<g id=\"node10\" class=\"node\">\n<title>9</title>\n<polygon fill=\"#8139e5\" stroke=\"#000000\" points=\"350,-179.5 188,-179.5 188,-111.5 350,-111.5 350,-179.5\"/>\n<text text-anchor=\"middle\" x=\"269\" y=\"-164.3\" font-family=\"Helvetica,sans-Serif\" font-size=\"14.00\" fill=\"#000000\">gini = 0.0</text>\n<text text-anchor=\"middle\" x=\"269\" y=\"-149.3\" font-family=\"Helvetica,sans-Serif\" font-size=\"14.00\" fill=\"#000000\">samples = 2</text>\n<text text-anchor=\"middle\" x=\"269\" y=\"-134.3\" font-family=\"Helvetica,sans-Serif\" font-size=\"14.00\" fill=\"#000000\">value = [0, 0, 0, 0, 2, 0]</text>\n<text text-anchor=\"middle\" x=\"269\" y=\"-119.3\" font-family=\"Helvetica,sans-Serif\" font-size=\"14.00\" fill=\"#000000\">class = STANDING</text>\n</g>\n<!-- 7&#45;&gt;9 -->\n<g id=\"edge9\" class=\"edge\">\n<title>7&#45;&gt;9</title>\n<path fill=\"none\" stroke=\"#000000\" d=\"M227.3841,-222.8796C233.298,-211.8835 239.6949,-199.9893 245.658,-188.9015\"/>\n<polygon fill=\"#000000\" stroke=\"#000000\" points=\"248.8908,-190.2799 250.5449,-179.8149 242.7258,-186.9642 248.8908,-190.2799\"/>\n</g>\n<!-- 12 -->\n<g id=\"node13\" class=\"node\">\n<title>12</title>\n<polygon fill=\"#399de5\" stroke=\"#000000\" points=\"700,-298.5 538,-298.5 538,-230.5 700,-230.5 700,-298.5\"/>\n<text text-anchor=\"middle\" x=\"619\" y=\"-283.3\" font-family=\"Helvetica,sans-Serif\" font-size=\"14.00\" fill=\"#000000\">gini = 0.0</text>\n<text text-anchor=\"middle\" x=\"619\" y=\"-268.3\" font-family=\"Helvetica,sans-Serif\" font-size=\"14.00\" fill=\"#000000\">samples = 1</text>\n<text text-anchor=\"middle\" x=\"619\" y=\"-253.3\" font-family=\"Helvetica,sans-Serif\" font-size=\"14.00\" fill=\"#000000\">value = [0, 0, 0, 1, 0, 0]</text>\n<text text-anchor=\"middle\" x=\"619\" y=\"-238.3\" font-family=\"Helvetica,sans-Serif\" font-size=\"14.00\" fill=\"#000000\">class = SITTING</text>\n</g>\n<!-- 11&#45;&gt;12 -->\n<g id=\"edge12\" class=\"edge\">\n<title>11&#45;&gt;12</title>\n<path fill=\"none\" stroke=\"#000000\" d=\"M706.1333,-341.8796C692.8844,-330.1138 678.4776,-317.3197 665.2644,-305.5855\"/>\n<polygon fill=\"#000000\" stroke=\"#000000\" points=\"667.4416,-302.8381 657.6403,-298.8149 662.7935,-308.0722 667.4416,-302.8381\"/>\n</g>\n<!-- 13 -->\n<g id=\"node14\" class=\"node\">\n<title>13</title>\n<polygon fill=\"#8139e5\" stroke=\"#000000\" points=\"888,-298.5 718,-298.5 718,-230.5 888,-230.5 888,-298.5\"/>\n<text text-anchor=\"middle\" x=\"803\" y=\"-283.3\" font-family=\"Helvetica,sans-Serif\" font-size=\"14.00\" fill=\"#000000\">gini = 0.0</text>\n<text text-anchor=\"middle\" x=\"803\" y=\"-268.3\" font-family=\"Helvetica,sans-Serif\" font-size=\"14.00\" fill=\"#000000\">samples = 43</text>\n<text text-anchor=\"middle\" x=\"803\" y=\"-253.3\" font-family=\"Helvetica,sans-Serif\" font-size=\"14.00\" fill=\"#000000\">value = [0, 0, 0, 0, 43, 0]</text>\n<text text-anchor=\"middle\" x=\"803\" y=\"-238.3\" font-family=\"Helvetica,sans-Serif\" font-size=\"14.00\" fill=\"#000000\">class = STANDING</text>\n</g>\n<!-- 11&#45;&gt;13 -->\n<g id=\"edge13\" class=\"edge\">\n<title>11&#45;&gt;13</title>\n<path fill=\"none\" stroke=\"#000000\" d=\"M770.4876,-341.8796C775.0616,-330.9935 780.0054,-319.227 784.6242,-308.2344\"/>\n<polygon fill=\"#000000\" stroke=\"#000000\" points=\"787.935,-309.39 788.582,-298.8149 781.4815,-306.6784 787.935,-309.39\"/>\n</g>\n<!-- 15 -->\n<g id=\"node16\" class=\"node\">\n<title>15</title>\n<polygon fill=\"#40a1e6\" stroke=\"#000000\" points=\"1457.5,-425 1204.5,-425 1204.5,-342 1457.5,-342 1457.5,-425\"/>\n<text text-anchor=\"middle\" x=\"1331\" y=\"-409.8\" font-family=\"Helvetica,sans-Serif\" font-size=\"14.00\" fill=\"#000000\">tBodyGyro&#45;correlation()&#45;Y,Z &lt;= 0.418</text>\n<text text-anchor=\"middle\" x=\"1331\" y=\"-394.8\" font-family=\"Helvetica,sans-Serif\" font-size=\"14.00\" fill=\"#000000\">gini = 0.068</text>\n<text text-anchor=\"middle\" x=\"1331\" y=\"-379.8\" font-family=\"Helvetica,sans-Serif\" font-size=\"14.00\" fill=\"#000000\">samples = 994</text>\n<text text-anchor=\"middle\" x=\"1331\" y=\"-364.8\" font-family=\"Helvetica,sans-Serif\" font-size=\"14.00\" fill=\"#000000\">value = [0, 0, 0, 959, 35, 0]</text>\n<text text-anchor=\"middle\" x=\"1331\" y=\"-349.8\" font-family=\"Helvetica,sans-Serif\" font-size=\"14.00\" fill=\"#000000\">class = SITTING</text>\n</g>\n<!-- 14&#45;&gt;15 -->\n<g id=\"edge15\" class=\"edge\">\n<title>14&#45;&gt;15</title>\n<path fill=\"none\" stroke=\"#000000\" d=\"M1522.8233,-460.8796C1497.223,-450.5527 1469.659,-439.4336 1443.6315,-428.9344\"/>\n<polygon fill=\"#000000\" stroke=\"#000000\" points=\"1444.7017,-425.5921 1434.1184,-425.0969 1442.083,-432.0838 1444.7017,-425.5921\"/>\n</g>\n<!-- 30 -->\n<g id=\"node31\" class=\"node\">\n<title>30</title>\n<polygon fill=\"#98ccf1\" stroke=\"#000000\" points=\"1986.5,-425 1779.5,-425 1779.5,-342 1986.5,-342 1986.5,-425\"/>\n<text text-anchor=\"middle\" x=\"1883\" y=\"-409.8\" font-family=\"Helvetica,sans-Serif\" font-size=\"14.00\" fill=\"#000000\">tGravityAcc&#45;max()&#45;Y &lt;= 0.069</text>\n<text text-anchor=\"middle\" x=\"1883\" y=\"-394.8\" font-family=\"Helvetica,sans-Serif\" font-size=\"14.00\" fill=\"#000000\">gini = 0.438</text>\n<text text-anchor=\"middle\" x=\"1883\" y=\"-379.8\" font-family=\"Helvetica,sans-Serif\" font-size=\"14.00\" fill=\"#000000\">samples = 268</text>\n<text text-anchor=\"middle\" x=\"1883\" y=\"-364.8\" font-family=\"Helvetica,sans-Serif\" font-size=\"14.00\" fill=\"#000000\">value = [0, 0, 0, 181, 87, 0]</text>\n<text text-anchor=\"middle\" x=\"1883\" y=\"-349.8\" font-family=\"Helvetica,sans-Serif\" font-size=\"14.00\" fill=\"#000000\">class = SITTING</text>\n</g>\n<!-- 14&#45;&gt;30 -->\n<g id=\"edge30\" class=\"edge\">\n<title>14&#45;&gt;30</title>\n<path fill=\"none\" stroke=\"#000000\" d=\"M1715.8861,-460.8796C1737.8953,-450.6886 1761.5705,-439.7261 1783.9812,-429.3492\"/>\n<polygon fill=\"#000000\" stroke=\"#000000\" points=\"1785.5608,-432.4748 1793.1646,-425.0969 1782.6196,-426.1227 1785.5608,-432.4748\"/>\n</g>\n<!-- 16 -->\n<g id=\"node17\" class=\"node\">\n<title>16</title>\n<polygon fill=\"#3c9fe5\" stroke=\"#000000\" points=\"1100,-306 906,-306 906,-223 1100,-223 1100,-306\"/>\n<text text-anchor=\"middle\" x=\"1003\" y=\"-290.8\" font-family=\"Helvetica,sans-Serif\" font-size=\"14.00\" fill=\"#000000\">tGravityAcc&#45;min()&#45;X &lt;= 0.99</text>\n<text text-anchor=\"middle\" x=\"1003\" y=\"-275.8\" font-family=\"Helvetica,sans-Serif\" font-size=\"14.00\" fill=\"#000000\">gini = 0.034</text>\n<text text-anchor=\"middle\" x=\"1003\" y=\"-260.8\" font-family=\"Helvetica,sans-Serif\" font-size=\"14.00\" fill=\"#000000\">samples = 927</text>\n<text text-anchor=\"middle\" x=\"1003\" y=\"-245.8\" font-family=\"Helvetica,sans-Serif\" font-size=\"14.00\" fill=\"#000000\">value = [0, 0, 0, 911, 16, 0]</text>\n<text text-anchor=\"middle\" x=\"1003\" y=\"-230.8\" font-family=\"Helvetica,sans-Serif\" font-size=\"14.00\" fill=\"#000000\">class = SITTING</text>\n</g>\n<!-- 15&#45;&gt;16 -->\n<g id=\"edge16\" class=\"edge\">\n<title>15&#45;&gt;16</title>\n<path fill=\"none\" stroke=\"#000000\" d=\"M1216.2815,-341.8796C1181.6648,-329.3205 1143.8188,-315.5897 1109.7438,-303.2272\"/>\n<polygon fill=\"#000000\" stroke=\"#000000\" points=\"1110.8329,-299.8991 1100.2387,-299.7787 1108.4455,-306.4794 1110.8329,-299.8991\"/>\n</g>\n<!-- 23 -->\n<g id=\"node24\" class=\"node\">\n<title>23</title>\n<polygon fill=\"#87c4ef\" stroke=\"#000000\" points=\"1432.5,-306 1229.5,-306 1229.5,-223 1432.5,-223 1432.5,-306\"/>\n<text text-anchor=\"middle\" x=\"1331\" y=\"-290.8\" font-family=\"Helvetica,sans-Serif\" font-size=\"14.00\" fill=\"#000000\">tGravityAcc&#45;min()&#45;X &lt;= 0.961</text>\n<text text-anchor=\"middle\" x=\"1331\" y=\"-275.8\" font-family=\"Helvetica,sans-Serif\" font-size=\"14.00\" fill=\"#000000\">gini = 0.406</text>\n<text text-anchor=\"middle\" x=\"1331\" y=\"-260.8\" font-family=\"Helvetica,sans-Serif\" font-size=\"14.00\" fill=\"#000000\">samples = 67</text>\n<text text-anchor=\"middle\" x=\"1331\" y=\"-245.8\" font-family=\"Helvetica,sans-Serif\" font-size=\"14.00\" fill=\"#000000\">value = [0, 0, 0, 48, 19, 0]</text>\n<text text-anchor=\"middle\" x=\"1331\" y=\"-230.8\" font-family=\"Helvetica,sans-Serif\" font-size=\"14.00\" fill=\"#000000\">class = SITTING</text>\n</g>\n<!-- 15&#45;&gt;23 -->\n<g id=\"edge23\" class=\"edge\">\n<title>15&#45;&gt;23</title>\n<path fill=\"none\" stroke=\"#000000\" d=\"M1331,-341.8796C1331,-333.6838 1331,-324.9891 1331,-316.5013\"/>\n<polygon fill=\"#000000\" stroke=\"#000000\" points=\"1334.5001,-316.298 1331,-306.2981 1327.5001,-316.2981 1334.5001,-316.298\"/>\n</g>\n<!-- 17 -->\n<g id=\"node18\" class=\"node\">\n<title>17</title>\n<polygon fill=\"#3a9ee5\" stroke=\"#000000\" points=\"641.5,-187 384.5,-187 384.5,-104 641.5,-104 641.5,-187\"/>\n<text text-anchor=\"middle\" x=\"513\" y=\"-171.8\" font-family=\"Helvetica,sans-Serif\" font-size=\"14.00\" fill=\"#000000\">tBodyAccJerk&#45;arCoeff()&#45;Y,3 &lt;= &#45;0.615</text>\n<text text-anchor=\"middle\" x=\"513\" y=\"-156.8\" font-family=\"Helvetica,sans-Serif\" font-size=\"14.00\" fill=\"#000000\">gini = 0.012</text>\n<text text-anchor=\"middle\" x=\"513\" y=\"-141.8\" font-family=\"Helvetica,sans-Serif\" font-size=\"14.00\" fill=\"#000000\">samples = 851</text>\n<text text-anchor=\"middle\" x=\"513\" y=\"-126.8\" font-family=\"Helvetica,sans-Serif\" font-size=\"14.00\" fill=\"#000000\">value = [0, 0, 0, 846, 5, 0]</text>\n<text text-anchor=\"middle\" x=\"513\" y=\"-111.8\" font-family=\"Helvetica,sans-Serif\" font-size=\"14.00\" fill=\"#000000\">class = SITTING</text>\n</g>\n<!-- 16&#45;&gt;17 -->\n<g id=\"edge17\" class=\"edge\">\n<title>16&#45;&gt;17</title>\n<path fill=\"none\" stroke=\"#000000\" d=\"M905.8995,-225.7273C902.9101,-224.7767 899.9387,-223.8647 897,-223 817.0819,-199.4855 725.7298,-180.7306 652.1814,-167.5639\"/>\n<polygon fill=\"#000000\" stroke=\"#000000\" points=\"652.3825,-164.0449 641.9246,-165.7432 651.1589,-170.9372 652.3825,-164.0449\"/>\n</g>\n<!-- 20 -->\n<g id=\"node21\" class=\"node\">\n<title>20</title>\n<polygon fill=\"#5baee9\" stroke=\"#000000\" points=\"995,-187 793,-187 793,-104 995,-104 995,-187\"/>\n<text text-anchor=\"middle\" x=\"894\" y=\"-171.8\" font-family=\"Helvetica,sans-Serif\" font-size=\"14.00\" fill=\"#000000\">tGravityAcc&#45;min()&#45;Z &lt;= 0.067</text>\n<text text-anchor=\"middle\" x=\"894\" y=\"-156.8\" font-family=\"Helvetica,sans-Serif\" font-size=\"14.00\" fill=\"#000000\">gini = 0.248</text>\n<text text-anchor=\"middle\" x=\"894\" y=\"-141.8\" font-family=\"Helvetica,sans-Serif\" font-size=\"14.00\" fill=\"#000000\">samples = 76</text>\n<text text-anchor=\"middle\" x=\"894\" y=\"-126.8\" font-family=\"Helvetica,sans-Serif\" font-size=\"14.00\" fill=\"#000000\">value = [0, 0, 0, 65, 11, 0]</text>\n<text text-anchor=\"middle\" x=\"894\" y=\"-111.8\" font-family=\"Helvetica,sans-Serif\" font-size=\"14.00\" fill=\"#000000\">class = SITTING</text>\n</g>\n<!-- 16&#45;&gt;20 -->\n<g id=\"edge20\" class=\"edge\">\n<title>16&#45;&gt;20</title>\n<path fill=\"none\" stroke=\"#000000\" d=\"M964.8771,-222.8796C956.5451,-213.7832 947.6502,-204.0722 939.0761,-194.7116\"/>\n<polygon fill=\"#000000\" stroke=\"#000000\" points=\"941.6211,-192.3081 932.2856,-187.2981 936.4592,-197.0363 941.6211,-192.3081\"/>\n</g>\n<!-- 18 -->\n<g id=\"node19\" class=\"node\">\n<title>18</title>\n<polygon fill=\"#8139e5\" stroke=\"#000000\" points=\"405,-68 243,-68 243,0 405,0 405,-68\"/>\n<text text-anchor=\"middle\" x=\"324\" y=\"-52.8\" font-family=\"Helvetica,sans-Serif\" font-size=\"14.00\" fill=\"#000000\">gini = 0.0</text>\n<text text-anchor=\"middle\" x=\"324\" y=\"-37.8\" font-family=\"Helvetica,sans-Serif\" font-size=\"14.00\" fill=\"#000000\">samples = 1</text>\n<text text-anchor=\"middle\" x=\"324\" y=\"-22.8\" font-family=\"Helvetica,sans-Serif\" font-size=\"14.00\" fill=\"#000000\">value = [0, 0, 0, 0, 1, 0]</text>\n<text text-anchor=\"middle\" x=\"324\" y=\"-7.8\" font-family=\"Helvetica,sans-Serif\" font-size=\"14.00\" fill=\"#000000\">class = STANDING</text>\n</g>\n<!-- 17&#45;&gt;18 -->\n<g id=\"edge18\" class=\"edge\">\n<title>17&#45;&gt;18</title>\n<path fill=\"none\" stroke=\"#000000\" d=\"M442.6234,-103.9815C425.5531,-93.911 407.3574,-83.1764 390.4739,-73.2161\"/>\n<polygon fill=\"#000000\" stroke=\"#000000\" points=\"392.1688,-70.1523 381.7774,-68.0856 388.6119,-76.1813 392.1688,-70.1523\"/>\n</g>\n<!-- 19 -->\n<g id=\"node20\" class=\"node\">\n<title>19</title>\n<polygon fill=\"#3a9de5\" stroke=\"#000000\" points=\"602.5,-68 423.5,-68 423.5,0 602.5,0 602.5,-68\"/>\n<text text-anchor=\"middle\" x=\"513\" y=\"-52.8\" font-family=\"Helvetica,sans-Serif\" font-size=\"14.00\" fill=\"#000000\">gini = 0.009</text>\n<text text-anchor=\"middle\" x=\"513\" y=\"-37.8\" font-family=\"Helvetica,sans-Serif\" font-size=\"14.00\" fill=\"#000000\">samples = 850</text>\n<text text-anchor=\"middle\" x=\"513\" y=\"-22.8\" font-family=\"Helvetica,sans-Serif\" font-size=\"14.00\" fill=\"#000000\">value = [0, 0, 0, 846, 4, 0]</text>\n<text text-anchor=\"middle\" x=\"513\" y=\"-7.8\" font-family=\"Helvetica,sans-Serif\" font-size=\"14.00\" fill=\"#000000\">class = SITTING</text>\n</g>\n<!-- 17&#45;&gt;19 -->\n<g id=\"edge19\" class=\"edge\">\n<title>17&#45;&gt;19</title>\n<path fill=\"none\" stroke=\"#000000\" d=\"M513,-103.9815C513,-95.618 513,-86.7965 513,-78.3409\"/>\n<polygon fill=\"#000000\" stroke=\"#000000\" points=\"516.5001,-78.2636 513,-68.2637 509.5001,-78.2637 516.5001,-78.2636\"/>\n</g>\n<!-- 21 -->\n<g id=\"node22\" class=\"node\">\n<title>21</title>\n<polygon fill=\"#3c9fe5\" stroke=\"#000000\" points=\"791,-68 621,-68 621,0 791,0 791,-68\"/>\n<text text-anchor=\"middle\" x=\"706\" y=\"-52.8\" font-family=\"Helvetica,sans-Serif\" font-size=\"14.00\" fill=\"#000000\">gini = 0.03</text>\n<text text-anchor=\"middle\" x=\"706\" y=\"-37.8\" font-family=\"Helvetica,sans-Serif\" font-size=\"14.00\" fill=\"#000000\">samples = 66</text>\n<text text-anchor=\"middle\" x=\"706\" y=\"-22.8\" font-family=\"Helvetica,sans-Serif\" font-size=\"14.00\" fill=\"#000000\">value = [0, 0, 0, 65, 1, 0]</text>\n<text text-anchor=\"middle\" x=\"706\" y=\"-7.8\" font-family=\"Helvetica,sans-Serif\" font-size=\"14.00\" fill=\"#000000\">class = SITTING</text>\n</g>\n<!-- 20&#45;&gt;21 -->\n<g id=\"edge21\" class=\"edge\">\n<title>20&#45;&gt;21</title>\n<path fill=\"none\" stroke=\"#000000\" d=\"M823.9957,-103.9815C807.0158,-93.911 788.9163,-83.1764 772.1222,-73.2161\"/>\n<polygon fill=\"#000000\" stroke=\"#000000\" points=\"773.8582,-70.1765 763.4717,-68.0856 770.2874,-76.1972 773.8582,-70.1765\"/>\n</g>\n<!-- 22 -->\n<g id=\"node23\" class=\"node\">\n<title>22</title>\n<polygon fill=\"#8139e5\" stroke=\"#000000\" points=\"979,-68 809,-68 809,0 979,0 979,-68\"/>\n<text text-anchor=\"middle\" x=\"894\" y=\"-52.8\" font-family=\"Helvetica,sans-Serif\" font-size=\"14.00\" fill=\"#000000\">gini = 0.0</text>\n<text text-anchor=\"middle\" x=\"894\" y=\"-37.8\" font-family=\"Helvetica,sans-Serif\" font-size=\"14.00\" fill=\"#000000\">samples = 10</text>\n<text text-anchor=\"middle\" x=\"894\" y=\"-22.8\" font-family=\"Helvetica,sans-Serif\" font-size=\"14.00\" fill=\"#000000\">value = [0, 0, 0, 0, 10, 0]</text>\n<text text-anchor=\"middle\" x=\"894\" y=\"-7.8\" font-family=\"Helvetica,sans-Serif\" font-size=\"14.00\" fill=\"#000000\">class = STANDING</text>\n</g>\n<!-- 20&#45;&gt;22 -->\n<g id=\"edge22\" class=\"edge\">\n<title>20&#45;&gt;22</title>\n<path fill=\"none\" stroke=\"#000000\" d=\"M894,-103.9815C894,-95.618 894,-86.7965 894,-78.3409\"/>\n<polygon fill=\"#000000\" stroke=\"#000000\" points=\"897.5001,-78.2636 894,-68.2637 890.5001,-78.2637 897.5001,-78.2636\"/>\n</g>\n<!-- 24 -->\n<g id=\"node25\" class=\"node\">\n<title>24</title>\n<polygon fill=\"#3e9fe6\" stroke=\"#000000\" points=\"1353,-187 1123,-187 1123,-104 1353,-104 1353,-187\"/>\n<text text-anchor=\"middle\" x=\"1238\" y=\"-171.8\" font-family=\"Helvetica,sans-Serif\" font-size=\"14.00\" fill=\"#000000\">tGravityAcc&#45;arCoeff()&#45;Z,2 &lt;= 0.98</text>\n<text text-anchor=\"middle\" x=\"1238\" y=\"-156.8\" font-family=\"Helvetica,sans-Serif\" font-size=\"14.00\" fill=\"#000000\">gini = 0.046</text>\n<text text-anchor=\"middle\" x=\"1238\" y=\"-141.8\" font-family=\"Helvetica,sans-Serif\" font-size=\"14.00\" fill=\"#000000\">samples = 42</text>\n<text text-anchor=\"middle\" x=\"1238\" y=\"-126.8\" font-family=\"Helvetica,sans-Serif\" font-size=\"14.00\" fill=\"#000000\">value = [0, 0, 0, 41, 1, 0]</text>\n<text text-anchor=\"middle\" x=\"1238\" y=\"-111.8\" font-family=\"Helvetica,sans-Serif\" font-size=\"14.00\" fill=\"#000000\">class = SITTING</text>\n</g>\n<!-- 23&#45;&gt;24 -->\n<g id=\"edge24\" class=\"edge\">\n<title>23&#45;&gt;24</title>\n<path fill=\"none\" stroke=\"#000000\" d=\"M1298.4731,-222.8796C1291.5049,-213.9633 1284.0753,-204.4565 1276.8944,-195.268\"/>\n<polygon fill=\"#000000\" stroke=\"#000000\" points=\"1279.5812,-193.0221 1270.6657,-187.2981 1274.0657,-197.3326 1279.5812,-193.0221\"/>\n</g>\n<!-- 27 -->\n<g id=\"node28\" class=\"node\">\n<title>27</title>\n<polygon fill=\"#b286ef\" stroke=\"#000000\" points=\"1586.5,-187 1371.5,-187 1371.5,-104 1586.5,-104 1586.5,-187\"/>\n<text text-anchor=\"middle\" x=\"1479\" y=\"-171.8\" font-family=\"Helvetica,sans-Serif\" font-size=\"14.00\" fill=\"#000000\">fBodyGyro&#45;mean()&#45;Z &lt;= &#45;0.979</text>\n<text text-anchor=\"middle\" x=\"1479\" y=\"-156.8\" font-family=\"Helvetica,sans-Serif\" font-size=\"14.00\" fill=\"#000000\">gini = 0.403</text>\n<text text-anchor=\"middle\" x=\"1479\" y=\"-141.8\" font-family=\"Helvetica,sans-Serif\" font-size=\"14.00\" fill=\"#000000\">samples = 25</text>\n<text text-anchor=\"middle\" x=\"1479\" y=\"-126.8\" font-family=\"Helvetica,sans-Serif\" font-size=\"14.00\" fill=\"#000000\">value = [0, 0, 0, 7, 18, 0]</text>\n<text text-anchor=\"middle\" x=\"1479\" y=\"-111.8\" font-family=\"Helvetica,sans-Serif\" font-size=\"14.00\" fill=\"#000000\">class = STANDING</text>\n</g>\n<!-- 23&#45;&gt;27 -->\n<g id=\"edge27\" class=\"edge\">\n<title>23&#45;&gt;27</title>\n<path fill=\"none\" stroke=\"#000000\" d=\"M1382.7632,-222.8796C1394.5928,-213.368 1407.2581,-203.1843 1419.3871,-193.432\"/>\n<polygon fill=\"#000000\" stroke=\"#000000\" points=\"1421.6659,-196.0908 1427.266,-187.0969 1417.2796,-190.6355 1421.6659,-196.0908\"/>\n</g>\n<!-- 25 -->\n<g id=\"node26\" class=\"node\">\n<title>25</title>\n<polygon fill=\"#399de5\" stroke=\"#000000\" points=\"1167,-68 997,-68 997,0 1167,0 1167,-68\"/>\n<text text-anchor=\"middle\" x=\"1082\" y=\"-52.8\" font-family=\"Helvetica,sans-Serif\" font-size=\"14.00\" fill=\"#000000\">gini = 0.0</text>\n<text text-anchor=\"middle\" x=\"1082\" y=\"-37.8\" font-family=\"Helvetica,sans-Serif\" font-size=\"14.00\" fill=\"#000000\">samples = 41</text>\n<text text-anchor=\"middle\" x=\"1082\" y=\"-22.8\" font-family=\"Helvetica,sans-Serif\" font-size=\"14.00\" fill=\"#000000\">value = [0, 0, 0, 41, 0, 0]</text>\n<text text-anchor=\"middle\" x=\"1082\" y=\"-7.8\" font-family=\"Helvetica,sans-Serif\" font-size=\"14.00\" fill=\"#000000\">class = SITTING</text>\n</g>\n<!-- 24&#45;&gt;25 -->\n<g id=\"edge25\" class=\"edge\">\n<title>24&#45;&gt;25</title>\n<path fill=\"none\" stroke=\"#000000\" d=\"M1179.9114,-103.9815C1166.2811,-94.2394 1151.7816,-83.8759 1138.2342,-74.193\"/>\n<polygon fill=\"#000000\" stroke=\"#000000\" points=\"1140.1092,-71.2311 1129.9384,-68.2637 1136.0388,-76.926 1140.1092,-71.2311\"/>\n</g>\n<!-- 26 -->\n<g id=\"node27\" class=\"node\">\n<title>26</title>\n<polygon fill=\"#8139e5\" stroke=\"#000000\" points=\"1347,-68 1185,-68 1185,0 1347,0 1347,-68\"/>\n<text text-anchor=\"middle\" x=\"1266\" y=\"-52.8\" font-family=\"Helvetica,sans-Serif\" font-size=\"14.00\" fill=\"#000000\">gini = 0.0</text>\n<text text-anchor=\"middle\" x=\"1266\" y=\"-37.8\" font-family=\"Helvetica,sans-Serif\" font-size=\"14.00\" fill=\"#000000\">samples = 1</text>\n<text text-anchor=\"middle\" x=\"1266\" y=\"-22.8\" font-family=\"Helvetica,sans-Serif\" font-size=\"14.00\" fill=\"#000000\">value = [0, 0, 0, 0, 1, 0]</text>\n<text text-anchor=\"middle\" x=\"1266\" y=\"-7.8\" font-family=\"Helvetica,sans-Serif\" font-size=\"14.00\" fill=\"#000000\">class = STANDING</text>\n</g>\n<!-- 24&#45;&gt;26 -->\n<g id=\"edge26\" class=\"edge\">\n<title>24&#45;&gt;26</title>\n<path fill=\"none\" stroke=\"#000000\" d=\"M1248.4262,-103.9815C1250.5495,-95.5261 1252.7904,-86.6026 1254.935,-78.0623\"/>\n<polygon fill=\"#000000\" stroke=\"#000000\" points=\"1258.3546,-78.815 1257.3957,-68.2637 1251.5654,-77.1101 1258.3546,-78.815\"/>\n</g>\n<!-- 28 -->\n<g id=\"node29\" class=\"node\">\n<title>28</title>\n<polygon fill=\"#8139e5\" stroke=\"#000000\" points=\"1535,-68 1365,-68 1365,0 1535,0 1535,-68\"/>\n<text text-anchor=\"middle\" x=\"1450\" y=\"-52.8\" font-family=\"Helvetica,sans-Serif\" font-size=\"14.00\" fill=\"#000000\">gini = 0.0</text>\n<text text-anchor=\"middle\" x=\"1450\" y=\"-37.8\" font-family=\"Helvetica,sans-Serif\" font-size=\"14.00\" fill=\"#000000\">samples = 18</text>\n<text text-anchor=\"middle\" x=\"1450\" y=\"-22.8\" font-family=\"Helvetica,sans-Serif\" font-size=\"14.00\" fill=\"#000000\">value = [0, 0, 0, 0, 18, 0]</text>\n<text text-anchor=\"middle\" x=\"1450\" y=\"-7.8\" font-family=\"Helvetica,sans-Serif\" font-size=\"14.00\" fill=\"#000000\">class = STANDING</text>\n</g>\n<!-- 27&#45;&gt;28 -->\n<g id=\"edge28\" class=\"edge\">\n<title>27&#45;&gt;28</title>\n<path fill=\"none\" stroke=\"#000000\" d=\"M1468.2015,-103.9815C1466.0023,-95.5261 1463.6814,-86.6026 1461.4601,-78.0623\"/>\n<polygon fill=\"#000000\" stroke=\"#000000\" points=\"1464.8162,-77.0607 1458.9116,-68.2637 1458.0415,-78.8227 1464.8162,-77.0607\"/>\n</g>\n<!-- 29 -->\n<g id=\"node30\" class=\"node\">\n<title>29</title>\n<polygon fill=\"#399de5\" stroke=\"#000000\" points=\"1715,-68 1553,-68 1553,0 1715,0 1715,-68\"/>\n<text text-anchor=\"middle\" x=\"1634\" y=\"-52.8\" font-family=\"Helvetica,sans-Serif\" font-size=\"14.00\" fill=\"#000000\">gini = 0.0</text>\n<text text-anchor=\"middle\" x=\"1634\" y=\"-37.8\" font-family=\"Helvetica,sans-Serif\" font-size=\"14.00\" fill=\"#000000\">samples = 7</text>\n<text text-anchor=\"middle\" x=\"1634\" y=\"-22.8\" font-family=\"Helvetica,sans-Serif\" font-size=\"14.00\" fill=\"#000000\">value = [0, 0, 0, 7, 0, 0]</text>\n<text text-anchor=\"middle\" x=\"1634\" y=\"-7.8\" font-family=\"Helvetica,sans-Serif\" font-size=\"14.00\" fill=\"#000000\">class = SITTING</text>\n</g>\n<!-- 27&#45;&gt;29 -->\n<g id=\"edge29\" class=\"edge\">\n<title>27&#45;&gt;29</title>\n<path fill=\"none\" stroke=\"#000000\" d=\"M1536.7163,-103.9815C1550.2591,-94.2394 1564.6657,-83.8759 1578.1263,-74.193\"/>\n<polygon fill=\"#000000\" stroke=\"#000000\" points=\"1580.2949,-76.9446 1586.3689,-68.2637 1576.2072,-71.2621 1580.2949,-76.9446\"/>\n</g>\n<!-- 31 -->\n<g id=\"node32\" class=\"node\">\n<title>31</title>\n<polygon fill=\"#efe6fc\" stroke=\"#000000\" points=\"1980,-306 1786,-306 1786,-223 1980,-223 1980,-306\"/>\n<text text-anchor=\"middle\" x=\"1883\" y=\"-290.8\" font-family=\"Helvetica,sans-Serif\" font-size=\"14.00\" fill=\"#000000\">fBodyGyro&#45;iqr()&#45;Y &lt;= &#45;0.987</text>\n<text text-anchor=\"middle\" x=\"1883\" y=\"-275.8\" font-family=\"Helvetica,sans-Serif\" font-size=\"14.00\" fill=\"#000000\">gini = 0.498</text>\n<text text-anchor=\"middle\" x=\"1883\" y=\"-260.8\" font-family=\"Helvetica,sans-Serif\" font-size=\"14.00\" fill=\"#000000\">samples = 163</text>\n<text text-anchor=\"middle\" x=\"1883\" y=\"-245.8\" font-family=\"Helvetica,sans-Serif\" font-size=\"14.00\" fill=\"#000000\">value = [0, 0, 0, 76, 87, 0]</text>\n<text text-anchor=\"middle\" x=\"1883\" y=\"-230.8\" font-family=\"Helvetica,sans-Serif\" font-size=\"14.00\" fill=\"#000000\">class = STANDING</text>\n</g>\n<!-- 30&#45;&gt;31 -->\n<g id=\"edge31\" class=\"edge\">\n<title>30&#45;&gt;31</title>\n<path fill=\"none\" stroke=\"#000000\" d=\"M1883,-341.8796C1883,-333.6838 1883,-324.9891 1883,-316.5013\"/>\n<polygon fill=\"#000000\" stroke=\"#000000\" points=\"1886.5001,-316.298 1883,-306.2981 1879.5001,-316.2981 1886.5001,-316.298\"/>\n</g>\n<!-- 38 -->\n<g id=\"node39\" class=\"node\">\n<title>38</title>\n<polygon fill=\"#399de5\" stroke=\"#000000\" points=\"2177.5,-298.5 1998.5,-298.5 1998.5,-230.5 2177.5,-230.5 2177.5,-298.5\"/>\n<text text-anchor=\"middle\" x=\"2088\" y=\"-283.3\" font-family=\"Helvetica,sans-Serif\" font-size=\"14.00\" fill=\"#000000\">gini = 0.0</text>\n<text text-anchor=\"middle\" x=\"2088\" y=\"-268.3\" font-family=\"Helvetica,sans-Serif\" font-size=\"14.00\" fill=\"#000000\">samples = 105</text>\n<text text-anchor=\"middle\" x=\"2088\" y=\"-253.3\" font-family=\"Helvetica,sans-Serif\" font-size=\"14.00\" fill=\"#000000\">value = [0, 0, 0, 105, 0, 0]</text>\n<text text-anchor=\"middle\" x=\"2088\" y=\"-238.3\" font-family=\"Helvetica,sans-Serif\" font-size=\"14.00\" fill=\"#000000\">class = SITTING</text>\n</g>\n<!-- 30&#45;&gt;38 -->\n<g id=\"edge38\" class=\"edge\">\n<title>30&#45;&gt;38</title>\n<path fill=\"none\" stroke=\"#000000\" d=\"M1954.6991,-341.8796C1976.0161,-329.5053 1999.2924,-315.9937 2020.3433,-303.7739\"/>\n<polygon fill=\"#000000\" stroke=\"#000000\" points=\"2022.3253,-306.6704 2029.2166,-298.623 2018.811,-300.6164 2022.3253,-306.6704\"/>\n</g>\n<!-- 32 -->\n<g id=\"node33\" class=\"node\">\n<title>32</title>\n<polygon fill=\"#853fe6\" stroke=\"#000000\" points=\"2000.5,-187 1765.5,-187 1765.5,-104 2000.5,-104 2000.5,-187\"/>\n<text text-anchor=\"middle\" x=\"1883\" y=\"-171.8\" font-family=\"Helvetica,sans-Serif\" font-size=\"14.00\" fill=\"#000000\">tBodyGyroJerk&#45;mad()&#45;X &lt;= &#45;0.993</text>\n<text text-anchor=\"middle\" x=\"1883\" y=\"-156.8\" font-family=\"Helvetica,sans-Serif\" font-size=\"14.00\" fill=\"#000000\">gini = 0.057</text>\n<text text-anchor=\"middle\" x=\"1883\" y=\"-141.8\" font-family=\"Helvetica,sans-Serif\" font-size=\"14.00\" fill=\"#000000\">samples = 34</text>\n<text text-anchor=\"middle\" x=\"1883\" y=\"-126.8\" font-family=\"Helvetica,sans-Serif\" font-size=\"14.00\" fill=\"#000000\">value = [0, 0, 0, 1, 33, 0]</text>\n<text text-anchor=\"middle\" x=\"1883\" y=\"-111.8\" font-family=\"Helvetica,sans-Serif\" font-size=\"14.00\" fill=\"#000000\">class = STANDING</text>\n</g>\n<!-- 31&#45;&gt;32 -->\n<g id=\"edge32\" class=\"edge\">\n<title>31&#45;&gt;32</title>\n<path fill=\"none\" stroke=\"#000000\" d=\"M1883,-222.8796C1883,-214.6838 1883,-205.9891 1883,-197.5013\"/>\n<polygon fill=\"#000000\" stroke=\"#000000\" points=\"1886.5001,-197.298 1883,-187.2981 1879.5001,-197.2981 1886.5001,-197.298\"/>\n</g>\n<!-- 35 -->\n<g id=\"node36\" class=\"node\">\n<title>35</title>\n<polygon fill=\"#c8e4f8\" stroke=\"#000000\" points=\"2283,-187 2089,-187 2089,-104 2283,-104 2283,-187\"/>\n<text text-anchor=\"middle\" x=\"2186\" y=\"-171.8\" font-family=\"Helvetica,sans-Serif\" font-size=\"14.00\" fill=\"#000000\">tBodyGyro&#45;iqr()&#45;X &lt;= &#45;0.977</text>\n<text text-anchor=\"middle\" x=\"2186\" y=\"-156.8\" font-family=\"Helvetica,sans-Serif\" font-size=\"14.00\" fill=\"#000000\">gini = 0.487</text>\n<text text-anchor=\"middle\" x=\"2186\" y=\"-141.8\" font-family=\"Helvetica,sans-Serif\" font-size=\"14.00\" fill=\"#000000\">samples = 129</text>\n<text text-anchor=\"middle\" x=\"2186\" y=\"-126.8\" font-family=\"Helvetica,sans-Serif\" font-size=\"14.00\" fill=\"#000000\">value = [0, 0, 0, 75, 54, 0]</text>\n<text text-anchor=\"middle\" x=\"2186\" y=\"-111.8\" font-family=\"Helvetica,sans-Serif\" font-size=\"14.00\" fill=\"#000000\">class = SITTING</text>\n</g>\n<!-- 31&#45;&gt;35 -->\n<g id=\"edge35\" class=\"edge\">\n<title>31&#45;&gt;35</title>\n<path fill=\"none\" stroke=\"#000000\" d=\"M1980.1214,-226.3566C2011.7882,-213.9198 2047.1097,-200.0477 2079.4313,-187.3537\"/>\n<polygon fill=\"#000000\" stroke=\"#000000\" points=\"2080.8804,-190.5449 2088.9088,-183.6315 2078.3214,-184.0294 2080.8804,-190.5449\"/>\n</g>\n<!-- 33 -->\n<g id=\"node34\" class=\"node\">\n<title>33</title>\n<polygon fill=\"#399de5\" stroke=\"#000000\" points=\"1895,-68 1733,-68 1733,0 1895,0 1895,-68\"/>\n<text text-anchor=\"middle\" x=\"1814\" y=\"-52.8\" font-family=\"Helvetica,sans-Serif\" font-size=\"14.00\" fill=\"#000000\">gini = 0.0</text>\n<text text-anchor=\"middle\" x=\"1814\" y=\"-37.8\" font-family=\"Helvetica,sans-Serif\" font-size=\"14.00\" fill=\"#000000\">samples = 1</text>\n<text text-anchor=\"middle\" x=\"1814\" y=\"-22.8\" font-family=\"Helvetica,sans-Serif\" font-size=\"14.00\" fill=\"#000000\">value = [0, 0, 0, 1, 0, 0]</text>\n<text text-anchor=\"middle\" x=\"1814\" y=\"-7.8\" font-family=\"Helvetica,sans-Serif\" font-size=\"14.00\" fill=\"#000000\">class = SITTING</text>\n</g>\n<!-- 32&#45;&gt;33 -->\n<g id=\"edge33\" class=\"edge\">\n<title>32&#45;&gt;33</title>\n<path fill=\"none\" stroke=\"#000000\" d=\"M1857.3069,-103.9815C1851.8469,-95.1585 1846.0716,-85.8258 1840.5793,-76.9506\"/>\n<polygon fill=\"#000000\" stroke=\"#000000\" points=\"1843.442,-74.9254 1835.2035,-68.2637 1837.4896,-78.609 1843.442,-74.9254\"/>\n</g>\n<!-- 34 -->\n<g id=\"node35\" class=\"node\">\n<title>34</title>\n<polygon fill=\"#8139e5\" stroke=\"#000000\" points=\"2083,-68 1913,-68 1913,0 2083,0 2083,-68\"/>\n<text text-anchor=\"middle\" x=\"1998\" y=\"-52.8\" font-family=\"Helvetica,sans-Serif\" font-size=\"14.00\" fill=\"#000000\">gini = 0.0</text>\n<text text-anchor=\"middle\" x=\"1998\" y=\"-37.8\" font-family=\"Helvetica,sans-Serif\" font-size=\"14.00\" fill=\"#000000\">samples = 33</text>\n<text text-anchor=\"middle\" x=\"1998\" y=\"-22.8\" font-family=\"Helvetica,sans-Serif\" font-size=\"14.00\" fill=\"#000000\">value = [0, 0, 0, 0, 33, 0]</text>\n<text text-anchor=\"middle\" x=\"1998\" y=\"-7.8\" font-family=\"Helvetica,sans-Serif\" font-size=\"14.00\" fill=\"#000000\">class = STANDING</text>\n</g>\n<!-- 32&#45;&gt;34 -->\n<g id=\"edge34\" class=\"edge\">\n<title>32&#45;&gt;34</title>\n<path fill=\"none\" stroke=\"#000000\" d=\"M1925.8218,-103.9815C1935.4905,-94.607 1945.7527,-84.6572 1955.4118,-75.2921\"/>\n<polygon fill=\"#000000\" stroke=\"#000000\" points=\"1957.9176,-77.7375 1962.6608,-68.2637 1953.0449,-72.7118 1957.9176,-77.7375\"/>\n</g>\n<!-- 36 -->\n<g id=\"node37\" class=\"node\">\n<title>36</title>\n<polygon fill=\"#53aae8\" stroke=\"#000000\" points=\"2271,-68 2101,-68 2101,0 2271,0 2271,-68\"/>\n<text text-anchor=\"middle\" x=\"2186\" y=\"-52.8\" font-family=\"Helvetica,sans-Serif\" font-size=\"14.00\" fill=\"#000000\">gini = 0.208</text>\n<text text-anchor=\"middle\" x=\"2186\" y=\"-37.8\" font-family=\"Helvetica,sans-Serif\" font-size=\"14.00\" fill=\"#000000\">samples = 51</text>\n<text text-anchor=\"middle\" x=\"2186\" y=\"-22.8\" font-family=\"Helvetica,sans-Serif\" font-size=\"14.00\" fill=\"#000000\">value = [0, 0, 0, 45, 6, 0]</text>\n<text text-anchor=\"middle\" x=\"2186\" y=\"-7.8\" font-family=\"Helvetica,sans-Serif\" font-size=\"14.00\" fill=\"#000000\">class = SITTING</text>\n</g>\n<!-- 35&#45;&gt;36 -->\n<g id=\"edge36\" class=\"edge\">\n<title>35&#45;&gt;36</title>\n<path fill=\"none\" stroke=\"#000000\" d=\"M2186,-103.9815C2186,-95.618 2186,-86.7965 2186,-78.3409\"/>\n<polygon fill=\"#000000\" stroke=\"#000000\" points=\"2189.5001,-78.2636 2186,-68.2637 2182.5001,-78.2637 2189.5001,-78.2636\"/>\n</g>\n<!-- 37 -->\n<g id=\"node38\" class=\"node\">\n<title>37</title>\n<polygon fill=\"#d0b5f5\" stroke=\"#000000\" points=\"2468.5,-68 2289.5,-68 2289.5,0 2468.5,0 2468.5,-68\"/>\n<text text-anchor=\"middle\" x=\"2379\" y=\"-52.8\" font-family=\"Helvetica,sans-Serif\" font-size=\"14.00\" fill=\"#000000\">gini = 0.473</text>\n<text text-anchor=\"middle\" x=\"2379\" y=\"-37.8\" font-family=\"Helvetica,sans-Serif\" font-size=\"14.00\" fill=\"#000000\">samples = 78</text>\n<text text-anchor=\"middle\" x=\"2379\" y=\"-22.8\" font-family=\"Helvetica,sans-Serif\" font-size=\"14.00\" fill=\"#000000\">value = [0, 0, 0, 30, 48, 0]</text>\n<text text-anchor=\"middle\" x=\"2379\" y=\"-7.8\" font-family=\"Helvetica,sans-Serif\" font-size=\"14.00\" fill=\"#000000\">class = STANDING</text>\n</g>\n<!-- 35&#45;&gt;37 -->\n<g id=\"edge37\" class=\"edge\">\n<title>35&#45;&gt;37</title>\n<path fill=\"none\" stroke=\"#000000\" d=\"M2257.8661,-103.9815C2275.2976,-93.911 2293.8785,-83.1764 2311.1193,-73.2161\"/>\n<polygon fill=\"#000000\" stroke=\"#000000\" points=\"2313.0917,-76.1187 2319.9998,-68.0856 2309.59,-70.0575 2313.0917,-76.1187\"/>\n</g>\n<!-- 40 -->\n<g id=\"node41\" class=\"node\">\n<title>40</title>\n<polygon fill=\"#8a47e7\" stroke=\"#000000\" points=\"3259,-544 3053,-544 3053,-461 3259,-461 3259,-544\"/>\n<text text-anchor=\"middle\" x=\"3156\" y=\"-528.8\" font-family=\"Helvetica,sans-Serif\" font-size=\"14.00\" fill=\"#000000\">tBodyGyro&#45;max()&#45;X &lt;= &#45;0.893</text>\n<text text-anchor=\"middle\" x=\"3156\" y=\"-513.8\" font-family=\"Helvetica,sans-Serif\" font-size=\"14.00\" fill=\"#000000\">gini = 0.121</text>\n<text text-anchor=\"middle\" x=\"3156\" y=\"-498.8\" font-family=\"Helvetica,sans-Serif\" font-size=\"14.00\" fill=\"#000000\">samples = 1240</text>\n<text text-anchor=\"middle\" x=\"3156\" y=\"-483.8\" font-family=\"Helvetica,sans-Serif\" font-size=\"14.00\" fill=\"#000000\">value = [0, 0, 0, 80, 1160, 0]</text>\n<text text-anchor=\"middle\" x=\"3156\" y=\"-468.8\" font-family=\"Helvetica,sans-Serif\" font-size=\"14.00\" fill=\"#000000\">class = STANDING</text>\n</g>\n<!-- 39&#45;&gt;40 -->\n<g id=\"edge40\" class=\"edge\">\n<title>39&#45;&gt;40</title>\n<path fill=\"none\" stroke=\"#000000\" d=\"M3250.9363,-579.8796C3239.4445,-570.513 3227.1532,-560.4948 3215.355,-550.8784\"/>\n<polygon fill=\"#000000\" stroke=\"#000000\" points=\"3217.2444,-547.903 3207.2817,-544.2981 3212.8218,-553.329 3217.2444,-547.903\"/>\n</g>\n<!-- 53 -->\n<g id=\"node54\" class=\"node\">\n<title>53</title>\n<polygon fill=\"#edf6fd\" stroke=\"#000000\" points=\"3551.5,-544 3344.5,-544 3344.5,-461 3551.5,-461 3551.5,-544\"/>\n<text text-anchor=\"middle\" x=\"3448\" y=\"-528.8\" font-family=\"Helvetica,sans-Serif\" font-size=\"14.00\" fill=\"#000000\">tGravityAcc&#45;min()&#45;Y &lt;= &#45;0.139</text>\n<text text-anchor=\"middle\" x=\"3448\" y=\"-513.8\" font-family=\"Helvetica,sans-Serif\" font-size=\"14.00\" fill=\"#000000\">gini = 0.499</text>\n<text text-anchor=\"middle\" x=\"3448\" y=\"-498.8\" font-family=\"Helvetica,sans-Serif\" font-size=\"14.00\" fill=\"#000000\">samples = 63</text>\n<text text-anchor=\"middle\" x=\"3448\" y=\"-483.8\" font-family=\"Helvetica,sans-Serif\" font-size=\"14.00\" fill=\"#000000\">value = [0, 0, 0, 33, 30, 0]</text>\n<text text-anchor=\"middle\" x=\"3448\" y=\"-468.8\" font-family=\"Helvetica,sans-Serif\" font-size=\"14.00\" fill=\"#000000\">class = SITTING</text>\n</g>\n<!-- 39&#45;&gt;53 -->\n<g id=\"edge53\" class=\"edge\">\n<title>39&#45;&gt;53</title>\n<path fill=\"none\" stroke=\"#000000\" d=\"M3353.0637,-579.8796C3364.5555,-570.513 3376.8468,-560.4948 3388.645,-550.8784\"/>\n<polygon fill=\"#000000\" stroke=\"#000000\" points=\"3391.1782,-553.329 3396.7183,-544.2981 3386.7556,-547.903 3391.1782,-553.329\"/>\n</g>\n<!-- 41 -->\n<g id=\"node42\" class=\"node\">\n<title>41</title>\n<polygon fill=\"#399de5\" stroke=\"#000000\" points=\"3010,-417.5 2848,-417.5 2848,-349.5 3010,-349.5 3010,-417.5\"/>\n<text text-anchor=\"middle\" x=\"2929\" y=\"-402.3\" font-family=\"Helvetica,sans-Serif\" font-size=\"14.00\" fill=\"#000000\">gini = 0.0</text>\n<text text-anchor=\"middle\" x=\"2929\" y=\"-387.3\" font-family=\"Helvetica,sans-Serif\" font-size=\"14.00\" fill=\"#000000\">samples = 8</text>\n<text text-anchor=\"middle\" x=\"2929\" y=\"-372.3\" font-family=\"Helvetica,sans-Serif\" font-size=\"14.00\" fill=\"#000000\">value = [0, 0, 0, 8, 0, 0]</text>\n<text text-anchor=\"middle\" x=\"2929\" y=\"-357.3\" font-family=\"Helvetica,sans-Serif\" font-size=\"14.00\" fill=\"#000000\">class = SITTING</text>\n</g>\n<!-- 40&#45;&gt;41 -->\n<g id=\"edge41\" class=\"edge\">\n<title>40&#45;&gt;41</title>\n<path fill=\"none\" stroke=\"#000000\" d=\"M3076.6064,-460.8796C3052.6856,-448.3396 3026.5366,-434.6315 3002.9822,-422.2836\"/>\n<polygon fill=\"#000000\" stroke=\"#000000\" points=\"3004.5737,-419.1662 2994.0918,-417.623 3001.3236,-425.366 3004.5737,-419.1662\"/>\n</g>\n<!-- 42 -->\n<g id=\"node43\" class=\"node\">\n<title>42</title>\n<polygon fill=\"#8945e7\" stroke=\"#000000\" points=\"3283.5,-425 3028.5,-425 3028.5,-342 3283.5,-342 3283.5,-425\"/>\n<text text-anchor=\"middle\" x=\"3156\" y=\"-409.8\" font-family=\"Helvetica,sans-Serif\" font-size=\"14.00\" fill=\"#000000\">tBodyGyro&#45;correlation()&#45;X,Y &lt;= 0.656</text>\n<text text-anchor=\"middle\" x=\"3156\" y=\"-394.8\" font-family=\"Helvetica,sans-Serif\" font-size=\"14.00\" fill=\"#000000\">gini = 0.11</text>\n<text text-anchor=\"middle\" x=\"3156\" y=\"-379.8\" font-family=\"Helvetica,sans-Serif\" font-size=\"14.00\" fill=\"#000000\">samples = 1232</text>\n<text text-anchor=\"middle\" x=\"3156\" y=\"-364.8\" font-family=\"Helvetica,sans-Serif\" font-size=\"14.00\" fill=\"#000000\">value = [0, 0, 0, 72, 1160, 0]</text>\n<text text-anchor=\"middle\" x=\"3156\" y=\"-349.8\" font-family=\"Helvetica,sans-Serif\" font-size=\"14.00\" fill=\"#000000\">class = STANDING</text>\n</g>\n<!-- 40&#45;&gt;42 -->\n<g id=\"edge42\" class=\"edge\">\n<title>40&#45;&gt;42</title>\n<path fill=\"none\" stroke=\"#000000\" d=\"M3156,-460.8796C3156,-452.6838 3156,-443.9891 3156,-435.5013\"/>\n<polygon fill=\"#000000\" stroke=\"#000000\" points=\"3159.5001,-435.298 3156,-425.2981 3152.5001,-435.2981 3159.5001,-435.298\"/>\n</g>\n<!-- 43 -->\n<g id=\"node44\" class=\"node\">\n<title>43</title>\n<polygon fill=\"#8843e6\" stroke=\"#000000\" points=\"2991,-306 2785,-306 2785,-223 2991,-223 2991,-306\"/>\n<text text-anchor=\"middle\" x=\"2888\" y=\"-290.8\" font-family=\"Helvetica,sans-Serif\" font-size=\"14.00\" fill=\"#000000\">tBodyAccJerk&#45;iqr()&#45;Z &lt;= &#45;0.98</text>\n<text text-anchor=\"middle\" x=\"2888\" y=\"-275.8\" font-family=\"Helvetica,sans-Serif\" font-size=\"14.00\" fill=\"#000000\">gini = 0.094</text>\n<text text-anchor=\"middle\" x=\"2888\" y=\"-260.8\" font-family=\"Helvetica,sans-Serif\" font-size=\"14.00\" fill=\"#000000\">samples = 1214</text>\n<text text-anchor=\"middle\" x=\"2888\" y=\"-245.8\" font-family=\"Helvetica,sans-Serif\" font-size=\"14.00\" fill=\"#000000\">value = [0, 0, 0, 60, 1154, 0]</text>\n<text text-anchor=\"middle\" x=\"2888\" y=\"-230.8\" font-family=\"Helvetica,sans-Serif\" font-size=\"14.00\" fill=\"#000000\">class = STANDING</text>\n</g>\n<!-- 42&#45;&gt;43 -->\n<g id=\"edge43\" class=\"edge\">\n<title>42&#45;&gt;43</title>\n<path fill=\"none\" stroke=\"#000000\" d=\"M3062.2666,-341.8796C3039.2134,-331.6433 3014.4073,-320.6286 2990.9454,-310.2108\"/>\n<polygon fill=\"#000000\" stroke=\"#000000\" points=\"2992.2404,-306.9564 2981.6805,-306.0969 2989.3996,-313.354 2992.2404,-306.9564\"/>\n</g>\n<!-- 50 -->\n<g id=\"node51\" class=\"node\">\n<title>50</title>\n<polygon fill=\"#9ccef2\" stroke=\"#000000\" points=\"3302.5,-306 3009.5,-306 3009.5,-223 3302.5,-223 3302.5,-306\"/>\n<text text-anchor=\"middle\" x=\"3156\" y=\"-290.8\" font-family=\"Helvetica,sans-Serif\" font-size=\"14.00\" fill=\"#000000\">fBodyBodyGyroMag&#45;meanFreq() &lt;= &#45;0.277</text>\n<text text-anchor=\"middle\" x=\"3156\" y=\"-275.8\" font-family=\"Helvetica,sans-Serif\" font-size=\"14.00\" fill=\"#000000\">gini = 0.444</text>\n<text text-anchor=\"middle\" x=\"3156\" y=\"-260.8\" font-family=\"Helvetica,sans-Serif\" font-size=\"14.00\" fill=\"#000000\">samples = 18</text>\n<text text-anchor=\"middle\" x=\"3156\" y=\"-245.8\" font-family=\"Helvetica,sans-Serif\" font-size=\"14.00\" fill=\"#000000\">value = [0, 0, 0, 12, 6, 0]</text>\n<text text-anchor=\"middle\" x=\"3156\" y=\"-230.8\" font-family=\"Helvetica,sans-Serif\" font-size=\"14.00\" fill=\"#000000\">class = SITTING</text>\n</g>\n<!-- 42&#45;&gt;50 -->\n<g id=\"edge50\" class=\"edge\">\n<title>42&#45;&gt;50</title>\n<path fill=\"none\" stroke=\"#000000\" d=\"M3156,-341.8796C3156,-333.6838 3156,-324.9891 3156,-316.5013\"/>\n<polygon fill=\"#000000\" stroke=\"#000000\" points=\"3159.5001,-316.298 3156,-306.2981 3152.5001,-316.2981 3159.5001,-316.298\"/>\n</g>\n<!-- 44 -->\n<g id=\"node45\" class=\"node\">\n<title>44</title>\n<polygon fill=\"#823be5\" stroke=\"#000000\" points=\"2833,-187 2597,-187 2597,-104 2833,-104 2833,-187\"/>\n<text text-anchor=\"middle\" x=\"2715\" y=\"-171.8\" font-family=\"Helvetica,sans-Serif\" font-size=\"14.00\" fill=\"#000000\">tBodyGyro&#45;arCoeff()&#45;Y,1 &lt;= &#45;0.545</text>\n<text text-anchor=\"middle\" x=\"2715\" y=\"-156.8\" font-family=\"Helvetica,sans-Serif\" font-size=\"14.00\" fill=\"#000000\">gini = 0.022</text>\n<text text-anchor=\"middle\" x=\"2715\" y=\"-141.8\" font-family=\"Helvetica,sans-Serif\" font-size=\"14.00\" fill=\"#000000\">samples = 802</text>\n<text text-anchor=\"middle\" x=\"2715\" y=\"-126.8\" font-family=\"Helvetica,sans-Serif\" font-size=\"14.00\" fill=\"#000000\">value = [0, 0, 0, 9, 793, 0]</text>\n<text text-anchor=\"middle\" x=\"2715\" y=\"-111.8\" font-family=\"Helvetica,sans-Serif\" font-size=\"14.00\" fill=\"#000000\">class = STANDING</text>\n</g>\n<!-- 43&#45;&gt;44 -->\n<g id=\"edge44\" class=\"edge\">\n<title>43&#45;&gt;44</title>\n<path fill=\"none\" stroke=\"#000000\" d=\"M2827.493,-222.8796C2813.4018,-213.1868 2798.2961,-202.7961 2783.8731,-192.8752\"/>\n<polygon fill=\"#000000\" stroke=\"#000000\" points=\"2785.6955,-189.8806 2775.4728,-187.0969 2781.7283,-195.6479 2785.6955,-189.8806\"/>\n</g>\n<!-- 47 -->\n<g id=\"node48\" class=\"node\">\n<title>47</title>\n<polygon fill=\"#9355e9\" stroke=\"#000000\" points=\"3057,-187 2851,-187 2851,-104 3057,-104 3057,-187\"/>\n<text text-anchor=\"middle\" x=\"2954\" y=\"-171.8\" font-family=\"Helvetica,sans-Serif\" font-size=\"14.00\" fill=\"#000000\">fBodyGyro&#45;max()&#45;X &lt;= &#45;0.982</text>\n<text text-anchor=\"middle\" x=\"2954\" y=\"-156.8\" font-family=\"Helvetica,sans-Serif\" font-size=\"14.00\" fill=\"#000000\">gini = 0.217</text>\n<text text-anchor=\"middle\" x=\"2954\" y=\"-141.8\" font-family=\"Helvetica,sans-Serif\" font-size=\"14.00\" fill=\"#000000\">samples = 412</text>\n<text text-anchor=\"middle\" x=\"2954\" y=\"-126.8\" font-family=\"Helvetica,sans-Serif\" font-size=\"14.00\" fill=\"#000000\">value = [0, 0, 0, 51, 361, 0]</text>\n<text text-anchor=\"middle\" x=\"2954\" y=\"-111.8\" font-family=\"Helvetica,sans-Serif\" font-size=\"14.00\" fill=\"#000000\">class = STANDING</text>\n</g>\n<!-- 43&#45;&gt;47 -->\n<g id=\"edge47\" class=\"edge\">\n<title>43&#45;&gt;47</title>\n<path fill=\"none\" stroke=\"#000000\" d=\"M2911.0836,-222.8796C2915.8789,-214.2335 2920.9822,-205.0322 2925.9338,-196.1042\"/>\n<polygon fill=\"#000000\" stroke=\"#000000\" points=\"2929.0284,-197.7407 2930.8179,-187.2981 2922.9069,-194.3455 2929.0284,-197.7407\"/>\n</g>\n<!-- 45 -->\n<g id=\"node46\" class=\"node\">\n<title>45</title>\n<polygon fill=\"#d5bdf6\" stroke=\"#000000\" points=\"2649,-68 2487,-68 2487,0 2649,0 2649,-68\"/>\n<text text-anchor=\"middle\" x=\"2568\" y=\"-52.8\" font-family=\"Helvetica,sans-Serif\" font-size=\"14.00\" fill=\"#000000\">gini = 0.48</text>\n<text text-anchor=\"middle\" x=\"2568\" y=\"-37.8\" font-family=\"Helvetica,sans-Serif\" font-size=\"14.00\" fill=\"#000000\">samples = 10</text>\n<text text-anchor=\"middle\" x=\"2568\" y=\"-22.8\" font-family=\"Helvetica,sans-Serif\" font-size=\"14.00\" fill=\"#000000\">value = [0, 0, 0, 4, 6, 0]</text>\n<text text-anchor=\"middle\" x=\"2568\" y=\"-7.8\" font-family=\"Helvetica,sans-Serif\" font-size=\"14.00\" fill=\"#000000\">class = STANDING</text>\n</g>\n<!-- 44&#45;&gt;45 -->\n<g id=\"edge45\" class=\"edge\">\n<title>44&#45;&gt;45</title>\n<path fill=\"none\" stroke=\"#000000\" d=\"M2660.2626,-103.9815C2647.5399,-94.3313 2634.0134,-84.0714 2621.3515,-74.4673\"/>\n<polygon fill=\"#000000\" stroke=\"#000000\" points=\"2623.2553,-71.5184 2613.1727,-68.2637 2619.025,-77.0956 2623.2553,-71.5184\"/>\n</g>\n<!-- 46 -->\n<g id=\"node47\" class=\"node\">\n<title>46</title>\n<polygon fill=\"#823ae5\" stroke=\"#000000\" points=\"2846.5,-68 2667.5,-68 2667.5,0 2846.5,0 2846.5,-68\"/>\n<text text-anchor=\"middle\" x=\"2757\" y=\"-52.8\" font-family=\"Helvetica,sans-Serif\" font-size=\"14.00\" fill=\"#000000\">gini = 0.013</text>\n<text text-anchor=\"middle\" x=\"2757\" y=\"-37.8\" font-family=\"Helvetica,sans-Serif\" font-size=\"14.00\" fill=\"#000000\">samples = 792</text>\n<text text-anchor=\"middle\" x=\"2757\" y=\"-22.8\" font-family=\"Helvetica,sans-Serif\" font-size=\"14.00\" fill=\"#000000\">value = [0, 0, 0, 5, 787, 0]</text>\n<text text-anchor=\"middle\" x=\"2757\" y=\"-7.8\" font-family=\"Helvetica,sans-Serif\" font-size=\"14.00\" fill=\"#000000\">class = STANDING</text>\n</g>\n<!-- 44&#45;&gt;46 -->\n<g id=\"edge46\" class=\"edge\">\n<title>44&#45;&gt;46</title>\n<path fill=\"none\" stroke=\"#000000\" d=\"M2730.6392,-103.9815C2733.8589,-95.4342 2737.2587,-86.4086 2740.5074,-77.7839\"/>\n<polygon fill=\"#000000\" stroke=\"#000000\" points=\"2743.8438,-78.8556 2744.0935,-68.2637 2737.2931,-76.388 2743.8438,-78.8556\"/>\n</g>\n<!-- 48 -->\n<g id=\"node49\" class=\"node\">\n<title>48</title>\n<polygon fill=\"#c1e0f7\" stroke=\"#000000\" points=\"3043.5,-68 2864.5,-68 2864.5,0 3043.5,0 3043.5,-68\"/>\n<text text-anchor=\"middle\" x=\"2954\" y=\"-52.8\" font-family=\"Helvetica,sans-Serif\" font-size=\"14.00\" fill=\"#000000\">gini = 0.483</text>\n<text text-anchor=\"middle\" x=\"2954\" y=\"-37.8\" font-family=\"Helvetica,sans-Serif\" font-size=\"14.00\" fill=\"#000000\">samples = 59</text>\n<text text-anchor=\"middle\" x=\"2954\" y=\"-22.8\" font-family=\"Helvetica,sans-Serif\" font-size=\"14.00\" fill=\"#000000\">value = [0, 0, 0, 35, 24, 0]</text>\n<text text-anchor=\"middle\" x=\"2954\" y=\"-7.8\" font-family=\"Helvetica,sans-Serif\" font-size=\"14.00\" fill=\"#000000\">class = SITTING</text>\n</g>\n<!-- 47&#45;&gt;48 -->\n<g id=\"edge48\" class=\"edge\">\n<title>47&#45;&gt;48</title>\n<path fill=\"none\" stroke=\"#000000\" d=\"M2954,-103.9815C2954,-95.618 2954,-86.7965 2954,-78.3409\"/>\n<polygon fill=\"#000000\" stroke=\"#000000\" points=\"2957.5001,-78.2636 2954,-68.2637 2950.5001,-78.2637 2957.5001,-78.2636\"/>\n</g>\n<!-- 49 -->\n<g id=\"node50\" class=\"node\">\n<title>49</title>\n<polygon fill=\"#8742e6\" stroke=\"#000000\" points=\"3248.5,-68 3061.5,-68 3061.5,0 3248.5,0 3248.5,-68\"/>\n<text text-anchor=\"middle\" x=\"3155\" y=\"-52.8\" font-family=\"Helvetica,sans-Serif\" font-size=\"14.00\" fill=\"#000000\">gini = 0.087</text>\n<text text-anchor=\"middle\" x=\"3155\" y=\"-37.8\" font-family=\"Helvetica,sans-Serif\" font-size=\"14.00\" fill=\"#000000\">samples = 353</text>\n<text text-anchor=\"middle\" x=\"3155\" y=\"-22.8\" font-family=\"Helvetica,sans-Serif\" font-size=\"14.00\" fill=\"#000000\">value = [0, 0, 0, 16, 337, 0]</text>\n<text text-anchor=\"middle\" x=\"3155\" y=\"-7.8\" font-family=\"Helvetica,sans-Serif\" font-size=\"14.00\" fill=\"#000000\">class = STANDING</text>\n</g>\n<!-- 47&#45;&gt;49 -->\n<g id=\"edge49\" class=\"edge\">\n<title>47&#45;&gt;49</title>\n<path fill=\"none\" stroke=\"#000000\" d=\"M3028.845,-103.9815C3047.1656,-93.8186 3066.7053,-82.9794 3084.7994,-72.9421\"/>\n<polygon fill=\"#000000\" stroke=\"#000000\" points=\"3086.5073,-75.9972 3093.5542,-68.0856 3083.1117,-69.8759 3086.5073,-75.9972\"/>\n</g>\n<!-- 51 -->\n<g id=\"node52\" class=\"node\">\n<title>51</title>\n<polygon fill=\"#8139e5\" stroke=\"#000000\" points=\"3237,-179.5 3075,-179.5 3075,-111.5 3237,-111.5 3237,-179.5\"/>\n<text text-anchor=\"middle\" x=\"3156\" y=\"-164.3\" font-family=\"Helvetica,sans-Serif\" font-size=\"14.00\" fill=\"#000000\">gini = 0.0</text>\n<text text-anchor=\"middle\" x=\"3156\" y=\"-149.3\" font-family=\"Helvetica,sans-Serif\" font-size=\"14.00\" fill=\"#000000\">samples = 6</text>\n<text text-anchor=\"middle\" x=\"3156\" y=\"-134.3\" font-family=\"Helvetica,sans-Serif\" font-size=\"14.00\" fill=\"#000000\">value = [0, 0, 0, 0, 6, 0]</text>\n<text text-anchor=\"middle\" x=\"3156\" y=\"-119.3\" font-family=\"Helvetica,sans-Serif\" font-size=\"14.00\" fill=\"#000000\">class = STANDING</text>\n</g>\n<!-- 50&#45;&gt;51 -->\n<g id=\"edge51\" class=\"edge\">\n<title>50&#45;&gt;51</title>\n<path fill=\"none\" stroke=\"#000000\" d=\"M3156,-222.8796C3156,-212.2134 3156,-200.7021 3156,-189.9015\"/>\n<polygon fill=\"#000000\" stroke=\"#000000\" points=\"3159.5001,-189.8149 3156,-179.8149 3152.5001,-189.815 3159.5001,-189.8149\"/>\n</g>\n<!-- 52 -->\n<g id=\"node53\" class=\"node\">\n<title>52</title>\n<polygon fill=\"#399de5\" stroke=\"#000000\" points=\"3425,-179.5 3255,-179.5 3255,-111.5 3425,-111.5 3425,-179.5\"/>\n<text text-anchor=\"middle\" x=\"3340\" y=\"-164.3\" font-family=\"Helvetica,sans-Serif\" font-size=\"14.00\" fill=\"#000000\">gini = 0.0</text>\n<text text-anchor=\"middle\" x=\"3340\" y=\"-149.3\" font-family=\"Helvetica,sans-Serif\" font-size=\"14.00\" fill=\"#000000\">samples = 12</text>\n<text text-anchor=\"middle\" x=\"3340\" y=\"-134.3\" font-family=\"Helvetica,sans-Serif\" font-size=\"14.00\" fill=\"#000000\">value = [0, 0, 0, 12, 0, 0]</text>\n<text text-anchor=\"middle\" x=\"3340\" y=\"-119.3\" font-family=\"Helvetica,sans-Serif\" font-size=\"14.00\" fill=\"#000000\">class = SITTING</text>\n</g>\n<!-- 50&#45;&gt;52 -->\n<g id=\"edge52\" class=\"edge\">\n<title>50&#45;&gt;52</title>\n<path fill=\"none\" stroke=\"#000000\" d=\"M3220.3543,-222.8796C3239.3167,-210.6158 3260.0066,-197.2348 3278.7674,-185.1015\"/>\n<polygon fill=\"#000000\" stroke=\"#000000\" points=\"3280.7421,-187.9926 3287.2383,-179.623 3276.9407,-182.1148 3280.7421,-187.9926\"/>\n</g>\n<!-- 54 -->\n<g id=\"node55\" class=\"node\">\n<title>54</title>\n<polygon fill=\"#9c64eb\" stroke=\"#000000\" points=\"3588.5,-425 3307.5,-425 3307.5,-342 3588.5,-342 3588.5,-425\"/>\n<text text-anchor=\"middle\" x=\"3448\" y=\"-409.8\" font-family=\"Helvetica,sans-Serif\" font-size=\"14.00\" fill=\"#000000\">fBodyAccJerk&#45;bandsEnergy()&#45;1,8 &lt;= &#45;1.0</text>\n<text text-anchor=\"middle\" x=\"3448\" y=\"-394.8\" font-family=\"Helvetica,sans-Serif\" font-size=\"14.00\" fill=\"#000000\">gini = 0.293</text>\n<text text-anchor=\"middle\" x=\"3448\" y=\"-379.8\" font-family=\"Helvetica,sans-Serif\" font-size=\"14.00\" fill=\"#000000\">samples = 28</text>\n<text text-anchor=\"middle\" x=\"3448\" y=\"-364.8\" font-family=\"Helvetica,sans-Serif\" font-size=\"14.00\" fill=\"#000000\">value = [0, 0, 0, 5, 23, 0]</text>\n<text text-anchor=\"middle\" x=\"3448\" y=\"-349.8\" font-family=\"Helvetica,sans-Serif\" font-size=\"14.00\" fill=\"#000000\">class = STANDING</text>\n</g>\n<!-- 53&#45;&gt;54 -->\n<g id=\"edge54\" class=\"edge\">\n<title>53&#45;&gt;54</title>\n<path fill=\"none\" stroke=\"#000000\" d=\"M3448,-460.8796C3448,-452.6838 3448,-443.9891 3448,-435.5013\"/>\n<polygon fill=\"#000000\" stroke=\"#000000\" points=\"3451.5001,-435.298 3448,-425.2981 3444.5001,-435.2981 3451.5001,-435.298\"/>\n</g>\n<!-- 57 -->\n<g id=\"node58\" class=\"node\">\n<title>57</title>\n<polygon fill=\"#6ab6ec\" stroke=\"#000000\" points=\"3928,-425 3612,-425 3612,-342 3928,-342 3928,-425\"/>\n<text text-anchor=\"middle\" x=\"3770\" y=\"-409.8\" font-family=\"Helvetica,sans-Serif\" font-size=\"14.00\" fill=\"#000000\">angle(tBodyGyroMean,gravityMean) &lt;= &#45;0.449</text>\n<text text-anchor=\"middle\" x=\"3770\" y=\"-394.8\" font-family=\"Helvetica,sans-Serif\" font-size=\"14.00\" fill=\"#000000\">gini = 0.32</text>\n<text text-anchor=\"middle\" x=\"3770\" y=\"-379.8\" font-family=\"Helvetica,sans-Serif\" font-size=\"14.00\" fill=\"#000000\">samples = 35</text>\n<text text-anchor=\"middle\" x=\"3770\" y=\"-364.8\" font-family=\"Helvetica,sans-Serif\" font-size=\"14.00\" fill=\"#000000\">value = [0, 0, 0, 28, 7, 0]</text>\n<text text-anchor=\"middle\" x=\"3770\" y=\"-349.8\" font-family=\"Helvetica,sans-Serif\" font-size=\"14.00\" fill=\"#000000\">class = SITTING</text>\n</g>\n<!-- 53&#45;&gt;57 -->\n<g id=\"edge57\" class=\"edge\">\n<title>53&#45;&gt;57</title>\n<path fill=\"none\" stroke=\"#000000\" d=\"M3551.6553,-464.1926C3582.3121,-452.8629 3616.1599,-440.3539 3647.8684,-428.6356\"/>\n<polygon fill=\"#000000\" stroke=\"#000000\" points=\"3649.4677,-431.776 3657.6343,-425.0264 3647.0411,-425.21 3649.4677,-431.776\"/>\n</g>\n<!-- 55 -->\n<g id=\"node56\" class=\"node\">\n<title>55</title>\n<polygon fill=\"#8139e5\" stroke=\"#000000\" points=\"3491,-298.5 3321,-298.5 3321,-230.5 3491,-230.5 3491,-298.5\"/>\n<text text-anchor=\"middle\" x=\"3406\" y=\"-283.3\" font-family=\"Helvetica,sans-Serif\" font-size=\"14.00\" fill=\"#000000\">gini = 0.0</text>\n<text text-anchor=\"middle\" x=\"3406\" y=\"-268.3\" font-family=\"Helvetica,sans-Serif\" font-size=\"14.00\" fill=\"#000000\">samples = 23</text>\n<text text-anchor=\"middle\" x=\"3406\" y=\"-253.3\" font-family=\"Helvetica,sans-Serif\" font-size=\"14.00\" fill=\"#000000\">value = [0, 0, 0, 0, 23, 0]</text>\n<text text-anchor=\"middle\" x=\"3406\" y=\"-238.3\" font-family=\"Helvetica,sans-Serif\" font-size=\"14.00\" fill=\"#000000\">class = STANDING</text>\n</g>\n<!-- 54&#45;&gt;55 -->\n<g id=\"edge55\" class=\"edge\">\n<title>54&#45;&gt;55</title>\n<path fill=\"none\" stroke=\"#000000\" d=\"M3433.3104,-341.8796C3429.5071,-331.1034 3425.3993,-319.4647 3421.5533,-308.5677\"/>\n<polygon fill=\"#000000\" stroke=\"#000000\" points=\"3424.7399,-307.08 3418.1112,-298.8149 3418.139,-309.4097 3424.7399,-307.08\"/>\n</g>\n<!-- 56 -->\n<g id=\"node57\" class=\"node\">\n<title>56</title>\n<polygon fill=\"#399de5\" stroke=\"#000000\" points=\"3671,-298.5 3509,-298.5 3509,-230.5 3671,-230.5 3671,-298.5\"/>\n<text text-anchor=\"middle\" x=\"3590\" y=\"-283.3\" font-family=\"Helvetica,sans-Serif\" font-size=\"14.00\" fill=\"#000000\">gini = 0.0</text>\n<text text-anchor=\"middle\" x=\"3590\" y=\"-268.3\" font-family=\"Helvetica,sans-Serif\" font-size=\"14.00\" fill=\"#000000\">samples = 5</text>\n<text text-anchor=\"middle\" x=\"3590\" y=\"-253.3\" font-family=\"Helvetica,sans-Serif\" font-size=\"14.00\" fill=\"#000000\">value = [0, 0, 0, 5, 0, 0]</text>\n<text text-anchor=\"middle\" x=\"3590\" y=\"-238.3\" font-family=\"Helvetica,sans-Serif\" font-size=\"14.00\" fill=\"#000000\">class = SITTING</text>\n</g>\n<!-- 54&#45;&gt;56 -->\n<g id=\"edge56\" class=\"edge\">\n<title>54&#45;&gt;56</title>\n<path fill=\"none\" stroke=\"#000000\" d=\"M3497.6647,-341.8796C3511.8358,-330.0038 3527.257,-317.0804 3541.3658,-305.2568\"/>\n<polygon fill=\"#000000\" stroke=\"#000000\" points=\"3543.6363,-307.9206 3549.0528,-298.8149 3539.1402,-302.5554 3543.6363,-307.9206\"/>\n</g>\n<!-- 58 -->\n<g id=\"node59\" class=\"node\">\n<title>58</title>\n<polygon fill=\"#8139e5\" stroke=\"#000000\" points=\"3851,-298.5 3689,-298.5 3689,-230.5 3851,-230.5 3851,-298.5\"/>\n<text text-anchor=\"middle\" x=\"3770\" y=\"-283.3\" font-family=\"Helvetica,sans-Serif\" font-size=\"14.00\" fill=\"#000000\">gini = 0.0</text>\n<text text-anchor=\"middle\" x=\"3770\" y=\"-268.3\" font-family=\"Helvetica,sans-Serif\" font-size=\"14.00\" fill=\"#000000\">samples = 5</text>\n<text text-anchor=\"middle\" x=\"3770\" y=\"-253.3\" font-family=\"Helvetica,sans-Serif\" font-size=\"14.00\" fill=\"#000000\">value = [0, 0, 0, 0, 5, 0]</text>\n<text text-anchor=\"middle\" x=\"3770\" y=\"-238.3\" font-family=\"Helvetica,sans-Serif\" font-size=\"14.00\" fill=\"#000000\">class = STANDING</text>\n</g>\n<!-- 57&#45;&gt;58 -->\n<g id=\"edge58\" class=\"edge\">\n<title>57&#45;&gt;58</title>\n<path fill=\"none\" stroke=\"#000000\" d=\"M3770,-341.8796C3770,-331.2134 3770,-319.7021 3770,-308.9015\"/>\n<polygon fill=\"#000000\" stroke=\"#000000\" points=\"3773.5001,-308.8149 3770,-298.8149 3766.5001,-308.815 3773.5001,-308.8149\"/>\n</g>\n<!-- 59 -->\n<g id=\"node60\" class=\"node\">\n<title>59</title>\n<polygon fill=\"#47a4e7\" stroke=\"#000000\" points=\"4145,-306 3869,-306 3869,-223 4145,-223 4145,-306\"/>\n<text text-anchor=\"middle\" x=\"4007\" y=\"-290.8\" font-family=\"Helvetica,sans-Serif\" font-size=\"14.00\" fill=\"#000000\">tBodyGyroJerkMag&#45;arCoeff()3 &lt;= &#45;0.209</text>\n<text text-anchor=\"middle\" x=\"4007\" y=\"-275.8\" font-family=\"Helvetica,sans-Serif\" font-size=\"14.00\" fill=\"#000000\">gini = 0.124</text>\n<text text-anchor=\"middle\" x=\"4007\" y=\"-260.8\" font-family=\"Helvetica,sans-Serif\" font-size=\"14.00\" fill=\"#000000\">samples = 30</text>\n<text text-anchor=\"middle\" x=\"4007\" y=\"-245.8\" font-family=\"Helvetica,sans-Serif\" font-size=\"14.00\" fill=\"#000000\">value = [0, 0, 0, 28, 2, 0]</text>\n<text text-anchor=\"middle\" x=\"4007\" y=\"-230.8\" font-family=\"Helvetica,sans-Serif\" font-size=\"14.00\" fill=\"#000000\">class = SITTING</text>\n</g>\n<!-- 57&#45;&gt;59 -->\n<g id=\"edge59\" class=\"edge\">\n<title>57&#45;&gt;59</title>\n<path fill=\"none\" stroke=\"#000000\" d=\"M3852.8911,-341.8796C3873.0071,-331.7791 3894.6323,-320.9209 3915.1356,-310.626\"/>\n<polygon fill=\"#000000\" stroke=\"#000000\" points=\"3916.7895,-313.712 3924.1557,-306.0969 3913.6484,-307.4563 3916.7895,-313.712\"/>\n</g>\n<!-- 60 -->\n<g id=\"node61\" class=\"node\">\n<title>60</title>\n<polygon fill=\"#c09cf2\" stroke=\"#000000\" points=\"3904,-179.5 3742,-179.5 3742,-111.5 3904,-111.5 3904,-179.5\"/>\n<text text-anchor=\"middle\" x=\"3823\" y=\"-164.3\" font-family=\"Helvetica,sans-Serif\" font-size=\"14.00\" fill=\"#000000\">gini = 0.444</text>\n<text text-anchor=\"middle\" x=\"3823\" y=\"-149.3\" font-family=\"Helvetica,sans-Serif\" font-size=\"14.00\" fill=\"#000000\">samples = 3</text>\n<text text-anchor=\"middle\" x=\"3823\" y=\"-134.3\" font-family=\"Helvetica,sans-Serif\" font-size=\"14.00\" fill=\"#000000\">value = [0, 0, 0, 1, 2, 0]</text>\n<text text-anchor=\"middle\" x=\"3823\" y=\"-119.3\" font-family=\"Helvetica,sans-Serif\" font-size=\"14.00\" fill=\"#000000\">class = STANDING</text>\n</g>\n<!-- 59&#45;&gt;60 -->\n<g id=\"edge60\" class=\"edge\">\n<title>59&#45;&gt;60</title>\n<path fill=\"none\" stroke=\"#000000\" d=\"M3942.6457,-222.8796C3923.6833,-210.6158 3902.9934,-197.2348 3884.2326,-185.1015\"/>\n<polygon fill=\"#000000\" stroke=\"#000000\" points=\"3886.0593,-182.1148 3875.7617,-179.623 3882.2579,-187.9926 3886.0593,-182.1148\"/>\n</g>\n<!-- 61 -->\n<g id=\"node62\" class=\"node\">\n<title>61</title>\n<polygon fill=\"#399de5\" stroke=\"#000000\" points=\"4092,-179.5 3922,-179.5 3922,-111.5 4092,-111.5 4092,-179.5\"/>\n<text text-anchor=\"middle\" x=\"4007\" y=\"-164.3\" font-family=\"Helvetica,sans-Serif\" font-size=\"14.00\" fill=\"#000000\">gini = 0.0</text>\n<text text-anchor=\"middle\" x=\"4007\" y=\"-149.3\" font-family=\"Helvetica,sans-Serif\" font-size=\"14.00\" fill=\"#000000\">samples = 27</text>\n<text text-anchor=\"middle\" x=\"4007\" y=\"-134.3\" font-family=\"Helvetica,sans-Serif\" font-size=\"14.00\" fill=\"#000000\">value = [0, 0, 0, 27, 0, 0]</text>\n<text text-anchor=\"middle\" x=\"4007\" y=\"-119.3\" font-family=\"Helvetica,sans-Serif\" font-size=\"14.00\" fill=\"#000000\">class = SITTING</text>\n</g>\n<!-- 59&#45;&gt;61 -->\n<g id=\"edge61\" class=\"edge\">\n<title>59&#45;&gt;61</title>\n<path fill=\"none\" stroke=\"#000000\" d=\"M4007,-222.8796C4007,-212.2134 4007,-200.7021 4007,-189.9015\"/>\n<polygon fill=\"#000000\" stroke=\"#000000\" points=\"4010.5001,-189.8149 4007,-179.8149 4003.5001,-189.815 4010.5001,-189.8149\"/>\n</g>\n<!-- 63 -->\n<g id=\"node64\" class=\"node\">\n<title>63</title>\n<polygon fill=\"#fbebdf\" stroke=\"#000000\" points=\"6210,-663 5972,-663 5972,-580 6210,-580 6210,-663\"/>\n<text text-anchor=\"middle\" x=\"6091\" y=\"-647.8\" font-family=\"Helvetica,sans-Serif\" font-size=\"14.00\" fill=\"#000000\">tGravityAcc&#45;arCoeff()&#45;Z,2 &lt;= 0.564</text>\n<text text-anchor=\"middle\" x=\"6091\" y=\"-632.8\" font-family=\"Helvetica,sans-Serif\" font-size=\"14.00\" fill=\"#000000\">gini = 0.56</text>\n<text text-anchor=\"middle\" x=\"6091\" y=\"-617.8\" font-family=\"Helvetica,sans-Serif\" font-size=\"14.00\" fill=\"#000000\">samples = 2364</text>\n<text text-anchor=\"middle\" x=\"6091\" y=\"-602.8\" font-family=\"Helvetica,sans-Serif\" font-size=\"14.00\" fill=\"#000000\">value = [1207, 987, 170, 0, 0, 0]</text>\n<text text-anchor=\"middle\" x=\"6091\" y=\"-587.8\" font-family=\"Helvetica,sans-Serif\" font-size=\"14.00\" fill=\"#000000\">class = WALKING</text>\n</g>\n<!-- 62&#45;&gt;63 -->\n<g id=\"edge63\" class=\"edge\">\n<title>62&#45;&gt;63</title>\n<path fill=\"none\" stroke=\"#000000\" d=\"M6091,-698.8796C6091,-690.6838 6091,-681.9891 6091,-673.5013\"/>\n<polygon fill=\"#000000\" stroke=\"#000000\" points=\"6094.5001,-673.298 6091,-663.2981 6087.5001,-673.2981 6094.5001,-673.298\"/>\n</g>\n<!-- 112 -->\n<g id=\"node113\" class=\"node\">\n<title>112</title>\n<polygon fill=\"#52e891\" stroke=\"#000000\" points=\"8713.5,-663 8460.5,-663 8460.5,-580 8713.5,-580 8713.5,-663\"/>\n<text text-anchor=\"middle\" x=\"8587\" y=\"-647.8\" font-family=\"Helvetica,sans-Serif\" font-size=\"14.00\" fill=\"#000000\">tBodyGyro&#45;correlation()&#45;Y,Z &lt;= 0.276</text>\n<text text-anchor=\"middle\" x=\"8587\" y=\"-632.8\" font-family=\"Helvetica,sans-Serif\" font-size=\"14.00\" fill=\"#000000\">gini = 0.206</text>\n<text text-anchor=\"middle\" x=\"8587\" y=\"-617.8\" font-family=\"Helvetica,sans-Serif\" font-size=\"14.00\" fill=\"#000000\">samples = 921</text>\n<text text-anchor=\"middle\" x=\"8587\" y=\"-602.8\" font-family=\"Helvetica,sans-Serif\" font-size=\"14.00\" fill=\"#000000\">value = [19, 86, 816, 0, 0, 0]</text>\n<text text-anchor=\"middle\" x=\"8587\" y=\"-587.8\" font-family=\"Helvetica,sans-Serif\" font-size=\"14.00\" fill=\"#000000\">class = WALKING_DOWNSTAIRS</text>\n</g>\n<!-- 62&#45;&gt;112 -->\n<g id=\"edge112\" class=\"edge\">\n<title>62&#45;&gt;112</title>\n<path fill=\"none\" stroke=\"#000000\" d=\"M6206.7949,-734.9793C6618.0485,-715.3723 8007.3301,-649.1365 8450.1721,-628.0234\"/>\n<polygon fill=\"#000000\" stroke=\"#000000\" points=\"8450.634,-631.5055 8460.4559,-627.5332 8450.3006,-624.5134 8450.634,-631.5055\"/>\n</g>\n<!-- 64 -->\n<g id=\"node65\" class=\"node\">\n<title>64</title>\n<polygon fill=\"#eb9d66\" stroke=\"#000000\" points=\"5852.5,-544 5627.5,-544 5627.5,-461 5852.5,-461 5852.5,-544\"/>\n<text text-anchor=\"middle\" x=\"5740\" y=\"-528.8\" font-family=\"Helvetica,sans-Serif\" font-size=\"14.00\" fill=\"#000000\">fBodyGyro&#45;maxInds&#45;X &lt;= &#45;0.967</text>\n<text text-anchor=\"middle\" x=\"5740\" y=\"-513.8\" font-family=\"Helvetica,sans-Serif\" font-size=\"14.00\" fill=\"#000000\">gini = 0.343</text>\n<text text-anchor=\"middle\" x=\"5740\" y=\"-498.8\" font-family=\"Helvetica,sans-Serif\" font-size=\"14.00\" fill=\"#000000\">samples = 1367</text>\n<text text-anchor=\"middle\" x=\"5740\" y=\"-483.8\" font-family=\"Helvetica,sans-Serif\" font-size=\"14.00\" fill=\"#000000\">value = [1091, 143, 133, 0, 0, 0]</text>\n<text text-anchor=\"middle\" x=\"5740\" y=\"-468.8\" font-family=\"Helvetica,sans-Serif\" font-size=\"14.00\" fill=\"#000000\">class = WALKING</text>\n</g>\n<!-- 63&#45;&gt;64 -->\n<g id=\"edge64\" class=\"edge\">\n<title>63&#45;&gt;64</title>\n<path fill=\"none\" stroke=\"#000000\" d=\"M5971.6776,-581.046C5936.5261,-569.1285 5898.0132,-556.0714 5862.6562,-544.0843\"/>\n<polygon fill=\"#000000\" stroke=\"#000000\" points=\"5863.3672,-540.6297 5852.7728,-540.7335 5861.1195,-547.2591 5863.3672,-540.6297\"/>\n</g>\n<!-- 91 -->\n<g id=\"node92\" class=\"node\">\n<title>91</title>\n<polygon fill=\"#aeea5b\" stroke=\"#000000\" points=\"6875,-544 6663,-544 6663,-461 6875,-461 6875,-544\"/>\n<text text-anchor=\"middle\" x=\"6769\" y=\"-528.8\" font-family=\"Helvetica,sans-Serif\" font-size=\"14.00\" fill=\"#000000\">tGravityAcc&#45;min()&#45;X &lt;= 0.956</text>\n<text text-anchor=\"middle\" x=\"6769\" y=\"-513.8\" font-family=\"Helvetica,sans-Serif\" font-size=\"14.00\" fill=\"#000000\">gini = 0.268</text>\n<text text-anchor=\"middle\" x=\"6769\" y=\"-498.8\" font-family=\"Helvetica,sans-Serif\" font-size=\"14.00\" fill=\"#000000\">samples = 997</text>\n<text text-anchor=\"middle\" x=\"6769\" y=\"-483.8\" font-family=\"Helvetica,sans-Serif\" font-size=\"14.00\" fill=\"#000000\">value = [116, 844, 37, 0, 0, 0]</text>\n<text text-anchor=\"middle\" x=\"6769\" y=\"-468.8\" font-family=\"Helvetica,sans-Serif\" font-size=\"14.00\" fill=\"#000000\">class = WALKING_UPSTAIRS</text>\n</g>\n<!-- 63&#45;&gt;91 -->\n<g id=\"edge91\" class=\"edge\">\n<title>63&#45;&gt;91</title>\n<path fill=\"none\" stroke=\"#000000\" d=\"M6210.263,-600.5674C6335.0289,-578.669 6529.5704,-544.5238 6653.0744,-522.8468\"/>\n<polygon fill=\"#000000\" stroke=\"#000000\" points=\"6653.7048,-526.2898 6662.9492,-521.1136 6652.4947,-519.3952 6653.7048,-526.2898\"/>\n</g>\n<!-- 65 -->\n<g id=\"node66\" class=\"node\">\n<title>65</title>\n<polygon fill=\"#f6fded\" stroke=\"#000000\" points=\"4964,-425 4752,-425 4752,-342 4964,-342 4964,-425\"/>\n<text text-anchor=\"middle\" x=\"4858\" y=\"-409.8\" font-family=\"Helvetica,sans-Serif\" font-size=\"14.00\" fill=\"#000000\">fBodyAcc&#45;max()&#45;Y &lt;= &#45;0.298</text>\n<text text-anchor=\"middle\" x=\"4858\" y=\"-394.8\" font-family=\"Helvetica,sans-Serif\" font-size=\"14.00\" fill=\"#000000\">gini = 0.57</text>\n<text text-anchor=\"middle\" x=\"4858\" y=\"-379.8\" font-family=\"Helvetica,sans-Serif\" font-size=\"14.00\" fill=\"#000000\">samples = 159</text>\n<text text-anchor=\"middle\" x=\"4858\" y=\"-364.8\" font-family=\"Helvetica,sans-Serif\" font-size=\"14.00\" fill=\"#000000\">value = [13, 77, 69, 0, 0, 0]</text>\n<text text-anchor=\"middle\" x=\"4858\" y=\"-349.8\" font-family=\"Helvetica,sans-Serif\" font-size=\"14.00\" fill=\"#000000\">class = WALKING_UPSTAIRS</text>\n</g>\n<!-- 64&#45;&gt;65 -->\n<g id=\"edge65\" class=\"edge\">\n<title>64&#45;&gt;65</title>\n<path fill=\"none\" stroke=\"#000000\" d=\"M5627.3982,-487.3077C5459.2653,-464.6231 5144.21,-422.1156 4974.0778,-399.1613\"/>\n<polygon fill=\"#000000\" stroke=\"#000000\" points=\"4974.4636,-395.6817 4964.0853,-397.8131 4973.5275,-402.6189 4974.4636,-395.6817\"/>\n</g>\n<!-- 76 -->\n<g id=\"node77\" class=\"node\">\n<title>76</title>\n<polygon fill=\"#e88f50\" stroke=\"#000000\" points=\"5867,-425 5613,-425 5613,-342 5867,-342 5867,-425\"/>\n<text text-anchor=\"middle\" x=\"5740\" y=\"-409.8\" font-family=\"Helvetica,sans-Serif\" font-size=\"14.00\" fill=\"#000000\">tGravityAccMag&#45;arCoeff()1 &lt;= &#45;0.343</text>\n<text text-anchor=\"middle\" x=\"5740\" y=\"-394.8\" font-family=\"Helvetica,sans-Serif\" font-size=\"14.00\" fill=\"#000000\">gini = 0.198</text>\n<text text-anchor=\"middle\" x=\"5740\" y=\"-379.8\" font-family=\"Helvetica,sans-Serif\" font-size=\"14.00\" fill=\"#000000\">samples = 1208</text>\n<text text-anchor=\"middle\" x=\"5740\" y=\"-364.8\" font-family=\"Helvetica,sans-Serif\" font-size=\"14.00\" fill=\"#000000\">value = [1078, 66, 64, 0, 0, 0]</text>\n<text text-anchor=\"middle\" x=\"5740\" y=\"-349.8\" font-family=\"Helvetica,sans-Serif\" font-size=\"14.00\" fill=\"#000000\">class = WALKING</text>\n</g>\n<!-- 64&#45;&gt;76 -->\n<g id=\"edge76\" class=\"edge\">\n<title>64&#45;&gt;76</title>\n<path fill=\"none\" stroke=\"#000000\" d=\"M5740,-460.8796C5740,-452.6838 5740,-443.9891 5740,-435.5013\"/>\n<polygon fill=\"#000000\" stroke=\"#000000\" points=\"5743.5001,-435.298 5740,-425.2981 5736.5001,-435.2981 5743.5001,-435.298\"/>\n</g>\n<!-- 66 -->\n<g id=\"node67\" class=\"node\">\n<title>66</title>\n<polygon fill=\"#68eb9f\" stroke=\"#000000\" points=\"4577.5,-306 4324.5,-306 4324.5,-223 4577.5,-223 4577.5,-306\"/>\n<text text-anchor=\"middle\" x=\"4451\" y=\"-290.8\" font-family=\"Helvetica,sans-Serif\" font-size=\"14.00\" fill=\"#000000\">tBodyAcc&#45;correlation()&#45;X,Y &lt;= &#45;0.219</text>\n<text text-anchor=\"middle\" x=\"4451\" y=\"-275.8\" font-family=\"Helvetica,sans-Serif\" font-size=\"14.00\" fill=\"#000000\">gini = 0.338</text>\n<text text-anchor=\"middle\" x=\"4451\" y=\"-260.8\" font-family=\"Helvetica,sans-Serif\" font-size=\"14.00\" fill=\"#000000\">samples = 79</text>\n<text text-anchor=\"middle\" x=\"4451\" y=\"-245.8\" font-family=\"Helvetica,sans-Serif\" font-size=\"14.00\" fill=\"#000000\">value = [12, 4, 63, 0, 0, 0]</text>\n<text text-anchor=\"middle\" x=\"4451\" y=\"-230.8\" font-family=\"Helvetica,sans-Serif\" font-size=\"14.00\" fill=\"#000000\">class = WALKING_DOWNSTAIRS</text>\n</g>\n<!-- 65&#45;&gt;66 -->\n<g id=\"edge66\" class=\"edge\">\n<title>65&#45;&gt;66</title>\n<path fill=\"none\" stroke=\"#000000\" d=\"M4751.8627,-352.4672C4701.6409,-337.7832 4641.0682,-320.0728 4587.4767,-304.4035\"/>\n<polygon fill=\"#000000\" stroke=\"#000000\" points=\"4588.1357,-300.9497 4577.5553,-301.5027 4586.1712,-307.6684 4588.1357,-300.9497\"/>\n</g>\n<!-- 71 -->\n<g id=\"node72\" class=\"node\">\n<title>71</title>\n<polygon fill=\"#a6e74c\" stroke=\"#000000\" points=\"4964,-306 4752,-306 4752,-223 4964,-223 4964,-306\"/>\n<text text-anchor=\"middle\" x=\"4858\" y=\"-290.8\" font-family=\"Helvetica,sans-Serif\" font-size=\"14.00\" fill=\"#000000\">tGravityAcc&#45;max()&#45;X &lt;= 0.89</text>\n<text text-anchor=\"middle\" x=\"4858\" y=\"-275.8\" font-family=\"Helvetica,sans-Serif\" font-size=\"14.00\" fill=\"#000000\">gini = 0.162</text>\n<text text-anchor=\"middle\" x=\"4858\" y=\"-260.8\" font-family=\"Helvetica,sans-Serif\" font-size=\"14.00\" fill=\"#000000\">samples = 80</text>\n<text text-anchor=\"middle\" x=\"4858\" y=\"-245.8\" font-family=\"Helvetica,sans-Serif\" font-size=\"14.00\" fill=\"#000000\">value = [1, 73, 6, 0, 0, 0]</text>\n<text text-anchor=\"middle\" x=\"4858\" y=\"-230.8\" font-family=\"Helvetica,sans-Serif\" font-size=\"14.00\" fill=\"#000000\">class = WALKING_UPSTAIRS</text>\n</g>\n<!-- 65&#45;&gt;71 -->\n<g id=\"edge71\" class=\"edge\">\n<title>65&#45;&gt;71</title>\n<path fill=\"none\" stroke=\"#000000\" d=\"M4858,-341.8796C4858,-333.6838 4858,-324.9891 4858,-316.5013\"/>\n<polygon fill=\"#000000\" stroke=\"#000000\" points=\"4861.5001,-316.298 4858,-306.2981 4854.5001,-316.2981 4861.5001,-316.298\"/>\n</g>\n<!-- 67 -->\n<g id=\"node68\" class=\"node\">\n<title>67</title>\n<polygon fill=\"#43e687\" stroke=\"#000000\" points=\"4348,-187 4110,-187 4110,-104 4348,-104 4348,-187\"/>\n<text text-anchor=\"middle\" x=\"4229\" y=\"-171.8\" font-family=\"Helvetica,sans-Serif\" font-size=\"14.00\" fill=\"#000000\">angle(X,gravityMean) &lt;= &#45;0.651</text>\n<text text-anchor=\"middle\" x=\"4229\" y=\"-156.8\" font-family=\"Helvetica,sans-Serif\" font-size=\"14.00\" fill=\"#000000\">gini = 0.088</text>\n<text text-anchor=\"middle\" x=\"4229\" y=\"-141.8\" font-family=\"Helvetica,sans-Serif\" font-size=\"14.00\" fill=\"#000000\">samples = 65</text>\n<text text-anchor=\"middle\" x=\"4229\" y=\"-126.8\" font-family=\"Helvetica,sans-Serif\" font-size=\"14.00\" fill=\"#000000\">value = [0, 3, 62, 0, 0, 0]</text>\n<text text-anchor=\"middle\" x=\"4229\" y=\"-111.8\" font-family=\"Helvetica,sans-Serif\" font-size=\"14.00\" fill=\"#000000\">class = WALKING_DOWNSTAIRS</text>\n</g>\n<!-- 66&#45;&gt;67 -->\n<g id=\"edge67\" class=\"edge\">\n<title>66&#45;&gt;67</title>\n<path fill=\"none\" stroke=\"#000000\" d=\"M4373.3552,-222.8796C4354.6814,-212.8697 4334.6191,-202.1156 4315.5672,-191.9031\"/>\n<polygon fill=\"#000000\" stroke=\"#000000\" points=\"4317.0682,-188.7366 4306.601,-187.0969 4313.7611,-194.9062 4317.0682,-188.7366\"/>\n</g>\n<!-- 70 -->\n<g id=\"node71\" class=\"node\">\n<title>70</title>\n<polygon fill=\"#e99457\" stroke=\"#000000\" points=\"4536,-179.5 4366,-179.5 4366,-111.5 4536,-111.5 4536,-179.5\"/>\n<text text-anchor=\"middle\" x=\"4451\" y=\"-164.3\" font-family=\"Helvetica,sans-Serif\" font-size=\"14.00\" fill=\"#000000\">gini = 0.255</text>\n<text text-anchor=\"middle\" x=\"4451\" y=\"-149.3\" font-family=\"Helvetica,sans-Serif\" font-size=\"14.00\" fill=\"#000000\">samples = 14</text>\n<text text-anchor=\"middle\" x=\"4451\" y=\"-134.3\" font-family=\"Helvetica,sans-Serif\" font-size=\"14.00\" fill=\"#000000\">value = [12, 1, 1, 0, 0, 0]</text>\n<text text-anchor=\"middle\" x=\"4451\" y=\"-119.3\" font-family=\"Helvetica,sans-Serif\" font-size=\"14.00\" fill=\"#000000\">class = WALKING</text>\n</g>\n<!-- 66&#45;&gt;70 -->\n<g id=\"edge70\" class=\"edge\">\n<title>66&#45;&gt;70</title>\n<path fill=\"none\" stroke=\"#000000\" d=\"M4451,-222.8796C4451,-212.2134 4451,-200.7021 4451,-189.9015\"/>\n<polygon fill=\"#000000\" stroke=\"#000000\" points=\"4454.5001,-189.8149 4451,-179.8149 4447.5001,-189.815 4454.5001,-189.8149\"/>\n</g>\n<!-- 68 -->\n<g id=\"node69\" class=\"node\">\n<title>68</title>\n<polygon fill=\"#39e581\" stroke=\"#000000\" points=\"4110,-68 3872,-68 3872,0 4110,0 4110,-68\"/>\n<text text-anchor=\"middle\" x=\"3991\" y=\"-52.8\" font-family=\"Helvetica,sans-Serif\" font-size=\"14.00\" fill=\"#000000\">gini = 0.0</text>\n<text text-anchor=\"middle\" x=\"3991\" y=\"-37.8\" font-family=\"Helvetica,sans-Serif\" font-size=\"14.00\" fill=\"#000000\">samples = 62</text>\n<text text-anchor=\"middle\" x=\"3991\" y=\"-22.8\" font-family=\"Helvetica,sans-Serif\" font-size=\"14.00\" fill=\"#000000\">value = [0, 0, 62, 0, 0, 0]</text>\n<text text-anchor=\"middle\" x=\"3991\" y=\"-7.8\" font-family=\"Helvetica,sans-Serif\" font-size=\"14.00\" fill=\"#000000\">class = WALKING_DOWNSTAIRS</text>\n</g>\n<!-- 67&#45;&gt;68 -->\n<g id=\"edge68\" class=\"edge\">\n<title>67&#45;&gt;68</title>\n<path fill=\"none\" stroke=\"#000000\" d=\"M4140.3776,-103.9815C4118.2901,-93.6338 4094.7062,-82.585 4072.9562,-72.3954\"/>\n<polygon fill=\"#000000\" stroke=\"#000000\" points=\"4074.2971,-69.1586 4063.7568,-68.0856 4071.3274,-75.4975 4074.2971,-69.1586\"/>\n</g>\n<!-- 69 -->\n<g id=\"node70\" class=\"node\">\n<title>69</title>\n<polygon fill=\"#9de539\" stroke=\"#000000\" points=\"4340,-68 4128,-68 4128,0 4340,0 4340,-68\"/>\n<text text-anchor=\"middle\" x=\"4234\" y=\"-52.8\" font-family=\"Helvetica,sans-Serif\" font-size=\"14.00\" fill=\"#000000\">gini = 0.0</text>\n<text text-anchor=\"middle\" x=\"4234\" y=\"-37.8\" font-family=\"Helvetica,sans-Serif\" font-size=\"14.00\" fill=\"#000000\">samples = 3</text>\n<text text-anchor=\"middle\" x=\"4234\" y=\"-22.8\" font-family=\"Helvetica,sans-Serif\" font-size=\"14.00\" fill=\"#000000\">value = [0, 3, 0, 0, 0, 0]</text>\n<text text-anchor=\"middle\" x=\"4234\" y=\"-7.8\" font-family=\"Helvetica,sans-Serif\" font-size=\"14.00\" fill=\"#000000\">class = WALKING_UPSTAIRS</text>\n</g>\n<!-- 67&#45;&gt;69 -->\n<g id=\"edge69\" class=\"edge\">\n<title>67&#45;&gt;69</title>\n<path fill=\"none\" stroke=\"#000000\" d=\"M4230.8618,-103.9815C4231.2369,-95.618 4231.6324,-86.7965 4232.0116,-78.3409\"/>\n<polygon fill=\"#000000\" stroke=\"#000000\" points=\"4235.5119,-78.4105 4232.4635,-68.2637 4228.519,-78.0968 4235.5119,-78.4105\"/>\n</g>\n<!-- 72 -->\n<g id=\"node73\" class=\"node\">\n<title>72</title>\n<polygon fill=\"#a1e641\" stroke=\"#000000\" points=\"4868,-187 4554,-187 4554,-104 4868,-104 4868,-187\"/>\n<text text-anchor=\"middle\" x=\"4711\" y=\"-171.8\" font-family=\"Helvetica,sans-Serif\" font-size=\"14.00\" fill=\"#000000\">fBodyAccJerk&#45;bandsEnergy()&#45;17,24 &lt;= &#45;0.459</text>\n<text text-anchor=\"middle\" x=\"4711\" y=\"-156.8\" font-family=\"Helvetica,sans-Serif\" font-size=\"14.00\" fill=\"#000000\">gini = 0.077</text>\n<text text-anchor=\"middle\" x=\"4711\" y=\"-141.8\" font-family=\"Helvetica,sans-Serif\" font-size=\"14.00\" fill=\"#000000\">samples = 76</text>\n<text text-anchor=\"middle\" x=\"4711\" y=\"-126.8\" font-family=\"Helvetica,sans-Serif\" font-size=\"14.00\" fill=\"#000000\">value = [1, 73, 2, 0, 0, 0]</text>\n<text text-anchor=\"middle\" x=\"4711\" y=\"-111.8\" font-family=\"Helvetica,sans-Serif\" font-size=\"14.00\" fill=\"#000000\">class = WALKING_UPSTAIRS</text>\n</g>\n<!-- 71&#45;&gt;72 -->\n<g id=\"edge72\" class=\"edge\">\n<title>71&#45;&gt;72</title>\n<path fill=\"none\" stroke=\"#000000\" d=\"M4806.5865,-222.8796C4794.9048,-213.4229 4782.4025,-203.302 4770.419,-193.6011\"/>\n<polygon fill=\"#000000\" stroke=\"#000000\" points=\"4772.6076,-190.8697 4762.6329,-187.2981 4768.2032,-196.3105 4772.6076,-190.8697\"/>\n</g>\n<!-- 75 -->\n<g id=\"node76\" class=\"node\">\n<title>75</title>\n<polygon fill=\"#39e581\" stroke=\"#000000\" points=\"5124,-179.5 4886,-179.5 4886,-111.5 5124,-111.5 5124,-179.5\"/>\n<text text-anchor=\"middle\" x=\"5005\" y=\"-164.3\" font-family=\"Helvetica,sans-Serif\" font-size=\"14.00\" fill=\"#000000\">gini = 0.0</text>\n<text text-anchor=\"middle\" x=\"5005\" y=\"-149.3\" font-family=\"Helvetica,sans-Serif\" font-size=\"14.00\" fill=\"#000000\">samples = 4</text>\n<text text-anchor=\"middle\" x=\"5005\" y=\"-134.3\" font-family=\"Helvetica,sans-Serif\" font-size=\"14.00\" fill=\"#000000\">value = [0, 0, 4, 0, 0, 0]</text>\n<text text-anchor=\"middle\" x=\"5005\" y=\"-119.3\" font-family=\"Helvetica,sans-Serif\" font-size=\"14.00\" fill=\"#000000\">class = WALKING_DOWNSTAIRS</text>\n</g>\n<!-- 71&#45;&gt;75 -->\n<g id=\"edge75\" class=\"edge\">\n<title>71&#45;&gt;75</title>\n<path fill=\"none\" stroke=\"#000000\" d=\"M4909.4135,-222.8796C4924.0835,-211.0038 4940.0477,-198.0804 4954.6533,-186.2568\"/>\n<polygon fill=\"#000000\" stroke=\"#000000\" points=\"4957.0407,-188.8273 4962.611,-179.8149 4952.6363,-183.3866 4957.0407,-188.8273\"/>\n</g>\n<!-- 73 -->\n<g id=\"node74\" class=\"node\">\n<title>73</title>\n<polygon fill=\"#9ee53c\" stroke=\"#000000\" points=\"4574,-68 4362,-68 4362,0 4574,0 4574,-68\"/>\n<text text-anchor=\"middle\" x=\"4468\" y=\"-52.8\" font-family=\"Helvetica,sans-Serif\" font-size=\"14.00\" fill=\"#000000\">gini = 0.027</text>\n<text text-anchor=\"middle\" x=\"4468\" y=\"-37.8\" font-family=\"Helvetica,sans-Serif\" font-size=\"14.00\" fill=\"#000000\">samples = 74</text>\n<text text-anchor=\"middle\" x=\"4468\" y=\"-22.8\" font-family=\"Helvetica,sans-Serif\" font-size=\"14.00\" fill=\"#000000\">value = [1, 73, 0, 0, 0, 0]</text>\n<text text-anchor=\"middle\" x=\"4468\" y=\"-7.8\" font-family=\"Helvetica,sans-Serif\" font-size=\"14.00\" fill=\"#000000\">class = WALKING_UPSTAIRS</text>\n</g>\n<!-- 72&#45;&gt;73 -->\n<g id=\"edge73\" class=\"edge\">\n<title>72&#45;&gt;73</title>\n<path fill=\"none\" stroke=\"#000000\" d=\"M4620.5158,-103.9815C4597.8636,-93.5876 4573.6699,-82.4864 4551.3807,-72.259\"/>\n<polygon fill=\"#000000\" stroke=\"#000000\" points=\"4552.8338,-69.075 4542.2853,-68.0856 4549.9145,-75.4372 4552.8338,-69.075\"/>\n</g>\n<!-- 74 -->\n<g id=\"node75\" class=\"node\">\n<title>74</title>\n<polygon fill=\"#39e581\" stroke=\"#000000\" points=\"4830,-68 4592,-68 4592,0 4830,0 4830,-68\"/>\n<text text-anchor=\"middle\" x=\"4711\" y=\"-52.8\" font-family=\"Helvetica,sans-Serif\" font-size=\"14.00\" fill=\"#000000\">gini = 0.0</text>\n<text text-anchor=\"middle\" x=\"4711\" y=\"-37.8\" font-family=\"Helvetica,sans-Serif\" font-size=\"14.00\" fill=\"#000000\">samples = 2</text>\n<text text-anchor=\"middle\" x=\"4711\" y=\"-22.8\" font-family=\"Helvetica,sans-Serif\" font-size=\"14.00\" fill=\"#000000\">value = [0, 0, 2, 0, 0, 0]</text>\n<text text-anchor=\"middle\" x=\"4711\" y=\"-7.8\" font-family=\"Helvetica,sans-Serif\" font-size=\"14.00\" fill=\"#000000\">class = WALKING_DOWNSTAIRS</text>\n</g>\n<!-- 72&#45;&gt;74 -->\n<g id=\"edge74\" class=\"edge\">\n<title>72&#45;&gt;74</title>\n<path fill=\"none\" stroke=\"#000000\" d=\"M4711,-103.9815C4711,-95.618 4711,-86.7965 4711,-78.3409\"/>\n<polygon fill=\"#000000\" stroke=\"#000000\" points=\"4714.5001,-78.2636 4711,-68.2637 4707.5001,-78.2637 4714.5001,-78.2636\"/>\n</g>\n<!-- 77 -->\n<g id=\"node78\" class=\"node\">\n<title>77</title>\n<polygon fill=\"#d5fae4\" stroke=\"#000000\" points=\"5693,-306 5455,-306 5455,-223 5693,-223 5693,-306\"/>\n<text text-anchor=\"middle\" x=\"5574\" y=\"-290.8\" font-family=\"Helvetica,sans-Serif\" font-size=\"14.00\" fill=\"#000000\">tGravityAcc&#45;energy()&#45;Y &lt;= &#45;0.932</text>\n<text text-anchor=\"middle\" x=\"5574\" y=\"-275.8\" font-family=\"Helvetica,sans-Serif\" font-size=\"14.00\" fill=\"#000000\">gini = 0.606</text>\n<text text-anchor=\"middle\" x=\"5574\" y=\"-260.8\" font-family=\"Helvetica,sans-Serif\" font-size=\"14.00\" fill=\"#000000\">samples = 81</text>\n<text text-anchor=\"middle\" x=\"5574\" y=\"-245.8\" font-family=\"Helvetica,sans-Serif\" font-size=\"14.00\" fill=\"#000000\">value = [12, 29, 40, 0, 0, 0]</text>\n<text text-anchor=\"middle\" x=\"5574\" y=\"-230.8\" font-family=\"Helvetica,sans-Serif\" font-size=\"14.00\" fill=\"#000000\">class = WALKING_DOWNSTAIRS</text>\n</g>\n<!-- 76&#45;&gt;77 -->\n<g id=\"edge77\" class=\"edge\">\n<title>76&#45;&gt;77</title>\n<path fill=\"none\" stroke=\"#000000\" d=\"M5681.9413,-341.8796C5668.5466,-332.2774 5654.1965,-321.9903 5640.4745,-312.1534\"/>\n<polygon fill=\"#000000\" stroke=\"#000000\" points=\"5642.1926,-309.0786 5632.026,-306.0969 5638.1142,-314.7678 5642.1926,-309.0786\"/>\n</g>\n<!-- 84 -->\n<g id=\"node85\" class=\"node\">\n<title>84</title>\n<polygon fill=\"#e68844\" stroke=\"#000000\" points=\"6033.5,-306 5780.5,-306 5780.5,-223 6033.5,-223 6033.5,-306\"/>\n<text text-anchor=\"middle\" x=\"5907\" y=\"-290.8\" font-family=\"Helvetica,sans-Serif\" font-size=\"14.00\" fill=\"#000000\">tBodyAcc&#45;correlation()&#45;X,Y &lt;= &#45;0.467</text>\n<text text-anchor=\"middle\" x=\"5907\" y=\"-275.8\" font-family=\"Helvetica,sans-Serif\" font-size=\"14.00\" fill=\"#000000\">gini = 0.104</text>\n<text text-anchor=\"middle\" x=\"5907\" y=\"-260.8\" font-family=\"Helvetica,sans-Serif\" font-size=\"14.00\" fill=\"#000000\">samples = 1127</text>\n<text text-anchor=\"middle\" x=\"5907\" y=\"-245.8\" font-family=\"Helvetica,sans-Serif\" font-size=\"14.00\" fill=\"#000000\">value = [1066, 37, 24, 0, 0, 0]</text>\n<text text-anchor=\"middle\" x=\"5907\" y=\"-230.8\" font-family=\"Helvetica,sans-Serif\" font-size=\"14.00\" fill=\"#000000\">class = WALKING</text>\n</g>\n<!-- 76&#45;&gt;84 -->\n<g id=\"edge84\" class=\"edge\">\n<title>76&#45;&gt;84</title>\n<path fill=\"none\" stroke=\"#000000\" d=\"M5798.4085,-341.8796C5811.8839,-332.2774 5826.3203,-321.9903 5840.125,-312.1534\"/>\n<polygon fill=\"#000000\" stroke=\"#000000\" points=\"5842.5117,-314.7505 5848.6245,-306.0969 5838.4494,-309.0497 5842.5117,-314.7505\"/>\n</g>\n<!-- 78 -->\n<g id=\"node79\" class=\"node\">\n<title>78</title>\n<polygon fill=\"#4fe88f\" stroke=\"#000000\" points=\"5393.5,-187 5142.5,-187 5142.5,-104 5393.5,-104 5393.5,-187\"/>\n<text text-anchor=\"middle\" x=\"5268\" y=\"-171.8\" font-family=\"Helvetica,sans-Serif\" font-size=\"14.00\" fill=\"#000000\">tBodyGyroJerk&#45;energy()&#45;Z &lt;= &#45;0.845</text>\n<text text-anchor=\"middle\" x=\"5268\" y=\"-156.8\" font-family=\"Helvetica,sans-Serif\" font-size=\"14.00\" fill=\"#000000\">gini = 0.18</text>\n<text text-anchor=\"middle\" x=\"5268\" y=\"-141.8\" font-family=\"Helvetica,sans-Serif\" font-size=\"14.00\" fill=\"#000000\">samples = 40</text>\n<text text-anchor=\"middle\" x=\"5268\" y=\"-126.8\" font-family=\"Helvetica,sans-Serif\" font-size=\"14.00\" fill=\"#000000\">value = [4, 0, 36, 0, 0, 0]</text>\n<text text-anchor=\"middle\" x=\"5268\" y=\"-111.8\" font-family=\"Helvetica,sans-Serif\" font-size=\"14.00\" fill=\"#000000\">class = WALKING_DOWNSTAIRS</text>\n</g>\n<!-- 77&#45;&gt;78 -->\n<g id=\"edge78\" class=\"edge\">\n<title>77&#45;&gt;78</title>\n<path fill=\"none\" stroke=\"#000000\" d=\"M5466.976,-222.8796C5440.3047,-212.5074 5411.5785,-201.3361 5384.4762,-190.7963\"/>\n<polygon fill=\"#000000\" stroke=\"#000000\" points=\"5385.5522,-187.4594 5374.9635,-187.0969 5383.015,-193.9835 5385.5522,-187.4594\"/>\n</g>\n<!-- 81 -->\n<g id=\"node82\" class=\"node\">\n<title>81</title>\n<polygon fill=\"#c1ee81\" stroke=\"#000000\" points=\"5714.5,-187 5433.5,-187 5433.5,-104 5714.5,-104 5714.5,-187\"/>\n<text text-anchor=\"middle\" x=\"5574\" y=\"-171.8\" font-family=\"Helvetica,sans-Serif\" font-size=\"14.00\" fill=\"#000000\">tBodyAccJerk&#45;correlation()&#45;X,Y &lt;= &#45;0.007</text>\n<text text-anchor=\"middle\" x=\"5574\" y=\"-156.8\" font-family=\"Helvetica,sans-Serif\" font-size=\"14.00\" fill=\"#000000\">gini = 0.452</text>\n<text text-anchor=\"middle\" x=\"5574\" y=\"-141.8\" font-family=\"Helvetica,sans-Serif\" font-size=\"14.00\" fill=\"#000000\">samples = 41</text>\n<text text-anchor=\"middle\" x=\"5574\" y=\"-126.8\" font-family=\"Helvetica,sans-Serif\" font-size=\"14.00\" fill=\"#000000\">value = [8, 29, 4, 0, 0, 0]</text>\n<text text-anchor=\"middle\" x=\"5574\" y=\"-111.8\" font-family=\"Helvetica,sans-Serif\" font-size=\"14.00\" fill=\"#000000\">class = WALKING_UPSTAIRS</text>\n</g>\n<!-- 77&#45;&gt;81 -->\n<g id=\"edge81\" class=\"edge\">\n<title>77&#45;&gt;81</title>\n<path fill=\"none\" stroke=\"#000000\" d=\"M5574,-222.8796C5574,-214.6838 5574,-205.9891 5574,-197.5013\"/>\n<polygon fill=\"#000000\" stroke=\"#000000\" points=\"5577.5001,-197.298 5574,-187.2981 5570.5001,-197.2981 5577.5001,-197.298\"/>\n</g>\n<!-- 79 -->\n<g id=\"node80\" class=\"node\">\n<title>79</title>\n<polygon fill=\"#39e581\" stroke=\"#000000\" points=\"5086,-68 4848,-68 4848,0 5086,0 5086,-68\"/>\n<text text-anchor=\"middle\" x=\"4967\" y=\"-52.8\" font-family=\"Helvetica,sans-Serif\" font-size=\"14.00\" fill=\"#000000\">gini = 0.0</text>\n<text text-anchor=\"middle\" x=\"4967\" y=\"-37.8\" font-family=\"Helvetica,sans-Serif\" font-size=\"14.00\" fill=\"#000000\">samples = 36</text>\n<text text-anchor=\"middle\" x=\"4967\" y=\"-22.8\" font-family=\"Helvetica,sans-Serif\" font-size=\"14.00\" fill=\"#000000\">value = [0, 0, 36, 0, 0, 0]</text>\n<text text-anchor=\"middle\" x=\"4967\" y=\"-7.8\" font-family=\"Helvetica,sans-Serif\" font-size=\"14.00\" fill=\"#000000\">class = WALKING_DOWNSTAIRS</text>\n</g>\n<!-- 78&#45;&gt;79 -->\n<g id=\"edge79\" class=\"edge\">\n<title>78&#45;&gt;79</title>\n<path fill=\"none\" stroke=\"#000000\" d=\"M5155.9187,-103.9815C5127.2363,-93.3566 5096.5586,-81.9926 5068.4451,-71.5785\"/>\n<polygon fill=\"#000000\" stroke=\"#000000\" points=\"5069.609,-68.2773 5059.0159,-68.0856 5067.1774,-74.8414 5069.609,-68.2773\"/>\n</g>\n<!-- 80 -->\n<g id=\"node81\" class=\"node\">\n<title>80</title>\n<polygon fill=\"#e58139\" stroke=\"#000000\" points=\"5266,-68 5104,-68 5104,0 5266,0 5266,-68\"/>\n<text text-anchor=\"middle\" x=\"5185\" y=\"-52.8\" font-family=\"Helvetica,sans-Serif\" font-size=\"14.00\" fill=\"#000000\">gini = 0.0</text>\n<text text-anchor=\"middle\" x=\"5185\" y=\"-37.8\" font-family=\"Helvetica,sans-Serif\" font-size=\"14.00\" fill=\"#000000\">samples = 4</text>\n<text text-anchor=\"middle\" x=\"5185\" y=\"-22.8\" font-family=\"Helvetica,sans-Serif\" font-size=\"14.00\" fill=\"#000000\">value = [4, 0, 0, 0, 0, 0]</text>\n<text text-anchor=\"middle\" x=\"5185\" y=\"-7.8\" font-family=\"Helvetica,sans-Serif\" font-size=\"14.00\" fill=\"#000000\">class = WALKING</text>\n</g>\n<!-- 78&#45;&gt;80 -->\n<g id=\"edge80\" class=\"edge\">\n<title>78&#45;&gt;80</title>\n<path fill=\"none\" stroke=\"#000000\" d=\"M5237.0939,-103.9815C5230.3892,-94.9747 5223.2892,-85.4367 5216.5597,-76.3965\"/>\n<polygon fill=\"#000000\" stroke=\"#000000\" points=\"5219.2845,-74.1953 5210.5057,-68.2637 5213.6694,-78.3752 5219.2845,-74.1953\"/>\n</g>\n<!-- 82 -->\n<g id=\"node83\" class=\"node\">\n<title>82</title>\n<polygon fill=\"#aee95b\" stroke=\"#000000\" points=\"5496,-68 5284,-68 5284,0 5496,0 5496,-68\"/>\n<text text-anchor=\"middle\" x=\"5390\" y=\"-52.8\" font-family=\"Helvetica,sans-Serif\" font-size=\"14.00\" fill=\"#000000\">gini = 0.264</text>\n<text text-anchor=\"middle\" x=\"5390\" y=\"-37.8\" font-family=\"Helvetica,sans-Serif\" font-size=\"14.00\" fill=\"#000000\">samples = 33</text>\n<text text-anchor=\"middle\" x=\"5390\" y=\"-22.8\" font-family=\"Helvetica,sans-Serif\" font-size=\"14.00\" fill=\"#000000\">value = [1, 28, 4, 0, 0, 0]</text>\n<text text-anchor=\"middle\" x=\"5390\" y=\"-7.8\" font-family=\"Helvetica,sans-Serif\" font-size=\"14.00\" fill=\"#000000\">class = WALKING_UPSTAIRS</text>\n</g>\n<!-- 81&#45;&gt;82 -->\n<g id=\"edge82\" class=\"edge\">\n<title>81&#45;&gt;82</title>\n<path fill=\"none\" stroke=\"#000000\" d=\"M5505.4852,-103.9815C5489.019,-94.0034 5471.4771,-83.3733 5455.168,-73.4904\"/>\n<polygon fill=\"#000000\" stroke=\"#000000\" points=\"5456.6151,-70.2749 5446.2489,-68.0856 5452.9873,-76.2615 5456.6151,-70.2749\"/>\n</g>\n<!-- 83 -->\n<g id=\"node84\" class=\"node\">\n<title>83</title>\n<polygon fill=\"#e99355\" stroke=\"#000000\" points=\"5676,-68 5514,-68 5514,0 5676,0 5676,-68\"/>\n<text text-anchor=\"middle\" x=\"5595\" y=\"-52.8\" font-family=\"Helvetica,sans-Serif\" font-size=\"14.00\" fill=\"#000000\">gini = 0.219</text>\n<text text-anchor=\"middle\" x=\"5595\" y=\"-37.8\" font-family=\"Helvetica,sans-Serif\" font-size=\"14.00\" fill=\"#000000\">samples = 8</text>\n<text text-anchor=\"middle\" x=\"5595\" y=\"-22.8\" font-family=\"Helvetica,sans-Serif\" font-size=\"14.00\" fill=\"#000000\">value = [7, 1, 0, 0, 0, 0]</text>\n<text text-anchor=\"middle\" x=\"5595\" y=\"-7.8\" font-family=\"Helvetica,sans-Serif\" font-size=\"14.00\" fill=\"#000000\">class = WALKING</text>\n</g>\n<!-- 81&#45;&gt;83 -->\n<g id=\"edge83\" class=\"edge\">\n<title>81&#45;&gt;83</title>\n<path fill=\"none\" stroke=\"#000000\" d=\"M5581.8196,-103.9815C5583.3948,-95.618 5585.0563,-86.7965 5586.6488,-78.3409\"/>\n<polygon fill=\"#000000\" stroke=\"#000000\" points=\"5590.1353,-78.7387 5588.5468,-68.2637 5583.2563,-77.4431 5590.1353,-78.7387\"/>\n</g>\n<!-- 85 -->\n<g id=\"node86\" class=\"node\">\n<title>85</title>\n<polygon fill=\"#f5fceb\" stroke=\"#000000\" points=\"6013,-187 5801,-187 5801,-104 6013,-104 6013,-187\"/>\n<text text-anchor=\"middle\" x=\"5907\" y=\"-171.8\" font-family=\"Helvetica,sans-Serif\" font-size=\"14.00\" fill=\"#000000\">tBodyAcc&#45;std()&#45;Y &lt;= &#45;0.063</text>\n<text text-anchor=\"middle\" x=\"5907\" y=\"-156.8\" font-family=\"Helvetica,sans-Serif\" font-size=\"14.00\" fill=\"#000000\">gini = 0.658</text>\n<text text-anchor=\"middle\" x=\"5907\" y=\"-141.8\" font-family=\"Helvetica,sans-Serif\" font-size=\"14.00\" fill=\"#000000\">samples = 30</text>\n<text text-anchor=\"middle\" x=\"5907\" y=\"-126.8\" font-family=\"Helvetica,sans-Serif\" font-size=\"14.00\" fill=\"#000000\">value = [8, 12, 10, 0, 0, 0]</text>\n<text text-anchor=\"middle\" x=\"5907\" y=\"-111.8\" font-family=\"Helvetica,sans-Serif\" font-size=\"14.00\" fill=\"#000000\">class = WALKING_UPSTAIRS</text>\n</g>\n<!-- 84&#45;&gt;85 -->\n<g id=\"edge85\" class=\"edge\">\n<title>84&#45;&gt;85</title>\n<path fill=\"none\" stroke=\"#000000\" d=\"M5907,-222.8796C5907,-214.6838 5907,-205.9891 5907,-197.5013\"/>\n<polygon fill=\"#000000\" stroke=\"#000000\" points=\"5910.5001,-197.298 5907,-187.2981 5903.5001,-197.2981 5910.5001,-197.298\"/>\n</g>\n<!-- 88 -->\n<g id=\"node89\" class=\"node\">\n<title>88</title>\n<polygon fill=\"#e68640\" stroke=\"#000000\" points=\"6305,-187 6099,-187 6099,-104 6305,-104 6305,-187\"/>\n<text text-anchor=\"middle\" x=\"6202\" y=\"-171.8\" font-family=\"Helvetica,sans-Serif\" font-size=\"14.00\" fill=\"#000000\">fBodyAccMag&#45;std() &lt;= &#45;0.262</text>\n<text text-anchor=\"middle\" x=\"6202\" y=\"-156.8\" font-family=\"Helvetica,sans-Serif\" font-size=\"14.00\" fill=\"#000000\">gini = 0.069</text>\n<text text-anchor=\"middle\" x=\"6202\" y=\"-141.8\" font-family=\"Helvetica,sans-Serif\" font-size=\"14.00\" fill=\"#000000\">samples = 1097</text>\n<text text-anchor=\"middle\" x=\"6202\" y=\"-126.8\" font-family=\"Helvetica,sans-Serif\" font-size=\"14.00\" fill=\"#000000\">value = [1058, 25, 14, 0, 0, 0]</text>\n<text text-anchor=\"middle\" x=\"6202\" y=\"-111.8\" font-family=\"Helvetica,sans-Serif\" font-size=\"14.00\" fill=\"#000000\">class = WALKING</text>\n</g>\n<!-- 84&#45;&gt;88 -->\n<g id=\"edge88\" class=\"edge\">\n<title>84&#45;&gt;88</title>\n<path fill=\"none\" stroke=\"#000000\" d=\"M6010.1767,-222.8796C6035.777,-212.5527 6063.341,-201.4336 6089.3685,-190.9344\"/>\n<polygon fill=\"#000000\" stroke=\"#000000\" points=\"6090.917,-194.0838 6098.8816,-187.0969 6088.2983,-187.5921 6090.917,-194.0838\"/>\n</g>\n<!-- 86 -->\n<g id=\"node87\" class=\"node\">\n<title>86</title>\n<polygon fill=\"#39e581\" stroke=\"#000000\" points=\"5932,-68 5694,-68 5694,0 5932,0 5932,-68\"/>\n<text text-anchor=\"middle\" x=\"5813\" y=\"-52.8\" font-family=\"Helvetica,sans-Serif\" font-size=\"14.00\" fill=\"#000000\">gini = 0.0</text>\n<text text-anchor=\"middle\" x=\"5813\" y=\"-37.8\" font-family=\"Helvetica,sans-Serif\" font-size=\"14.00\" fill=\"#000000\">samples = 10</text>\n<text text-anchor=\"middle\" x=\"5813\" y=\"-22.8\" font-family=\"Helvetica,sans-Serif\" font-size=\"14.00\" fill=\"#000000\">value = [0, 0, 10, 0, 0, 0]</text>\n<text text-anchor=\"middle\" x=\"5813\" y=\"-7.8\" font-family=\"Helvetica,sans-Serif\" font-size=\"14.00\" fill=\"#000000\">class = WALKING_DOWNSTAIRS</text>\n</g>\n<!-- 85&#45;&gt;86 -->\n<g id=\"edge86\" class=\"edge\">\n<title>85&#45;&gt;86</title>\n<path fill=\"none\" stroke=\"#000000\" d=\"M5871.9979,-103.9815C5864.3272,-94.8828 5856.1995,-85.242 5848.5091,-76.1199\"/>\n<polygon fill=\"#000000\" stroke=\"#000000\" points=\"5851.0075,-73.6533 5841.886,-68.2637 5845.6556,-78.1652 5851.0075,-73.6533\"/>\n</g>\n<!-- 87 -->\n<g id=\"node88\" class=\"node\">\n<title>87</title>\n<polygon fill=\"#def6bd\" stroke=\"#000000\" points=\"6162,-68 5950,-68 5950,0 6162,0 6162,-68\"/>\n<text text-anchor=\"middle\" x=\"6056\" y=\"-52.8\" font-family=\"Helvetica,sans-Serif\" font-size=\"14.00\" fill=\"#000000\">gini = 0.48</text>\n<text text-anchor=\"middle\" x=\"6056\" y=\"-37.8\" font-family=\"Helvetica,sans-Serif\" font-size=\"14.00\" fill=\"#000000\">samples = 20</text>\n<text text-anchor=\"middle\" x=\"6056\" y=\"-22.8\" font-family=\"Helvetica,sans-Serif\" font-size=\"14.00\" fill=\"#000000\">value = [8, 12, 0, 0, 0, 0]</text>\n<text text-anchor=\"middle\" x=\"6056\" y=\"-7.8\" font-family=\"Helvetica,sans-Serif\" font-size=\"14.00\" fill=\"#000000\">class = WALKING_UPSTAIRS</text>\n</g>\n<!-- 85&#45;&gt;87 -->\n<g id=\"edge87\" class=\"edge\">\n<title>85&#45;&gt;87</title>\n<path fill=\"none\" stroke=\"#000000\" d=\"M5962.4821,-103.9815C5975.3779,-94.3313 5989.0884,-84.0714 6001.9227,-74.4673\"/>\n<polygon fill=\"#000000\" stroke=\"#000000\" points=\"6004.3032,-77.0574 6010.2127,-68.2637 6000.1092,-71.4528 6004.3032,-77.0574\"/>\n</g>\n<!-- 89 -->\n<g id=\"node90\" class=\"node\">\n<title>89</title>\n<polygon fill=\"#e6843d\" stroke=\"#000000\" points=\"6374.5,-68 6179.5,-68 6179.5,0 6374.5,0 6374.5,-68\"/>\n<text text-anchor=\"middle\" x=\"6277\" y=\"-52.8\" font-family=\"Helvetica,sans-Serif\" font-size=\"14.00\" fill=\"#000000\">gini = 0.044</text>\n<text text-anchor=\"middle\" x=\"6277\" y=\"-37.8\" font-family=\"Helvetica,sans-Serif\" font-size=\"14.00\" fill=\"#000000\">samples = 1076</text>\n<text text-anchor=\"middle\" x=\"6277\" y=\"-22.8\" font-family=\"Helvetica,sans-Serif\" font-size=\"14.00\" fill=\"#000000\">value = [1052, 16, 8, 0, 0, 0]</text>\n<text text-anchor=\"middle\" x=\"6277\" y=\"-7.8\" font-family=\"Helvetica,sans-Serif\" font-size=\"14.00\" fill=\"#000000\">class = WALKING</text>\n</g>\n<!-- 88&#45;&gt;89 -->\n<g id=\"edge89\" class=\"edge\">\n<title>88&#45;&gt;89</title>\n<path fill=\"none\" stroke=\"#000000\" d=\"M6229.9272,-103.9815C6235.9238,-95.0666 6242.2704,-85.6313 6248.2959,-76.6734\"/>\n<polygon fill=\"#000000\" stroke=\"#000000\" points=\"6251.2755,-78.5147 6253.9527,-68.2637 6245.4672,-74.6078 6251.2755,-78.5147\"/>\n</g>\n<!-- 90 -->\n<g id=\"node91\" class=\"node\">\n<title>90</title>\n<polygon fill=\"#ebfad7\" stroke=\"#000000\" points=\"6604,-68 6392,-68 6392,0 6604,0 6604,-68\"/>\n<text text-anchor=\"middle\" x=\"6498\" y=\"-52.8\" font-family=\"Helvetica,sans-Serif\" font-size=\"14.00\" fill=\"#000000\">gini = 0.653</text>\n<text text-anchor=\"middle\" x=\"6498\" y=\"-37.8\" font-family=\"Helvetica,sans-Serif\" font-size=\"14.00\" fill=\"#000000\">samples = 21</text>\n<text text-anchor=\"middle\" x=\"6498\" y=\"-22.8\" font-family=\"Helvetica,sans-Serif\" font-size=\"14.00\" fill=\"#000000\">value = [6, 9, 6, 0, 0, 0]</text>\n<text text-anchor=\"middle\" x=\"6498\" y=\"-7.8\" font-family=\"Helvetica,sans-Serif\" font-size=\"14.00\" fill=\"#000000\">class = WALKING_UPSTAIRS</text>\n</g>\n<!-- 88&#45;&gt;90 -->\n<g id=\"edge90\" class=\"edge\">\n<title>88&#45;&gt;90</title>\n<path fill=\"none\" stroke=\"#000000\" d=\"M6305.1109,-106.6592C6335.2215,-95.3169 6368.0701,-82.9432 6397.9856,-71.6743\"/>\n<polygon fill=\"#000000\" stroke=\"#000000\" points=\"6399.4639,-74.8576 6407.5882,-68.0572 6396.9963,-68.307 6399.4639,-74.8576\"/>\n</g>\n<!-- 92 -->\n<g id=\"node93\" class=\"node\">\n<title>92</title>\n<polygon fill=\"#a7e84c\" stroke=\"#000000\" points=\"6883.5,-425 6654.5,-425 6654.5,-342 6883.5,-342 6883.5,-425\"/>\n<text text-anchor=\"middle\" x=\"6769\" y=\"-409.8\" font-family=\"Helvetica,sans-Serif\" font-size=\"14.00\" fill=\"#000000\">tGravityAcc&#45;energy()&#45;Y &lt;= &#45;0.974</text>\n<text text-anchor=\"middle\" x=\"6769\" y=\"-394.8\" font-family=\"Helvetica,sans-Serif\" font-size=\"14.00\" fill=\"#000000\">gini = 0.17</text>\n<text text-anchor=\"middle\" x=\"6769\" y=\"-379.8\" font-family=\"Helvetica,sans-Serif\" font-size=\"14.00\" fill=\"#000000\">samples = 917</text>\n<text text-anchor=\"middle\" x=\"6769\" y=\"-364.8\" font-family=\"Helvetica,sans-Serif\" font-size=\"14.00\" fill=\"#000000\">value = [56, 833, 28, 0, 0, 0]</text>\n<text text-anchor=\"middle\" x=\"6769\" y=\"-349.8\" font-family=\"Helvetica,sans-Serif\" font-size=\"14.00\" fill=\"#000000\">class = WALKING_UPSTAIRS</text>\n</g>\n<!-- 91&#45;&gt;92 -->\n<g id=\"edge92\" class=\"edge\">\n<title>91&#45;&gt;92</title>\n<path fill=\"none\" stroke=\"#000000\" d=\"M6769,-460.8796C6769,-452.6838 6769,-443.9891 6769,-435.5013\"/>\n<polygon fill=\"#000000\" stroke=\"#000000\" points=\"6772.5001,-435.298 6769,-425.2981 6765.5001,-435.2981 6772.5001,-435.298\"/>\n</g>\n<!-- 103 -->\n<g id=\"node104\" class=\"node\">\n<title>103</title>\n<polygon fill=\"#eda672\" stroke=\"#000000\" points=\"7631,-425 7377,-425 7377,-342 7631,-342 7631,-425\"/>\n<text text-anchor=\"middle\" x=\"7504\" y=\"-409.8\" font-family=\"Helvetica,sans-Serif\" font-size=\"14.00\" fill=\"#000000\">tGravityAccMag&#45;arCoeff()1 &lt;= &#45;0.294</text>\n<text text-anchor=\"middle\" x=\"7504\" y=\"-394.8\" font-family=\"Helvetica,sans-Serif\" font-size=\"14.00\" fill=\"#000000\">gini = 0.406</text>\n<text text-anchor=\"middle\" x=\"7504\" y=\"-379.8\" font-family=\"Helvetica,sans-Serif\" font-size=\"14.00\" fill=\"#000000\">samples = 80</text>\n<text text-anchor=\"middle\" x=\"7504\" y=\"-364.8\" font-family=\"Helvetica,sans-Serif\" font-size=\"14.00\" fill=\"#000000\">value = [60, 11, 9, 0, 0, 0]</text>\n<text text-anchor=\"middle\" x=\"7504\" y=\"-349.8\" font-family=\"Helvetica,sans-Serif\" font-size=\"14.00\" fill=\"#000000\">class = WALKING</text>\n</g>\n<!-- 91&#45;&gt;103 -->\n<g id=\"edge103\" class=\"edge\">\n<title>91&#45;&gt;103</title>\n<path fill=\"none\" stroke=\"#000000\" d=\"M6875.0903,-485.3235C7004.759,-464.3295 7224.4513,-428.7603 7366.8429,-405.7064\"/>\n<polygon fill=\"#000000\" stroke=\"#000000\" points=\"7367.6471,-409.1218 7376.9592,-404.0685 7366.5283,-402.2118 7367.6471,-409.1218\"/>\n</g>\n<!-- 93 -->\n<g id=\"node94\" class=\"node\">\n<title>93</title>\n<polygon fill=\"#9cf2c0\" stroke=\"#000000\" points=\"6762.5,-306 6509.5,-306 6509.5,-223 6762.5,-223 6762.5,-306\"/>\n<text text-anchor=\"middle\" x=\"6636\" y=\"-290.8\" font-family=\"Helvetica,sans-Serif\" font-size=\"14.00\" fill=\"#000000\">tBodyAcc&#45;correlation()&#45;X,Y &lt;= &#45;0.205</text>\n<text text-anchor=\"middle\" x=\"6636\" y=\"-275.8\" font-family=\"Helvetica,sans-Serif\" font-size=\"14.00\" fill=\"#000000\">gini = 0.444</text>\n<text text-anchor=\"middle\" x=\"6636\" y=\"-260.8\" font-family=\"Helvetica,sans-Serif\" font-size=\"14.00\" fill=\"#000000\">samples = 30</text>\n<text text-anchor=\"middle\" x=\"6636\" y=\"-245.8\" font-family=\"Helvetica,sans-Serif\" font-size=\"14.00\" fill=\"#000000\">value = [10, 0, 20, 0, 0, 0]</text>\n<text text-anchor=\"middle\" x=\"6636\" y=\"-230.8\" font-family=\"Helvetica,sans-Serif\" font-size=\"14.00\" fill=\"#000000\">class = WALKING_DOWNSTAIRS</text>\n</g>\n<!-- 92&#45;&gt;93 -->\n<g id=\"edge93\" class=\"edge\">\n<title>92&#45;&gt;93</title>\n<path fill=\"none\" stroke=\"#000000\" d=\"M6722.4831,-341.8796C6712.1152,-332.6031 6701.0329,-322.6874 6690.3801,-313.1559\"/>\n<polygon fill=\"#000000\" stroke=\"#000000\" points=\"6692.5017,-310.3577 6682.7155,-306.2981 6687.8341,-315.5744 6692.5017,-310.3577\"/>\n</g>\n<!-- 96 -->\n<g id=\"node97\" class=\"node\">\n<title>96</title>\n<polygon fill=\"#a3e746\" stroke=\"#000000\" points=\"7023,-306 6781,-306 6781,-223 7023,-223 7023,-306\"/>\n<text text-anchor=\"middle\" x=\"6902\" y=\"-290.8\" font-family=\"Helvetica,sans-Serif\" font-size=\"14.00\" fill=\"#000000\">tGravityAcc&#45;arCoeff()&#45;Y,3 &lt;= &#45;0.306</text>\n<text text-anchor=\"middle\" x=\"6902\" y=\"-275.8\" font-family=\"Helvetica,sans-Serif\" font-size=\"14.00\" fill=\"#000000\">gini = 0.115</text>\n<text text-anchor=\"middle\" x=\"6902\" y=\"-260.8\" font-family=\"Helvetica,sans-Serif\" font-size=\"14.00\" fill=\"#000000\">samples = 887</text>\n<text text-anchor=\"middle\" x=\"6902\" y=\"-245.8\" font-family=\"Helvetica,sans-Serif\" font-size=\"14.00\" fill=\"#000000\">value = [46, 833, 8, 0, 0, 0]</text>\n<text text-anchor=\"middle\" x=\"6902\" y=\"-230.8\" font-family=\"Helvetica,sans-Serif\" font-size=\"14.00\" fill=\"#000000\">class = WALKING_UPSTAIRS</text>\n</g>\n<!-- 92&#45;&gt;96 -->\n<g id=\"edge96\" class=\"edge\">\n<title>92&#45;&gt;96</title>\n<path fill=\"none\" stroke=\"#000000\" d=\"M6815.5169,-341.8796C6825.8848,-332.6031 6836.9671,-322.6874 6847.6199,-313.1559\"/>\n<polygon fill=\"#000000\" stroke=\"#000000\" points=\"6850.1659,-315.5744 6855.2845,-306.2981 6845.4983,-310.3577 6850.1659,-315.5744\"/>\n</g>\n<!-- 94 -->\n<g id=\"node95\" class=\"node\">\n<title>94</title>\n<polygon fill=\"#39e581\" stroke=\"#000000\" points=\"6561,-179.5 6323,-179.5 6323,-111.5 6561,-111.5 6561,-179.5\"/>\n<text text-anchor=\"middle\" x=\"6442\" y=\"-164.3\" font-family=\"Helvetica,sans-Serif\" font-size=\"14.00\" fill=\"#000000\">gini = 0.0</text>\n<text text-anchor=\"middle\" x=\"6442\" y=\"-149.3\" font-family=\"Helvetica,sans-Serif\" font-size=\"14.00\" fill=\"#000000\">samples = 20</text>\n<text text-anchor=\"middle\" x=\"6442\" y=\"-134.3\" font-family=\"Helvetica,sans-Serif\" font-size=\"14.00\" fill=\"#000000\">value = [0, 0, 20, 0, 0, 0]</text>\n<text text-anchor=\"middle\" x=\"6442\" y=\"-119.3\" font-family=\"Helvetica,sans-Serif\" font-size=\"14.00\" fill=\"#000000\">class = WALKING_DOWNSTAIRS</text>\n</g>\n<!-- 93&#45;&gt;94 -->\n<g id=\"edge94\" class=\"edge\">\n<title>93&#45;&gt;94</title>\n<path fill=\"none\" stroke=\"#000000\" d=\"M6568.1482,-222.8796C6548.0651,-210.5606 6526.1443,-197.1143 6506.2933,-184.9376\"/>\n<polygon fill=\"#000000\" stroke=\"#000000\" points=\"6507.9833,-181.8683 6497.6291,-179.623 6504.3232,-187.8352 6507.9833,-181.8683\"/>\n</g>\n<!-- 95 -->\n<g id=\"node96\" class=\"node\">\n<title>95</title>\n<polygon fill=\"#e58139\" stroke=\"#000000\" points=\"6749,-179.5 6579,-179.5 6579,-111.5 6749,-111.5 6749,-179.5\"/>\n<text text-anchor=\"middle\" x=\"6664\" y=\"-164.3\" font-family=\"Helvetica,sans-Serif\" font-size=\"14.00\" fill=\"#000000\">gini = 0.0</text>\n<text text-anchor=\"middle\" x=\"6664\" y=\"-149.3\" font-family=\"Helvetica,sans-Serif\" font-size=\"14.00\" fill=\"#000000\">samples = 10</text>\n<text text-anchor=\"middle\" x=\"6664\" y=\"-134.3\" font-family=\"Helvetica,sans-Serif\" font-size=\"14.00\" fill=\"#000000\">value = [10, 0, 0, 0, 0, 0]</text>\n<text text-anchor=\"middle\" x=\"6664\" y=\"-119.3\" font-family=\"Helvetica,sans-Serif\" font-size=\"14.00\" fill=\"#000000\">class = WALKING</text>\n</g>\n<!-- 93&#45;&gt;95 -->\n<g id=\"edge95\" class=\"edge\">\n<title>93&#45;&gt;95</title>\n<path fill=\"none\" stroke=\"#000000\" d=\"M6645.793,-222.8796C6648.3286,-212.1034 6651.0671,-200.4647 6653.6311,-189.5677\"/>\n<polygon fill=\"#000000\" stroke=\"#000000\" points=\"6657.0424,-190.3508 6655.9259,-179.8149 6650.2285,-188.7474 6657.0424,-190.3508\"/>\n</g>\n<!-- 97 -->\n<g id=\"node98\" class=\"node\">\n<title>97</title>\n<polygon fill=\"#a0e640\" stroke=\"#000000\" points=\"6979,-187 6767,-187 6767,-104 6979,-104 6979,-187\"/>\n<text text-anchor=\"middle\" x=\"6873\" y=\"-171.8\" font-family=\"Helvetica,sans-Serif\" font-size=\"14.00\" fill=\"#000000\">tBodyAcc&#45;max()&#45;X &lt;= &#45;0.364</text>\n<text text-anchor=\"middle\" x=\"6873\" y=\"-156.8\" font-family=\"Helvetica,sans-Serif\" font-size=\"14.00\" fill=\"#000000\">gini = 0.066</text>\n<text text-anchor=\"middle\" x=\"6873\" y=\"-141.8\" font-family=\"Helvetica,sans-Serif\" font-size=\"14.00\" fill=\"#000000\">samples = 827</text>\n<text text-anchor=\"middle\" x=\"6873\" y=\"-126.8\" font-family=\"Helvetica,sans-Serif\" font-size=\"14.00\" fill=\"#000000\">value = [21, 799, 7, 0, 0, 0]</text>\n<text text-anchor=\"middle\" x=\"6873\" y=\"-111.8\" font-family=\"Helvetica,sans-Serif\" font-size=\"14.00\" fill=\"#000000\">class = WALKING_UPSTAIRS</text>\n</g>\n<!-- 96&#45;&gt;97 -->\n<g id=\"edge97\" class=\"edge\">\n<title>96&#45;&gt;97</title>\n<path fill=\"none\" stroke=\"#000000\" d=\"M6891.8572,-222.8796C6889.838,-214.5938 6887.6945,-205.798 6885.6044,-197.2216\"/>\n<polygon fill=\"#000000\" stroke=\"#000000\" points=\"6888.9543,-196.185 6883.1861,-187.2981 6882.1534,-197.8425 6888.9543,-196.185\"/>\n</g>\n<!-- 100 -->\n<g id=\"node101\" class=\"node\">\n<title>100</title>\n<polygon fill=\"#e6f8cc\" stroke=\"#000000\" points=\"7278.5,-187 6997.5,-187 6997.5,-104 7278.5,-104 7278.5,-187\"/>\n<text text-anchor=\"middle\" x=\"7138\" y=\"-171.8\" font-family=\"Helvetica,sans-Serif\" font-size=\"14.00\" fill=\"#000000\">tBodyAccJerk&#45;correlation()&#45;X,Y &lt;= &#45;0.003</text>\n<text text-anchor=\"middle\" x=\"7138\" y=\"-156.8\" font-family=\"Helvetica,sans-Serif\" font-size=\"14.00\" fill=\"#000000\">gini = 0.505</text>\n<text text-anchor=\"middle\" x=\"7138\" y=\"-141.8\" font-family=\"Helvetica,sans-Serif\" font-size=\"14.00\" fill=\"#000000\">samples = 60</text>\n<text text-anchor=\"middle\" x=\"7138\" y=\"-126.8\" font-family=\"Helvetica,sans-Serif\" font-size=\"14.00\" fill=\"#000000\">value = [25, 34, 1, 0, 0, 0]</text>\n<text text-anchor=\"middle\" x=\"7138\" y=\"-111.8\" font-family=\"Helvetica,sans-Serif\" font-size=\"14.00\" fill=\"#000000\">class = WALKING_UPSTAIRS</text>\n</g>\n<!-- 96&#45;&gt;100 -->\n<g id=\"edge100\" class=\"edge\">\n<title>96&#45;&gt;100</title>\n<path fill=\"none\" stroke=\"#000000\" d=\"M6984.5413,-222.8796C7004.5724,-212.7791 7026.1064,-201.9209 7046.5232,-191.626\"/>\n<polygon fill=\"#000000\" stroke=\"#000000\" points=\"7048.152,-194.7245 7055.5053,-187.0969 7045.0003,-188.4742 7048.152,-194.7245\"/>\n</g>\n<!-- 98 -->\n<g id=\"node99\" class=\"node\">\n<title>98</title>\n<polygon fill=\"#ffffff\" stroke=\"#000000\" points=\"6784,-68 6622,-68 6622,0 6784,0 6784,-68\"/>\n<text text-anchor=\"middle\" x=\"6703\" y=\"-52.8\" font-family=\"Helvetica,sans-Serif\" font-size=\"14.00\" fill=\"#000000\">gini = 0.5</text>\n<text text-anchor=\"middle\" x=\"6703\" y=\"-37.8\" font-family=\"Helvetica,sans-Serif\" font-size=\"14.00\" fill=\"#000000\">samples = 18</text>\n<text text-anchor=\"middle\" x=\"6703\" y=\"-22.8\" font-family=\"Helvetica,sans-Serif\" font-size=\"14.00\" fill=\"#000000\">value = [9, 9, 0, 0, 0, 0]</text>\n<text text-anchor=\"middle\" x=\"6703\" y=\"-7.8\" font-family=\"Helvetica,sans-Serif\" font-size=\"14.00\" fill=\"#000000\">class = WALKING</text>\n</g>\n<!-- 97&#45;&gt;98 -->\n<g id=\"edge98\" class=\"edge\">\n<title>97&#45;&gt;98</title>\n<path fill=\"none\" stroke=\"#000000\" d=\"M6809.6983,-103.9815C6794.6258,-94.0957 6778.5778,-83.5701 6763.6284,-73.7651\"/>\n<polygon fill=\"#000000\" stroke=\"#000000\" points=\"6765.2506,-70.6434 6754.9691,-68.0856 6761.4115,-76.4968 6765.2506,-70.6434\"/>\n</g>\n<!-- 99 -->\n<g id=\"node100\" class=\"node\">\n<title>99</title>\n<polygon fill=\"#9fe63e\" stroke=\"#000000\" points=\"7014,-68 6802,-68 6802,0 7014,0 7014,-68\"/>\n<text text-anchor=\"middle\" x=\"6908\" y=\"-52.8\" font-family=\"Helvetica,sans-Serif\" font-size=\"14.00\" fill=\"#000000\">gini = 0.046</text>\n<text text-anchor=\"middle\" x=\"6908\" y=\"-37.8\" font-family=\"Helvetica,sans-Serif\" font-size=\"14.00\" fill=\"#000000\">samples = 809</text>\n<text text-anchor=\"middle\" x=\"6908\" y=\"-22.8\" font-family=\"Helvetica,sans-Serif\" font-size=\"14.00\" fill=\"#000000\">value = [12, 790, 7, 0, 0, 0]</text>\n<text text-anchor=\"middle\" x=\"6908\" y=\"-7.8\" font-family=\"Helvetica,sans-Serif\" font-size=\"14.00\" fill=\"#000000\">class = WALKING_UPSTAIRS</text>\n</g>\n<!-- 97&#45;&gt;99 -->\n<g id=\"edge99\" class=\"edge\">\n<title>97&#45;&gt;99</title>\n<path fill=\"none\" stroke=\"#000000\" d=\"M6886.0327,-103.9815C6888.6869,-95.5261 6891.488,-86.6026 6894.1688,-78.0623\"/>\n<polygon fill=\"#000000\" stroke=\"#000000\" points=\"6897.5889,-78.8529 6897.2446,-68.2637 6890.9102,-76.7564 6897.5889,-78.8529\"/>\n</g>\n<!-- 101 -->\n<g id=\"node102\" class=\"node\">\n<title>101</title>\n<polygon fill=\"#b2eb63\" stroke=\"#000000\" points=\"7244,-68 7032,-68 7032,0 7244,0 7244,-68\"/>\n<text text-anchor=\"middle\" x=\"7138\" y=\"-52.8\" font-family=\"Helvetica,sans-Serif\" font-size=\"14.00\" fill=\"#000000\">gini = 0.302</text>\n<text text-anchor=\"middle\" x=\"7138\" y=\"-37.8\" font-family=\"Helvetica,sans-Serif\" font-size=\"14.00\" fill=\"#000000\">samples = 39</text>\n<text text-anchor=\"middle\" x=\"7138\" y=\"-22.8\" font-family=\"Helvetica,sans-Serif\" font-size=\"14.00\" fill=\"#000000\">value = [6, 32, 1, 0, 0, 0]</text>\n<text text-anchor=\"middle\" x=\"7138\" y=\"-7.8\" font-family=\"Helvetica,sans-Serif\" font-size=\"14.00\" fill=\"#000000\">class = WALKING_UPSTAIRS</text>\n</g>\n<!-- 100&#45;&gt;101 -->\n<g id=\"edge101\" class=\"edge\">\n<title>100&#45;&gt;101</title>\n<path fill=\"none\" stroke=\"#000000\" d=\"M7138,-103.9815C7138,-95.618 7138,-86.7965 7138,-78.3409\"/>\n<polygon fill=\"#000000\" stroke=\"#000000\" points=\"7141.5001,-78.2636 7138,-68.2637 7134.5001,-78.2637 7141.5001,-78.2636\"/>\n</g>\n<!-- 102 -->\n<g id=\"node103\" class=\"node\">\n<title>102</title>\n<polygon fill=\"#e88e4e\" stroke=\"#000000\" points=\"7432,-68 7262,-68 7262,0 7432,0 7432,-68\"/>\n<text text-anchor=\"middle\" x=\"7347\" y=\"-52.8\" font-family=\"Helvetica,sans-Serif\" font-size=\"14.00\" fill=\"#000000\">gini = 0.172</text>\n<text text-anchor=\"middle\" x=\"7347\" y=\"-37.8\" font-family=\"Helvetica,sans-Serif\" font-size=\"14.00\" fill=\"#000000\">samples = 21</text>\n<text text-anchor=\"middle\" x=\"7347\" y=\"-22.8\" font-family=\"Helvetica,sans-Serif\" font-size=\"14.00\" fill=\"#000000\">value = [19, 2, 0, 0, 0, 0]</text>\n<text text-anchor=\"middle\" x=\"7347\" y=\"-7.8\" font-family=\"Helvetica,sans-Serif\" font-size=\"14.00\" fill=\"#000000\">class = WALKING</text>\n</g>\n<!-- 100&#45;&gt;102 -->\n<g id=\"edge102\" class=\"edge\">\n<title>100&#45;&gt;102</title>\n<path fill=\"none\" stroke=\"#000000\" d=\"M7215.8239,-103.9815C7234.9603,-93.7724 7255.3758,-82.8809 7274.2618,-72.8053\"/>\n<polygon fill=\"#000000\" stroke=\"#000000\" points=\"7275.9331,-75.8807 7283.1086,-68.0856 7272.6381,-69.7046 7275.9331,-75.8807\"/>\n</g>\n<!-- 104 -->\n<g id=\"node105\" class=\"node\">\n<title>104</title>\n<polygon fill=\"#caf193\" stroke=\"#000000\" points=\"7656.5,-306 7351.5,-306 7351.5,-223 7656.5,-223 7656.5,-306\"/>\n<text text-anchor=\"middle\" x=\"7504\" y=\"-290.8\" font-family=\"Helvetica,sans-Serif\" font-size=\"14.00\" fill=\"#000000\">fBodyAccJerk&#45;bandsEnergy()&#45;49,64 &lt;= &#45;0.92</text>\n<text text-anchor=\"middle\" x=\"7504\" y=\"-275.8\" font-family=\"Helvetica,sans-Serif\" font-size=\"14.00\" fill=\"#000000\">gini = 0.43</text>\n<text text-anchor=\"middle\" x=\"7504\" y=\"-260.8\" font-family=\"Helvetica,sans-Serif\" font-size=\"14.00\" fill=\"#000000\">samples = 16</text>\n<text text-anchor=\"middle\" x=\"7504\" y=\"-245.8\" font-family=\"Helvetica,sans-Serif\" font-size=\"14.00\" fill=\"#000000\">value = [0, 11, 5, 0, 0, 0]</text>\n<text text-anchor=\"middle\" x=\"7504\" y=\"-230.8\" font-family=\"Helvetica,sans-Serif\" font-size=\"14.00\" fill=\"#000000\">class = WALKING_UPSTAIRS</text>\n</g>\n<!-- 103&#45;&gt;104 -->\n<g id=\"edge104\" class=\"edge\">\n<title>103&#45;&gt;104</title>\n<path fill=\"none\" stroke=\"#000000\" d=\"M7504,-341.8796C7504,-333.6838 7504,-324.9891 7504,-316.5013\"/>\n<polygon fill=\"#000000\" stroke=\"#000000\" points=\"7507.5001,-316.298 7504,-306.2981 7500.5001,-316.2981 7507.5001,-316.298\"/>\n</g>\n<!-- 107 -->\n<g id=\"node108\" class=\"node\">\n<title>107</title>\n<polygon fill=\"#e78946\" stroke=\"#000000\" points=\"8028.5,-306 7775.5,-306 7775.5,-223 8028.5,-223 8028.5,-306\"/>\n<text text-anchor=\"middle\" x=\"7902\" y=\"-290.8\" font-family=\"Helvetica,sans-Serif\" font-size=\"14.00\" fill=\"#000000\">tBodyAcc&#45;correlation()&#45;X,Y &lt;= &#45;0.348</text>\n<text text-anchor=\"middle\" x=\"7902\" y=\"-275.8\" font-family=\"Helvetica,sans-Serif\" font-size=\"14.00\" fill=\"#000000\">gini = 0.117</text>\n<text text-anchor=\"middle\" x=\"7902\" y=\"-260.8\" font-family=\"Helvetica,sans-Serif\" font-size=\"14.00\" fill=\"#000000\">samples = 64</text>\n<text text-anchor=\"middle\" x=\"7902\" y=\"-245.8\" font-family=\"Helvetica,sans-Serif\" font-size=\"14.00\" fill=\"#000000\">value = [60, 0, 4, 0, 0, 0]</text>\n<text text-anchor=\"middle\" x=\"7902\" y=\"-230.8\" font-family=\"Helvetica,sans-Serif\" font-size=\"14.00\" fill=\"#000000\">class = WALKING</text>\n</g>\n<!-- 103&#45;&gt;107 -->\n<g id=\"edge107\" class=\"edge\">\n<title>103&#45;&gt;107</title>\n<path fill=\"none\" stroke=\"#000000\" d=\"M7631.024,-345.5205C7673.9583,-332.6833 7722.0586,-318.3016 7765.683,-305.2581\"/>\n<polygon fill=\"#000000\" stroke=\"#000000\" points=\"7766.9217,-308.5409 7775.4999,-302.3229 7764.9164,-301.8343 7766.9217,-308.5409\"/>\n</g>\n<!-- 105 -->\n<g id=\"node106\" class=\"node\">\n<title>105</title>\n<polygon fill=\"#9de539\" stroke=\"#000000\" points=\"7509,-179.5 7297,-179.5 7297,-111.5 7509,-111.5 7509,-179.5\"/>\n<text text-anchor=\"middle\" x=\"7403\" y=\"-164.3\" font-family=\"Helvetica,sans-Serif\" font-size=\"14.00\" fill=\"#000000\">gini = 0.0</text>\n<text text-anchor=\"middle\" x=\"7403\" y=\"-149.3\" font-family=\"Helvetica,sans-Serif\" font-size=\"14.00\" fill=\"#000000\">samples = 11</text>\n<text text-anchor=\"middle\" x=\"7403\" y=\"-134.3\" font-family=\"Helvetica,sans-Serif\" font-size=\"14.00\" fill=\"#000000\">value = [0, 11, 0, 0, 0, 0]</text>\n<text text-anchor=\"middle\" x=\"7403\" y=\"-119.3\" font-family=\"Helvetica,sans-Serif\" font-size=\"14.00\" fill=\"#000000\">class = WALKING_UPSTAIRS</text>\n</g>\n<!-- 104&#45;&gt;105 -->\n<g id=\"edge105\" class=\"edge\">\n<title>104&#45;&gt;105</title>\n<path fill=\"none\" stroke=\"#000000\" d=\"M7468.6751,-222.8796C7458.969,-211.4436 7448.4384,-199.0363 7438.7107,-187.575\"/>\n<polygon fill=\"#000000\" stroke=\"#000000\" points=\"7441.2638,-185.1743 7432.1244,-179.8149 7435.9269,-189.7039 7441.2638,-185.1743\"/>\n</g>\n<!-- 106 -->\n<g id=\"node107\" class=\"node\">\n<title>106</title>\n<polygon fill=\"#39e581\" stroke=\"#000000\" points=\"7765,-179.5 7527,-179.5 7527,-111.5 7765,-111.5 7765,-179.5\"/>\n<text text-anchor=\"middle\" x=\"7646\" y=\"-164.3\" font-family=\"Helvetica,sans-Serif\" font-size=\"14.00\" fill=\"#000000\">gini = 0.0</text>\n<text text-anchor=\"middle\" x=\"7646\" y=\"-149.3\" font-family=\"Helvetica,sans-Serif\" font-size=\"14.00\" fill=\"#000000\">samples = 5</text>\n<text text-anchor=\"middle\" x=\"7646\" y=\"-134.3\" font-family=\"Helvetica,sans-Serif\" font-size=\"14.00\" fill=\"#000000\">value = [0, 0, 5, 0, 0, 0]</text>\n<text text-anchor=\"middle\" x=\"7646\" y=\"-119.3\" font-family=\"Helvetica,sans-Serif\" font-size=\"14.00\" fill=\"#000000\">class = WALKING_DOWNSTAIRS</text>\n</g>\n<!-- 104&#45;&gt;106 -->\n<g id=\"edge106\" class=\"edge\">\n<title>104&#45;&gt;106</title>\n<path fill=\"none\" stroke=\"#000000\" d=\"M7553.6647,-222.8796C7567.8358,-211.0038 7583.257,-198.0804 7597.3658,-186.2568\"/>\n<polygon fill=\"#000000\" stroke=\"#000000\" points=\"7599.6363,-188.9206 7605.0528,-179.8149 7595.1402,-183.5554 7599.6363,-188.9206\"/>\n</g>\n<!-- 108 -->\n<g id=\"node109\" class=\"node\">\n<title>108</title>\n<polygon fill=\"#39e581\" stroke=\"#000000\" points=\"8021,-179.5 7783,-179.5 7783,-111.5 8021,-111.5 8021,-179.5\"/>\n<text text-anchor=\"middle\" x=\"7902\" y=\"-164.3\" font-family=\"Helvetica,sans-Serif\" font-size=\"14.00\" fill=\"#000000\">gini = 0.0</text>\n<text text-anchor=\"middle\" x=\"7902\" y=\"-149.3\" font-family=\"Helvetica,sans-Serif\" font-size=\"14.00\" fill=\"#000000\">samples = 3</text>\n<text text-anchor=\"middle\" x=\"7902\" y=\"-134.3\" font-family=\"Helvetica,sans-Serif\" font-size=\"14.00\" fill=\"#000000\">value = [0, 0, 3, 0, 0, 0]</text>\n<text text-anchor=\"middle\" x=\"7902\" y=\"-119.3\" font-family=\"Helvetica,sans-Serif\" font-size=\"14.00\" fill=\"#000000\">class = WALKING_DOWNSTAIRS</text>\n</g>\n<!-- 107&#45;&gt;108 -->\n<g id=\"edge108\" class=\"edge\">\n<title>107&#45;&gt;108</title>\n<path fill=\"none\" stroke=\"#000000\" d=\"M7902,-222.8796C7902,-212.2134 7902,-200.7021 7902,-189.9015\"/>\n<polygon fill=\"#000000\" stroke=\"#000000\" points=\"7905.5001,-189.8149 7902,-179.8149 7898.5001,-189.815 7905.5001,-189.8149\"/>\n</g>\n<!-- 109 -->\n<g id=\"node110\" class=\"node\">\n<title>109</title>\n<polygon fill=\"#e5833c\" stroke=\"#000000\" points=\"8266.5,-187 8039.5,-187 8039.5,-104 8266.5,-104 8266.5,-187\"/>\n<text text-anchor=\"middle\" x=\"8153\" y=\"-171.8\" font-family=\"Helvetica,sans-Serif\" font-size=\"14.00\" fill=\"#000000\">tBodyAcc&#45;arCoeff()&#45;X,4 &lt;= 0.607</text>\n<text text-anchor=\"middle\" x=\"8153\" y=\"-156.8\" font-family=\"Helvetica,sans-Serif\" font-size=\"14.00\" fill=\"#000000\">gini = 0.032</text>\n<text text-anchor=\"middle\" x=\"8153\" y=\"-141.8\" font-family=\"Helvetica,sans-Serif\" font-size=\"14.00\" fill=\"#000000\">samples = 61</text>\n<text text-anchor=\"middle\" x=\"8153\" y=\"-126.8\" font-family=\"Helvetica,sans-Serif\" font-size=\"14.00\" fill=\"#000000\">value = [60, 0, 1, 0, 0, 0]</text>\n<text text-anchor=\"middle\" x=\"8153\" y=\"-111.8\" font-family=\"Helvetica,sans-Serif\" font-size=\"14.00\" fill=\"#000000\">class = WALKING</text>\n</g>\n<!-- 107&#45;&gt;109 -->\n<g id=\"edge109\" class=\"edge\">\n<title>107&#45;&gt;109</title>\n<path fill=\"none\" stroke=\"#000000\" d=\"M7989.7876,-222.8796C8011.1874,-212.7339 8034.2,-201.8235 8056.001,-191.4876\"/>\n<polygon fill=\"#000000\" stroke=\"#000000\" points=\"8057.7254,-194.5435 8065.2619,-187.0969 8054.7266,-188.2184 8057.7254,-194.5435\"/>\n</g>\n<!-- 110 -->\n<g id=\"node111\" class=\"node\">\n<title>110</title>\n<polygon fill=\"#e58139\" stroke=\"#000000\" points=\"8127,-68 7957,-68 7957,0 8127,0 8127,-68\"/>\n<text text-anchor=\"middle\" x=\"8042\" y=\"-52.8\" font-family=\"Helvetica,sans-Serif\" font-size=\"14.00\" fill=\"#000000\">gini = 0.0</text>\n<text text-anchor=\"middle\" x=\"8042\" y=\"-37.8\" font-family=\"Helvetica,sans-Serif\" font-size=\"14.00\" fill=\"#000000\">samples = 60</text>\n<text text-anchor=\"middle\" x=\"8042\" y=\"-22.8\" font-family=\"Helvetica,sans-Serif\" font-size=\"14.00\" fill=\"#000000\">value = [60, 0, 0, 0, 0, 0]</text>\n<text text-anchor=\"middle\" x=\"8042\" y=\"-7.8\" font-family=\"Helvetica,sans-Serif\" font-size=\"14.00\" fill=\"#000000\">class = WALKING</text>\n</g>\n<!-- 109&#45;&gt;110 -->\n<g id=\"edge110\" class=\"edge\">\n<title>109&#45;&gt;110</title>\n<path fill=\"none\" stroke=\"#000000\" d=\"M8111.6677,-103.9815C8102.4267,-94.6989 8092.6242,-84.8522 8083.3813,-75.5677\"/>\n<polygon fill=\"#000000\" stroke=\"#000000\" points=\"8085.6457,-72.8813 8076.11,-68.2637 8080.6848,-77.82 8085.6457,-72.8813\"/>\n</g>\n<!-- 111 -->\n<g id=\"node112\" class=\"node\">\n<title>111</title>\n<polygon fill=\"#39e581\" stroke=\"#000000\" points=\"8383,-68 8145,-68 8145,0 8383,0 8383,-68\"/>\n<text text-anchor=\"middle\" x=\"8264\" y=\"-52.8\" font-family=\"Helvetica,sans-Serif\" font-size=\"14.00\" fill=\"#000000\">gini = 0.0</text>\n<text text-anchor=\"middle\" x=\"8264\" y=\"-37.8\" font-family=\"Helvetica,sans-Serif\" font-size=\"14.00\" fill=\"#000000\">samples = 1</text>\n<text text-anchor=\"middle\" x=\"8264\" y=\"-22.8\" font-family=\"Helvetica,sans-Serif\" font-size=\"14.00\" fill=\"#000000\">value = [0, 0, 1, 0, 0, 0]</text>\n<text text-anchor=\"middle\" x=\"8264\" y=\"-7.8\" font-family=\"Helvetica,sans-Serif\" font-size=\"14.00\" fill=\"#000000\">class = WALKING_DOWNSTAIRS</text>\n</g>\n<!-- 109&#45;&gt;111 -->\n<g id=\"edge111\" class=\"edge\">\n<title>109&#45;&gt;111</title>\n<path fill=\"none\" stroke=\"#000000\" d=\"M8194.3323,-103.9815C8203.5733,-94.6989 8213.3758,-84.8522 8222.6187,-75.5677\"/>\n<polygon fill=\"#000000\" stroke=\"#000000\" points=\"8225.3152,-77.82 8229.89,-68.2637 8220.3543,-72.8813 8225.3152,-77.82\"/>\n</g>\n<!-- 113 -->\n<g id=\"node114\" class=\"node\">\n<title>113</title>\n<polygon fill=\"#44e788\" stroke=\"#000000\" points=\"8708.5,-544 8465.5,-544 8465.5,-461 8708.5,-461 8708.5,-544\"/>\n<text text-anchor=\"middle\" x=\"8587\" y=\"-528.8\" font-family=\"Helvetica,sans-Serif\" font-size=\"14.00\" fill=\"#000000\">tGravityAcc&#45;arCoeff()&#45;X,3 &lt;= &#45;0.445</text>\n<text text-anchor=\"middle\" x=\"8587\" y=\"-513.8\" font-family=\"Helvetica,sans-Serif\" font-size=\"14.00\" fill=\"#000000\">gini = 0.107</text>\n<text text-anchor=\"middle\" x=\"8587\" y=\"-498.8\" font-family=\"Helvetica,sans-Serif\" font-size=\"14.00\" fill=\"#000000\">samples = 860</text>\n<text text-anchor=\"middle\" x=\"8587\" y=\"-483.8\" font-family=\"Helvetica,sans-Serif\" font-size=\"14.00\" fill=\"#000000\">value = [17, 31, 812, 0, 0, 0]</text>\n<text text-anchor=\"middle\" x=\"8587\" y=\"-468.8\" font-family=\"Helvetica,sans-Serif\" font-size=\"14.00\" fill=\"#000000\">class = WALKING_DOWNSTAIRS</text>\n</g>\n<!-- 112&#45;&gt;113 -->\n<g id=\"edge113\" class=\"edge\">\n<title>112&#45;&gt;113</title>\n<path fill=\"none\" stroke=\"#000000\" d=\"M8587,-579.8796C8587,-571.6838 8587,-562.9891 8587,-554.5013\"/>\n<polygon fill=\"#000000\" stroke=\"#000000\" points=\"8590.5001,-554.298 8587,-544.2981 8583.5001,-554.2981 8590.5001,-554.298\"/>\n</g>\n<!-- 124 -->\n<g id=\"node125\" class=\"node\">\n<title>124</title>\n<polygon fill=\"#a7e84e\" stroke=\"#000000\" points=\"9119.5,-544 8814.5,-544 8814.5,-461 9119.5,-461 9119.5,-544\"/>\n<text text-anchor=\"middle\" x=\"8967\" y=\"-528.8\" font-family=\"Helvetica,sans-Serif\" font-size=\"14.00\" fill=\"#000000\">fBodyAccJerk&#45;bandsEnergy()&#45;1,24 &lt;= &#45;0.475</text>\n<text text-anchor=\"middle\" x=\"8967\" y=\"-513.8\" font-family=\"Helvetica,sans-Serif\" font-size=\"14.00\" fill=\"#000000\">gini = 0.182</text>\n<text text-anchor=\"middle\" x=\"8967\" y=\"-498.8\" font-family=\"Helvetica,sans-Serif\" font-size=\"14.00\" fill=\"#000000\">samples = 61</text>\n<text text-anchor=\"middle\" x=\"8967\" y=\"-483.8\" font-family=\"Helvetica,sans-Serif\" font-size=\"14.00\" fill=\"#000000\">value = [2, 55, 4, 0, 0, 0]</text>\n<text text-anchor=\"middle\" x=\"8967\" y=\"-468.8\" font-family=\"Helvetica,sans-Serif\" font-size=\"14.00\" fill=\"#000000\">class = WALKING_UPSTAIRS</text>\n</g>\n<!-- 112&#45;&gt;124 -->\n<g id=\"edge124\" class=\"edge\">\n<title>112&#45;&gt;124</title>\n<path fill=\"none\" stroke=\"#000000\" d=\"M8713.5345,-581.8747C8749.11,-570.734 8788.0392,-558.543 8824.4789,-547.1316\"/>\n<polygon fill=\"#000000\" stroke=\"#000000\" points=\"8825.687,-550.4209 8834.1841,-544.0924 8823.5951,-543.7408 8825.687,-550.4209\"/>\n</g>\n<!-- 114 -->\n<g id=\"node115\" class=\"node\">\n<title>114</title>\n<polygon fill=\"#42e687\" stroke=\"#000000\" points=\"8655,-425 8341,-425 8341,-342 8655,-342 8655,-425\"/>\n<text text-anchor=\"middle\" x=\"8498\" y=\"-409.8\" font-family=\"Helvetica,sans-Serif\" font-size=\"14.00\" fill=\"#000000\">fBodyAccJerk&#45;bandsEnergy()&#45;17,32 &lt;= &#45;0.964</text>\n<text text-anchor=\"middle\" x=\"8498\" y=\"-394.8\" font-family=\"Helvetica,sans-Serif\" font-size=\"14.00\" fill=\"#000000\">gini = 0.086</text>\n<text text-anchor=\"middle\" x=\"8498\" y=\"-379.8\" font-family=\"Helvetica,sans-Serif\" font-size=\"14.00\" fill=\"#000000\">samples = 847</text>\n<text text-anchor=\"middle\" x=\"8498\" y=\"-364.8\" font-family=\"Helvetica,sans-Serif\" font-size=\"14.00\" fill=\"#000000\">value = [7, 31, 809, 0, 0, 0]</text>\n<text text-anchor=\"middle\" x=\"8498\" y=\"-349.8\" font-family=\"Helvetica,sans-Serif\" font-size=\"14.00\" fill=\"#000000\">class = WALKING_DOWNSTAIRS</text>\n</g>\n<!-- 113&#45;&gt;114 -->\n<g id=\"edge114\" class=\"edge\">\n<title>113&#45;&gt;114</title>\n<path fill=\"none\" stroke=\"#000000\" d=\"M8555.8721,-460.8796C8549.271,-452.0534 8542.2371,-442.6485 8535.4298,-433.5466\"/>\n<polygon fill=\"#000000\" stroke=\"#000000\" points=\"8538.0528,-431.2099 8529.2607,-425.2981 8532.4472,-435.4024 8538.0528,-431.2099\"/>\n</g>\n<!-- 123 -->\n<g id=\"node124\" class=\"node\">\n<title>123</title>\n<polygon fill=\"#eda774\" stroke=\"#000000\" points=\"8843,-417.5 8673,-417.5 8673,-349.5 8843,-349.5 8843,-417.5\"/>\n<text text-anchor=\"middle\" x=\"8758\" y=\"-402.3\" font-family=\"Helvetica,sans-Serif\" font-size=\"14.00\" fill=\"#000000\">gini = 0.355</text>\n<text text-anchor=\"middle\" x=\"8758\" y=\"-387.3\" font-family=\"Helvetica,sans-Serif\" font-size=\"14.00\" fill=\"#000000\">samples = 13</text>\n<text text-anchor=\"middle\" x=\"8758\" y=\"-372.3\" font-family=\"Helvetica,sans-Serif\" font-size=\"14.00\" fill=\"#000000\">value = [10, 0, 3, 0, 0, 0]</text>\n<text text-anchor=\"middle\" x=\"8758\" y=\"-357.3\" font-family=\"Helvetica,sans-Serif\" font-size=\"14.00\" fill=\"#000000\">class = WALKING</text>\n</g>\n<!-- 113&#45;&gt;123 -->\n<g id=\"edge123\" class=\"edge\">\n<title>113&#45;&gt;123</title>\n<path fill=\"none\" stroke=\"#000000\" d=\"M8646.8075,-460.8796C8664.2715,-448.7263 8683.312,-435.4759 8700.622,-423.4297\"/>\n<polygon fill=\"#000000\" stroke=\"#000000\" points=\"8702.7572,-426.208 8708.9661,-417.623 8698.7587,-420.4623 8702.7572,-426.208\"/>\n</g>\n<!-- 115 -->\n<g id=\"node116\" class=\"node\">\n<title>115</title>\n<polygon fill=\"#f8fdf1\" stroke=\"#000000\" points=\"8632.5,-306 8363.5,-306 8363.5,-223 8632.5,-223 8632.5,-306\"/>\n<text text-anchor=\"middle\" x=\"8498\" y=\"-290.8\" font-family=\"Helvetica,sans-Serif\" font-size=\"14.00\" fill=\"#000000\">fBodyAcc&#45;bandsEnergy()&#45;1,8 &lt;= &#45;0.387</text>\n<text text-anchor=\"middle\" x=\"8498\" y=\"-275.8\" font-family=\"Helvetica,sans-Serif\" font-size=\"14.00\" fill=\"#000000\">gini = 0.499</text>\n<text text-anchor=\"middle\" x=\"8498\" y=\"-260.8\" font-family=\"Helvetica,sans-Serif\" font-size=\"14.00\" fill=\"#000000\">samples = 27</text>\n<text text-anchor=\"middle\" x=\"8498\" y=\"-245.8\" font-family=\"Helvetica,sans-Serif\" font-size=\"14.00\" fill=\"#000000\">value = [0, 14, 13, 0, 0, 0]</text>\n<text text-anchor=\"middle\" x=\"8498\" y=\"-230.8\" font-family=\"Helvetica,sans-Serif\" font-size=\"14.00\" fill=\"#000000\">class = WALKING_UPSTAIRS</text>\n</g>\n<!-- 114&#45;&gt;115 -->\n<g id=\"edge115\" class=\"edge\">\n<title>114&#45;&gt;115</title>\n<path fill=\"none\" stroke=\"#000000\" d=\"M8498,-341.8796C8498,-333.6838 8498,-324.9891 8498,-316.5013\"/>\n<polygon fill=\"#000000\" stroke=\"#000000\" points=\"8501.5001,-316.298 8498,-306.2981 8494.5001,-316.2981 8501.5001,-316.298\"/>\n</g>\n<!-- 118 -->\n<g id=\"node119\" class=\"node\">\n<title>118</title>\n<polygon fill=\"#3fe685\" stroke=\"#000000\" points=\"8996,-306 8758,-306 8758,-223 8996,-223 8996,-306\"/>\n<text text-anchor=\"middle\" x=\"8877\" y=\"-290.8\" font-family=\"Helvetica,sans-Serif\" font-size=\"14.00\" fill=\"#000000\">tBodyAccJerk&#45;max()&#45;X &lt;= &#45;0.512</text>\n<text text-anchor=\"middle\" x=\"8877\" y=\"-275.8\" font-family=\"Helvetica,sans-Serif\" font-size=\"14.00\" fill=\"#000000\">gini = 0.057</text>\n<text text-anchor=\"middle\" x=\"8877\" y=\"-260.8\" font-family=\"Helvetica,sans-Serif\" font-size=\"14.00\" fill=\"#000000\">samples = 820</text>\n<text text-anchor=\"middle\" x=\"8877\" y=\"-245.8\" font-family=\"Helvetica,sans-Serif\" font-size=\"14.00\" fill=\"#000000\">value = [7, 17, 796, 0, 0, 0]</text>\n<text text-anchor=\"middle\" x=\"8877\" y=\"-230.8\" font-family=\"Helvetica,sans-Serif\" font-size=\"14.00\" fill=\"#000000\">class = WALKING_DOWNSTAIRS</text>\n</g>\n<!-- 114&#45;&gt;118 -->\n<g id=\"edge118\" class=\"edge\">\n<title>114&#45;&gt;118</title>\n<path fill=\"none\" stroke=\"#000000\" d=\"M8630.2897,-341.9631C8668.5797,-329.9407 8710.3083,-316.8385 8748.3712,-304.8874\"/>\n<polygon fill=\"#000000\" stroke=\"#000000\" points=\"8749.4726,-308.2101 8757.9649,-301.8751 8747.3756,-301.5316 8749.4726,-308.2101\"/>\n</g>\n<!-- 116 -->\n<g id=\"node117\" class=\"node\">\n<title>116</title>\n<polygon fill=\"#9de539\" stroke=\"#000000\" points=\"8497,-179.5 8285,-179.5 8285,-111.5 8497,-111.5 8497,-179.5\"/>\n<text text-anchor=\"middle\" x=\"8391\" y=\"-164.3\" font-family=\"Helvetica,sans-Serif\" font-size=\"14.00\" fill=\"#000000\">gini = 0.0</text>\n<text text-anchor=\"middle\" x=\"8391\" y=\"-149.3\" font-family=\"Helvetica,sans-Serif\" font-size=\"14.00\" fill=\"#000000\">samples = 14</text>\n<text text-anchor=\"middle\" x=\"8391\" y=\"-134.3\" font-family=\"Helvetica,sans-Serif\" font-size=\"14.00\" fill=\"#000000\">value = [0, 14, 0, 0, 0, 0]</text>\n<text text-anchor=\"middle\" x=\"8391\" y=\"-119.3\" font-family=\"Helvetica,sans-Serif\" font-size=\"14.00\" fill=\"#000000\">class = WALKING_UPSTAIRS</text>\n</g>\n<!-- 115&#45;&gt;116 -->\n<g id=\"edge116\" class=\"edge\">\n<title>115&#45;&gt;116</title>\n<path fill=\"none\" stroke=\"#000000\" d=\"M8460.5766,-222.8796C8450.2939,-211.4436 8439.1377,-199.0363 8428.8321,-187.575\"/>\n<polygon fill=\"#000000\" stroke=\"#000000\" points=\"8431.1435,-184.9108 8421.8546,-179.8149 8425.9382,-189.5912 8431.1435,-184.9108\"/>\n</g>\n<!-- 117 -->\n<g id=\"node118\" class=\"node\">\n<title>117</title>\n<polygon fill=\"#39e581\" stroke=\"#000000\" points=\"8753,-179.5 8515,-179.5 8515,-111.5 8753,-111.5 8753,-179.5\"/>\n<text text-anchor=\"middle\" x=\"8634\" y=\"-164.3\" font-family=\"Helvetica,sans-Serif\" font-size=\"14.00\" fill=\"#000000\">gini = 0.0</text>\n<text text-anchor=\"middle\" x=\"8634\" y=\"-149.3\" font-family=\"Helvetica,sans-Serif\" font-size=\"14.00\" fill=\"#000000\">samples = 13</text>\n<text text-anchor=\"middle\" x=\"8634\" y=\"-134.3\" font-family=\"Helvetica,sans-Serif\" font-size=\"14.00\" fill=\"#000000\">value = [0, 0, 13, 0, 0, 0]</text>\n<text text-anchor=\"middle\" x=\"8634\" y=\"-119.3\" font-family=\"Helvetica,sans-Serif\" font-size=\"14.00\" fill=\"#000000\">class = WALKING_DOWNSTAIRS</text>\n</g>\n<!-- 115&#45;&gt;117 -->\n<g id=\"edge117\" class=\"edge\">\n<title>115&#45;&gt;117</title>\n<path fill=\"none\" stroke=\"#000000\" d=\"M8545.5662,-222.8796C8559.0128,-211.1138 8573.6347,-198.3197 8587.0451,-186.5855\"/>\n<polygon fill=\"#000000\" stroke=\"#000000\" points=\"8589.5619,-189.034 8594.7829,-179.8149 8584.9524,-183.766 8589.5619,-189.034\"/>\n</g>\n<!-- 119 -->\n<g id=\"node120\" class=\"node\">\n<title>119</title>\n<polygon fill=\"#def6bd\" stroke=\"#000000\" points=\"8983,-179.5 8771,-179.5 8771,-111.5 8983,-111.5 8983,-179.5\"/>\n<text text-anchor=\"middle\" x=\"8877\" y=\"-164.3\" font-family=\"Helvetica,sans-Serif\" font-size=\"14.00\" fill=\"#000000\">gini = 0.48</text>\n<text text-anchor=\"middle\" x=\"8877\" y=\"-149.3\" font-family=\"Helvetica,sans-Serif\" font-size=\"14.00\" fill=\"#000000\">samples = 5</text>\n<text text-anchor=\"middle\" x=\"8877\" y=\"-134.3\" font-family=\"Helvetica,sans-Serif\" font-size=\"14.00\" fill=\"#000000\">value = [2, 3, 0, 0, 0, 0]</text>\n<text text-anchor=\"middle\" x=\"8877\" y=\"-119.3\" font-family=\"Helvetica,sans-Serif\" font-size=\"14.00\" fill=\"#000000\">class = WALKING_UPSTAIRS</text>\n</g>\n<!-- 118&#45;&gt;119 -->\n<g id=\"edge119\" class=\"edge\">\n<title>118&#45;&gt;119</title>\n<path fill=\"none\" stroke=\"#000000\" d=\"M8877,-222.8796C8877,-212.2134 8877,-200.7021 8877,-189.9015\"/>\n<polygon fill=\"#000000\" stroke=\"#000000\" points=\"8880.5001,-189.8149 8877,-179.8149 8873.5001,-189.815 8880.5001,-189.8149\"/>\n</g>\n<!-- 120 -->\n<g id=\"node121\" class=\"node\">\n<title>120</title>\n<polygon fill=\"#3ee684\" stroke=\"#000000\" points=\"9239,-187 9001,-187 9001,-104 9239,-104 9239,-187\"/>\n<text text-anchor=\"middle\" x=\"9120\" y=\"-171.8\" font-family=\"Helvetica,sans-Serif\" font-size=\"14.00\" fill=\"#000000\">tBodyAcc&#45;max()&#45;X &lt;= 0.048</text>\n<text text-anchor=\"middle\" x=\"9120\" y=\"-156.8\" font-family=\"Helvetica,sans-Serif\" font-size=\"14.00\" fill=\"#000000\">gini = 0.046</text>\n<text text-anchor=\"middle\" x=\"9120\" y=\"-141.8\" font-family=\"Helvetica,sans-Serif\" font-size=\"14.00\" fill=\"#000000\">samples = 815</text>\n<text text-anchor=\"middle\" x=\"9120\" y=\"-126.8\" font-family=\"Helvetica,sans-Serif\" font-size=\"14.00\" fill=\"#000000\">value = [5, 14, 796, 0, 0, 0]</text>\n<text text-anchor=\"middle\" x=\"9120\" y=\"-111.8\" font-family=\"Helvetica,sans-Serif\" font-size=\"14.00\" fill=\"#000000\">class = WALKING_DOWNSTAIRS</text>\n</g>\n<!-- 118&#45;&gt;120 -->\n<g id=\"edge120\" class=\"edge\">\n<title>118&#45;&gt;120</title>\n<path fill=\"none\" stroke=\"#000000\" d=\"M8961.9896,-222.8796C8982.6148,-212.7791 9004.7875,-201.9209 9025.8099,-191.626\"/>\n<polygon fill=\"#000000\" stroke=\"#000000\" points=\"9027.6168,-194.6384 9035.0584,-187.0969 9024.5381,-188.3517 9027.6168,-194.6384\"/>\n</g>\n<!-- 121 -->\n<g id=\"node122\" class=\"node\">\n<title>121</title>\n<polygon fill=\"#cef29c\" stroke=\"#000000\" points=\"9104,-68 8892,-68 8892,0 9104,0 9104,-68\"/>\n<text text-anchor=\"middle\" x=\"8998\" y=\"-52.8\" font-family=\"Helvetica,sans-Serif\" font-size=\"14.00\" fill=\"#000000\">gini = 0.444</text>\n<text text-anchor=\"middle\" x=\"8998\" y=\"-37.8\" font-family=\"Helvetica,sans-Serif\" font-size=\"14.00\" fill=\"#000000\">samples = 3</text>\n<text text-anchor=\"middle\" x=\"8998\" y=\"-22.8\" font-family=\"Helvetica,sans-Serif\" font-size=\"14.00\" fill=\"#000000\">value = [1, 2, 0, 0, 0, 0]</text>\n<text text-anchor=\"middle\" x=\"8998\" y=\"-7.8\" font-family=\"Helvetica,sans-Serif\" font-size=\"14.00\" fill=\"#000000\">class = WALKING_UPSTAIRS</text>\n</g>\n<!-- 120&#45;&gt;121 -->\n<g id=\"edge121\" class=\"edge\">\n<title>120&#45;&gt;121</title>\n<path fill=\"none\" stroke=\"#000000\" d=\"M9074.5717,-103.9815C9064.2139,-94.5151 9053.2141,-84.462 9042.8794,-75.0168\"/>\n<polygon fill=\"#000000\" stroke=\"#000000\" points=\"9045.2331,-72.4264 9035.4903,-68.2637 9040.5107,-77.5935 9045.2331,-72.4264\"/>\n</g>\n<!-- 122 -->\n<g id=\"node123\" class=\"node\">\n<title>122</title>\n<polygon fill=\"#3de684\" stroke=\"#000000\" points=\"9360,-68 9122,-68 9122,0 9360,0 9360,-68\"/>\n<text text-anchor=\"middle\" x=\"9241\" y=\"-52.8\" font-family=\"Helvetica,sans-Serif\" font-size=\"14.00\" fill=\"#000000\">gini = 0.039</text>\n<text text-anchor=\"middle\" x=\"9241\" y=\"-37.8\" font-family=\"Helvetica,sans-Serif\" font-size=\"14.00\" fill=\"#000000\">samples = 812</text>\n<text text-anchor=\"middle\" x=\"9241\" y=\"-22.8\" font-family=\"Helvetica,sans-Serif\" font-size=\"14.00\" fill=\"#000000\">value = [4, 12, 796, 0, 0, 0]</text>\n<text text-anchor=\"middle\" x=\"9241\" y=\"-7.8\" font-family=\"Helvetica,sans-Serif\" font-size=\"14.00\" fill=\"#000000\">class = WALKING_DOWNSTAIRS</text>\n</g>\n<!-- 120&#45;&gt;122 -->\n<g id=\"edge122\" class=\"edge\">\n<title>120&#45;&gt;122</title>\n<path fill=\"none\" stroke=\"#000000\" d=\"M9165.0559,-103.9815C9175.2291,-94.607 9186.0267,-84.6572 9196.1898,-75.2921\"/>\n<polygon fill=\"#000000\" stroke=\"#000000\" points=\"9198.8349,-77.6141 9203.817,-68.2637 9194.0913,-72.4663 9198.8349,-77.6141\"/>\n</g>\n<!-- 125 -->\n<g id=\"node126\" class=\"node\">\n<title>125</title>\n<polygon fill=\"#9de539\" stroke=\"#000000\" points=\"9073,-417.5 8861,-417.5 8861,-349.5 9073,-349.5 9073,-417.5\"/>\n<text text-anchor=\"middle\" x=\"8967\" y=\"-402.3\" font-family=\"Helvetica,sans-Serif\" font-size=\"14.00\" fill=\"#000000\">gini = 0.0</text>\n<text text-anchor=\"middle\" x=\"8967\" y=\"-387.3\" font-family=\"Helvetica,sans-Serif\" font-size=\"14.00\" fill=\"#000000\">samples = 55</text>\n<text text-anchor=\"middle\" x=\"8967\" y=\"-372.3\" font-family=\"Helvetica,sans-Serif\" font-size=\"14.00\" fill=\"#000000\">value = [0, 55, 0, 0, 0, 0]</text>\n<text text-anchor=\"middle\" x=\"8967\" y=\"-357.3\" font-family=\"Helvetica,sans-Serif\" font-size=\"14.00\" fill=\"#000000\">class = WALKING_UPSTAIRS</text>\n</g>\n<!-- 124&#45;&gt;125 -->\n<g id=\"edge125\" class=\"edge\">\n<title>124&#45;&gt;125</title>\n<path fill=\"none\" stroke=\"#000000\" d=\"M8967,-460.8796C8967,-450.2134 8967,-438.7021 8967,-427.9015\"/>\n<polygon fill=\"#000000\" stroke=\"#000000\" points=\"8970.5001,-427.8149 8967,-417.8149 8963.5001,-427.815 8970.5001,-427.8149\"/>\n</g>\n<!-- 126 -->\n<g id=\"node127\" class=\"node\">\n<title>126</title>\n<polygon fill=\"#9cf2c0\" stroke=\"#000000\" points=\"9329,-417.5 9091,-417.5 9091,-349.5 9329,-349.5 9329,-417.5\"/>\n<text text-anchor=\"middle\" x=\"9210\" y=\"-402.3\" font-family=\"Helvetica,sans-Serif\" font-size=\"14.00\" fill=\"#000000\">gini = 0.444</text>\n<text text-anchor=\"middle\" x=\"9210\" y=\"-387.3\" font-family=\"Helvetica,sans-Serif\" font-size=\"14.00\" fill=\"#000000\">samples = 6</text>\n<text text-anchor=\"middle\" x=\"9210\" y=\"-372.3\" font-family=\"Helvetica,sans-Serif\" font-size=\"14.00\" fill=\"#000000\">value = [2, 0, 4, 0, 0, 0]</text>\n<text text-anchor=\"middle\" x=\"9210\" y=\"-357.3\" font-family=\"Helvetica,sans-Serif\" font-size=\"14.00\" fill=\"#000000\">class = WALKING_DOWNSTAIRS</text>\n</g>\n<!-- 124&#45;&gt;126 -->\n<g id=\"edge126\" class=\"edge\">\n<title>124&#45;&gt;126</title>\n<path fill=\"none\" stroke=\"#000000\" d=\"M9051.9896,-460.8796C9077.7093,-448.2843 9105.8352,-434.5107 9131.1363,-422.1205\"/>\n<polygon fill=\"#000000\" stroke=\"#000000\" points=\"9132.8786,-425.1645 9140.3202,-417.623 9129.7999,-418.8778 9132.8786,-425.1645\"/>\n</g>\n</g>\n</svg>\n"
          },
          "metadata": {},
          "execution_count": 36
        }
      ]
    },
    {
      "cell_type": "code",
      "metadata": {
        "id": "bFWkC82asB4p"
      },
      "source": [
        ""
      ],
      "execution_count": null,
      "outputs": []
    }
  ]
}