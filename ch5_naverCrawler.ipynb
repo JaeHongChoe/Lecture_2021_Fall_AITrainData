{
  "nbformat": 4,
  "nbformat_minor": 0,
  "metadata": {
    "colab": {
      "name": "ch5_naverCrawler.ipynb",
      "provenance": [],
      "collapsed_sections": []
    },
    "kernelspec": {
      "name": "python3",
      "display_name": "Python 3"
    },
    "language_info": {
      "name": "python"
    }
  },
  "cells": [
    {
      "cell_type": "code",
      "metadata": {
        "id": "LAL-wct9O-ZZ"
      },
      "source": [
        "import os\n",
        "import sys\n",
        "import urllib.request\n",
        "import datetime\n",
        "import time\n",
        "import json"
      ],
      "execution_count": 8,
      "outputs": []
    },
    {
      "cell_type": "code",
      "metadata": {
        "id": "eDRXdV3xPJNe"
      },
      "source": [
        "client_id = 'eG9_PaYuW0avp6Vmukzk' # 본인 id로 교체\n",
        "client_secret = 'Gt6eBqEYSS'"
      ],
      "execution_count": 16,
      "outputs": []
    },
    {
      "cell_type": "code",
      "metadata": {
        "id": "B1O2noMGPJod"
      },
      "source": [
        "#[CODE 1]\n",
        "def getRequestUrl(url):    \n",
        "    req = urllib.request.Request(url)\n",
        "    req.add_header(\"X-Naver-Client-Id\", client_id)\n",
        "    req.add_header(\"X-Naver-Client-Secret\", client_secret)\n",
        "    \n",
        "    try: \n",
        "        response = urllib.request.urlopen(req)\n",
        "        if response.getcode() == 200:\n",
        "            print (\"[%s] Url Request Success\" % datetime.datetime.now())\n",
        "            return response.read().decode('utf-8')\n",
        "    except Exception as e:\n",
        "        print(e)\n",
        "        print(\"[%s] Error for URL : %s\" % (datetime.datetime.now(), url))\n",
        "        return None"
      ],
      "execution_count": 17,
      "outputs": []
    },
    {
      "cell_type": "code",
      "metadata": {
        "id": "kp0ymL4kPLrh"
      },
      "source": [
        "#[CODE 2]\n",
        "def getNaverSearch(node, srcText, start, display):    \n",
        "    base = \"https://openapi.naver.com/v1/search\"\n",
        "    node = \"/%s.json\" % node\n",
        "    parameters = \"?query=%s&start=%s&display=%s\" % (urllib.parse.quote(srcText), start, display)\n",
        "    \n",
        "    url = base + node + parameters    \n",
        "    responseDecode = getRequestUrl(url)   #[CODE 1]\n",
        "    \n",
        "    if (responseDecode == None):\n",
        "        return None\n",
        "    else:\n",
        "        return json.loads(responseDecode)"
      ],
      "execution_count": 18,
      "outputs": []
    },
    {
      "cell_type": "code",
      "metadata": {
        "id": "1ezJfLAgPNHq"
      },
      "source": [
        "#[CODE 3]\n",
        "def getPostData(post, jsonResult, cnt):    \n",
        "    title = post['title']\n",
        "    description = post['description']\n",
        "    org_link = post['originallink']\n",
        "    link = post['link']\n",
        "    \n",
        "    pDate = datetime.datetime.strptime(post['pubDate'],  '%a, %d %b %Y %H:%M:%S +0900')\n",
        "    pDate = pDate.strftime('%Y-%m-%d %H:%M:%S')\n",
        "    \n",
        "    jsonResult.append({'cnt':cnt, 'title':title, 'description': description, \n",
        "'org_link':org_link,   'link': org_link,   'pDate':pDate})\n",
        "    return    "
      ],
      "execution_count": 19,
      "outputs": []
    },
    {
      "cell_type": "code",
      "metadata": {
        "id": "nDqQnStHPOox"
      },
      "source": [
        "#[CODE 0]\n",
        "def main():\n",
        "    node = 'news'   # 크롤링 할 대상\n",
        "    srcText = input('검색어를 입력하세요: ')\n",
        "    cnt = 0\n",
        "    jsonResult = []\n",
        "\n",
        "    jsonResponse = getNaverSearch(node, srcText, 1, 100)  #[CODE 2]\n",
        "    total = jsonResponse['total']\n",
        " \n",
        "    while ((jsonResponse != None) and (jsonResponse['display'] != 0)):         \n",
        "        for post in jsonResponse['items']:\n",
        "            cnt += 1\n",
        "            #print(post)\n",
        "            getPostData(post, jsonResult, cnt)  #[CODE 3]       \n",
        "        \n",
        "        start = jsonResponse['start'] + jsonResponse['display']\n",
        "        jsonResponse = getNaverSearch(node, srcText, start, 100)  #[CODE 2]\n",
        "       \n",
        "    print('전체 검색 : %d 건' %total)\n",
        "    \n",
        "    with open('%s_naver_%s.json' % (srcText, node), 'w', encoding='utf8') as outfile:\n",
        "        jsonFile = json.dumps(jsonResult,  indent=4, sort_keys=True,  ensure_ascii=False)\n",
        "                        \n",
        "        outfile.write(jsonFile)\n",
        "        \n",
        "    print(\"가져온 데이터 : %d 건\" %(cnt))\n",
        "    print ('%s_naver_%s.json SAVED' % (srcText, node))"
      ],
      "execution_count": 24,
      "outputs": []
    },
    {
      "cell_type": "code",
      "metadata": {
        "colab": {
          "base_uri": "https://localhost:8080/"
        },
        "id": "8879cujgPREx",
        "outputId": "7590461a-a3df-480a-daeb-0fd0bb04e71d"
      },
      "source": [
        "if __name__ == '__main__':\n",
        "    main()"
      ],
      "execution_count": 28,
      "outputs": [
        {
          "output_type": "stream",
          "name": "stdout",
          "text": [
            "검색어를 입력하세요: 백신\n",
            "[2021-10-28 15:20:05.497259] Url Request Success\n",
            "[2021-10-28 15:20:06.611535] Url Request Success\n",
            "[2021-10-28 15:20:07.749042] Url Request Success\n",
            "[2021-10-28 15:20:08.865117] Url Request Success\n",
            "[2021-10-28 15:20:10.179188] Url Request Success\n",
            "[2021-10-28 15:20:11.310525] Url Request Success\n",
            "[2021-10-28 15:20:12.412643] Url Request Success\n",
            "[2021-10-28 15:20:13.519542] Url Request Success\n",
            "[2021-10-28 15:20:14.616873] Url Request Success\n",
            "[2021-10-28 15:20:15.922532] Url Request Success\n",
            "HTTP Error 400: Bad Request\n",
            "[2021-10-28 15:20:16.774185] Error for URL : https://openapi.naver.com/v1/search/news.json?query=%EB%B0%B1%EC%8B%A0&start=1001&display=100\n",
            "전체 검색 : 1298004 건\n",
            "가져온 데이터 : 1000 건\n",
            "백신_naver_news.json SAVED\n"
          ]
        }
      ]
    },
    {
      "cell_type": "code",
      "metadata": {
        "id": "B0JW7jhLd6Tr"
      },
      "source": [
        ""
      ],
      "execution_count": null,
      "outputs": []
    }
  ]
}